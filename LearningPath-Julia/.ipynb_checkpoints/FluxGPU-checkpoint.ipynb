{
 "cells": [
  {
   "cell_type": "code",
   "execution_count": null,
   "metadata": {},
   "outputs": [
    {
     "name": "stdout",
     "output_type": "stream",
     "text": [
      "\u001b[32m\u001b[1m Resolving\u001b[22m\u001b[39m package versions...\n",
      "\u001b[32m\u001b[1m Installed\u001b[22m\u001b[39m ImageMagick ─ v0.7.5\n",
      "\u001b[32m\u001b[1m  Updating\u001b[22m\u001b[39m `~/.julia/environments/v1.2/Project.toml`\n",
      " \u001b[90m [6218d12a]\u001b[39m\u001b[92m + ImageMagick v0.7.5\u001b[39m\n",
      "\u001b[32m\u001b[1m  Updating\u001b[22m\u001b[39m `~/.julia/environments/v1.2/Manifest.toml`\n",
      " \u001b[90m [6218d12a]\u001b[39m\u001b[92m + ImageMagick v0.7.5\u001b[39m\n",
      "\u001b[32m\u001b[1m  Building\u001b[22m\u001b[39m ImageMagick → `~/.julia/packages/ImageMagick/vMfoS/deps/build.log`\n"
     ]
    }
   ],
   "source": [
    "using Pkg\n",
    "#Pkg.add(\"FileIO\")\n",
    "#Pkg.add(\"Colors\")\n",
    "#Pkg.add(\"GPUArrays\")\n",
    "#Pkg.add(\"BenchmarkTools\")\n",
    "#Pkg.add(\"ImageShow\")\n",
    "#Pkg.add(\"ImageMagick\")"
   ]
  },
  {
   "cell_type": "code",
   "execution_count": 10,
   "metadata": {},
   "outputs": [
    {
     "data": {
      "text/plain": [
       "\"GeForce GTX 1060\""
      ]
     },
     "execution_count": 10,
     "metadata": {},
     "output_type": "execute_result"
    }
   ],
   "source": [
    "using CUDAdrv; CUDAdrv.name(CuDevice(0))"
   ]
  },
  {
   "cell_type": "code",
   "execution_count": 11,
   "metadata": {},
   "outputs": [
    {
     "name": "stderr",
     "output_type": "stream",
     "text": [
      "┌ Info: Precompiling BenchmarkTools [6e4b80f9-dd63-53aa-95a3-0cdb28fa8baf]\n",
      "└ @ Base loading.jl:1242\n",
      "┌ Info: Precompiling ImageShow [4e3cecfd-b093-5904-9786-8bbb286a6a31]\n",
      "└ @ Base loading.jl:1242\n"
     ]
    }
   ],
   "source": [
    "using CuArrays, FileIO, Colors, GPUArrays, BenchmarkTools, ImageShow\n",
    "using CuArrays: CuArray"
   ]
  },
  {
   "cell_type": "code",
   "execution_count": 12,
   "metadata": {},
   "outputs": [
    {
     "data": {
      "text/plain": [
       "run_bench (generic function with 1 method)"
      ]
     },
     "execution_count": 12,
     "metadata": {},
     "output_type": "execute_result"
    }
   ],
   "source": [
    "#The function calculating the Julia set\n",
    "function juliaset(z0, maxiter)\n",
    "    c = ComplexF32(-0.5, 0.75)\n",
    "    z = z0\n",
    "    for i in 1:maxiter\n",
    "        abs2(z) > 4f0 && return (i - 1) % UInt8\n",
    "        z = z * z + c\n",
    "    end\n",
    "    return maxiter % UInt8 # % is used to convert without overflow check\n",
    "end\n",
    "\n",
    "range = 100:50:2^12\n",
    "cutimes, jltimes = Float64[], Float64[]\n",
    "\n",
    "function run_bench(in, out)\n",
    "  # use dot syntax to apply `juliaset` to each elemt of q_converted \n",
    "  # and write the output to result\n",
    "  out .= juliaset.(in, 16)\n",
    "  # all calls to the GPU are scheduled asynchronous, \n",
    "  # so we need to synchronize\n",
    "  GPUArrays.synchronize(out)\n",
    "end"
   ]
  },
  {
   "cell_type": "code",
   "execution_count": 13,
   "metadata": {},
   "outputs": [],
   "source": [
    "# store a reference to the last results for plotting\n",
    "last_jl, last_cu = nothing, nothing\n",
    "for N in range\n",
    "  w, h = N, N\n",
    "  q = [ComplexF32(r, i) for i=1:-(2.0/w):-1, r=-1.5:(3.0/h):1.5]\n",
    "  for (times, Typ) in ((cutimes, CuArray), (jltimes, Array))\n",
    "    # convert to Array or CuArray - moving the calculation to CPU/GPU\n",
    "    q_converted = Typ(q)\n",
    "    result = Typ(zeros(UInt8, size(q)))\n",
    "    for i in 1:10 # 5 samples per size\n",
    "      # benchmarking macro, all variables need to be prefixed with $\n",
    "      t = Base.@elapsed begin\n",
    "        run_bench(q_converted, result)\n",
    "      end\n",
    "      global last_jl, last_cu # we're in local scope\n",
    "      if result isa CuArray\n",
    "        last_cu = result\n",
    "      else\n",
    "        last_jl = result\n",
    "      end\n",
    "        push!(times, t)\n",
    "    end\n",
    "  end\n",
    "end"
   ]
  },
  {
   "cell_type": "code",
   "execution_count": 14,
   "metadata": {},
   "outputs": [
    {
     "name": "stderr",
     "output_type": "stream",
     "text": [
      "┌ Info: For better quality inline display of large images or thumbnails, load the Images package.\n",
      "└ @ ImageShow /home/dreuter/.julia/packages/ImageShow/mnsZi/src/showmime.jl:130\n",
      "Errors encountered while saving nothing."
     ]
    },
    {
     "name": "stdout",
     "output_type": "stream",
     "text": [
      "All errors:\n",
      "   ArgumentError"
     ]
    },
    {
     "name": "stderr",
     "output_type": "stream",
     "text": [
      "\n"
     ]
    },
    {
     "name": "stdout",
     "output_type": "stream",
     "text": [
      "(\""
     ]
    },
    {
     "data": {
      "text/plain": [
       "4051×8102 Array{RGB{Float64},2} with eltype RGB{Float64}:\n",
       " RGB{Float64}(0.899674,0.972145,0.987777)  …  RGB{Float64}(0.899674,0.972145,0.987777)\n",
       " RGB{Float64}(0.899674,0.972145,0.987777)     RGB{Float64}(0.899674,0.972145,0.987777)\n",
       " RGB{Float64}(0.899674,0.972145,0.987777)     RGB{Float64}(0.899674,0.972145,0.987777)\n",
       " RGB{Float64}(0.899674,0.972145,0.987777)     RGB{Float64}(0.899674,0.972145,0.987777)\n",
       " RGB{Float64}(0.899674,0.972145,0.987777)     RGB{Float64}(0.899674,0.972145,0.987777)\n",
       " RGB{Float64}(0.899674,0.972145,0.987777)  …  RGB{Float64}(0.899674,0.972145,0.987777)\n",
       " RGB{Float64}(0.899674,0.972145,0.987777)     RGB{Float64}(0.899674,0.972145,0.987777)\n",
       " RGB{Float64}(0.899674,0.972145,0.987777)     RGB{Float64}(0.899674,0.972145,0.987777)\n",
       " RGB{Float64}(0.899674,0.972145,0.987777)     RGB{Float64}(0.899674,0.972145,0.987777)\n",
       " RGB{Float64}(0.899674,0.972145,0.987777)     RGB{Float64}(0.899674,0.972145,0.987777)\n",
       " RGB{Float64}(0.899674,0.972145,0.987777)  …  RGB{Float64}(0.899674,0.972145,0.987777)\n",
       " RGB{Float64}(0.899674,0.972145,0.987777)     RGB{Float64}(0.899674,0.972145,0.987777)\n",
       " RGB{Float64}(0.899674,0.972145,0.987777)     RGB{Float64}(0.899674,0.972145,0.987777)\n",
       " ⋮                                         ⋱                                          \n",
       " RGB{Float64}(0.899674,0.972145,0.987777)     RGB{Float64}(0.899674,0.972145,0.987777)\n",
       " RGB{Float64}(0.899674,0.972145,0.987777)  …  RGB{Float64}(0.899674,0.972145,0.987777)\n",
       " RGB{Float64}(0.899674,0.972145,0.987777)     RGB{Float64}(0.899674,0.972145,0.987777)\n",
       " RGB{Float64}(0.899674,0.972145,0.987777)     RGB{Float64}(0.899674,0.972145,0.987777)\n",
       " RGB{Float64}(0.899674,0.972145,0.987777)     RGB{Float64}(0.899674,0.972145,0.987777)\n",
       " RGB{Float64}(0.899674,0.972145,0.987777)     RGB{Float64}(0.899674,0.972145,0.987777)\n",
       " RGB{Float64}(0.899674,0.972145,0.987777)  …  RGB{Float64}(0.899674,0.972145,0.987777)\n",
       " RGB{Float64}(0.899674,0.972145,0.987777)     RGB{Float64}(0.899674,0.972145,0.987777)\n",
       " RGB{Float64}(0.899674,0.972145,0.987777)     RGB{Float64}(0.899674,0.972145,0.987777)\n",
       " RGB{Float64}(0.899674,0.972145,0.987777)     RGB{Float64}(0.899674,0.972145,0.987777)\n",
       " RGB{Float64}(0.899674,0.972145,0.987777)     RGB{Float64}(0.899674,0.972145,0.987777)\n",
       " RGB{Float64}(0.899674,0.972145,0.987777)  …  RGB{Float64}(0.899674,0.972145,0.987777)"
      ]
     },
     "execution_count": 14,
     "metadata": {},
     "output_type": "execute_result"
    },
    {
     "name": "stdout",
     "output_type": "stream",
     "text": [
      "Package ImageMagick not found in current path:\\n- Run `import Pkg; Pkg.add(\\\"ImageMagick\\\")` to install the ImageMagick package.\\n\")\n",
      "   ErrorException(\"function save does not accept keyword arguments\")\n"
     ]
    },
    {
     "name": "stderr",
     "output_type": "stream",
     "text": [
      "Fatal error:\n"
     ]
    }
   ],
   "source": [
    "cu_jl = hcat(Array(last_cu), last_jl)\n",
    "cmap = colormap(\"Blues\", 16 + 1)\n",
    "color_lookup(val, cmap) = cmap[val + 1]\n",
    "color_lookup.(cu_jl, (cmap,))"
   ]
  },
  {
   "cell_type": "code",
   "execution_count": null,
   "metadata": {},
   "outputs": [],
   "source": []
  }
 ],
 "metadata": {
  "kernelspec": {
   "display_name": "Julia 1.2.0",
   "language": "julia",
   "name": "julia-1.2"
  },
  "language_info": {
   "file_extension": ".jl",
   "mimetype": "application/julia",
   "name": "julia",
   "version": "1.2.0"
  }
 },
 "nbformat": 4,
 "nbformat_minor": 4
}
