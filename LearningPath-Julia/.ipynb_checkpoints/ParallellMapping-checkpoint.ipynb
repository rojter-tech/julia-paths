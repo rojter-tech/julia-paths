{
 "cells": [
  {
   "cell_type": "code",
   "execution_count": null,
   "metadata": {},
   "outputs": [],
   "source": [
    "## Distributed package # works\n",
    "using Distributed\n",
    "n = Int(1e8)\n",
    "\n",
    "@time @sync nheads1 = @distributed (+) for i = 1:n; rand(Bool); end\n",
    "\n",
    "nheads2 = 0;\n",
    "@time for i = 1:n; global nheads2+=rand(Bool); end\n",
    "println(nheads2)\n",
    "\n",
    "## Show what worker that is involved\n",
    "n = 32\n",
    "a = zeros(n);\n",
    "Threads.@threads for i = 1:n\n",
    "    a[i] = Threads.threadid()\n",
    "end\n",
    "println(a)\n",
    "\n",
    "# Find out number of threads\n",
    "Threads.nthreads()\n",
    "\n",
    "# Distribute workers within for loop (Experimental only!)\n",
    "\n",
    "n = Int(1e8)\n",
    "\n",
    "sum = 0\n",
    "@time Threads.@threads for i = 1:n\n",
    "    global sum\n",
    "    sum+=rand(Bool)\n",
    "end\n",
    "println(sum)\n",
    "\n",
    "sum = 0\n",
    "@time for i = 1:n\n",
    "    global sum\n",
    "    sum+=rand(Bool)\n",
    "end\n",
    "println(sum)"
   ]
  },
  {
   "cell_type": "markdown",
   "metadata": {},
   "source": [
    "## Trying to map out distribution"
   ]
  },
  {
   "cell_type": "code",
   "execution_count": 6,
   "metadata": {},
   "outputs": [
    {
     "name": "stderr",
     "output_type": "stream",
     "text": [
      "WARNING: replacing module Counter.\n"
     ]
    },
    {
     "data": {
      "text/plain": [
       "8"
      ]
     },
     "execution_count": 6,
     "metadata": {},
     "output_type": "execute_result"
    }
   ],
   "source": [
    "using Distributed\n",
    "addprocs(1)\n",
    "rmprocs(workers())\n",
    "\n",
    "n_proc = 16\n",
    "addprocs(n_proc); # add number of worker processes\n",
    "@everywhere basepath = \"/home/dreuter/Github/julia-paths\"\n",
    "@everywhere thispath = \"/LearningPath-Julia/\"\n",
    "@everywhere fullpath = string(basepath,thispath)\n",
    "@everywhere include(string(fullpath,\"Counter.jl\"))\n",
    "Counter.count_heads(10)"
   ]
  },
  {
   "cell_type": "code",
   "execution_count": 22,
   "metadata": {},
   "outputs": [
    {
     "data": {
      "text/plain": [
       "parallel_map (generic function with 1 method)"
      ]
     },
     "execution_count": 22,
     "metadata": {},
     "output_type": "execute_result"
    }
   ],
   "source": [
    "function parallel_map(n,n_par)\n",
    "    joblist = []\n",
    "    n_job = Int(round(n/n_par))\n",
    "    for i = 1:n_par\n",
    "        push!(joblist, @spawn(Counter.count_heads(n_job)))\n",
    "    end\n",
    "    return joblist\n",
    "end"
   ]
  },
  {
   "cell_type": "code",
   "execution_count": 29,
   "metadata": {},
   "outputs": [
    {
     "name": "stdout",
     "output_type": "stream",
     "text": [
      "  0.003502 seconds (1.28 k allocations: 54.281 KiB)\n"
     ]
    },
    {
     "data": {
      "text/plain": [
       "16-element Array{Any,1}:\n",
       " Future(20, 1, 628, nothing)\n",
       " Future(21, 1, 629, nothing)\n",
       " Future(22, 1, 630, nothing)\n",
       " Future(23, 1, 631, nothing)\n",
       " Future(24, 1, 632, nothing)\n",
       " Future(25, 1, 633, nothing)\n",
       " Future(26, 1, 634, nothing)\n",
       " Future(27, 1, 635, nothing)\n",
       " Future(28, 1, 636, nothing)\n",
       " Future(29, 1, 637, nothing)\n",
       " Future(30, 1, 638, nothing)\n",
       " Future(31, 1, 639, nothing)\n",
       " Future(32, 1, 640, nothing)\n",
       " Future(33, 1, 641, nothing)\n",
       " Future(34, 1, 642, nothing)\n",
       " Future(35, 1, 643, nothing)"
      ]
     },
     "execution_count": 29,
     "metadata": {},
     "output_type": "execute_result"
    }
   ],
   "source": [
    "n_par = 16\n",
    "n = Int(2e10);\n",
    "@time joblist = parallel_map(n,n_par)"
   ]
  },
  {
   "cell_type": "markdown",
   "metadata": {},
   "source": [
    "## Compare with and without parallell jobs"
   ]
  },
  {
   "cell_type": "code",
   "execution_count": 30,
   "metadata": {},
   "outputs": [
    {
     "name": "stdout",
     "output_type": "stream",
     "text": [
      "  5.127564 seconds (1.53 k allocations: 53.188 KiB)\n"
     ]
    },
    {
     "data": {
      "text/plain": [
       "10000089380"
      ]
     },
     "execution_count": 30,
     "metadata": {},
     "output_type": "execute_result"
    }
   ],
   "source": [
    "@time sum(map(fetch, joblist))"
   ]
  },
  {
   "cell_type": "code",
   "execution_count": null,
   "metadata": {},
   "outputs": [],
   "source": [
    "@time Counter.count_heads(n)"
   ]
  },
  {
   "cell_type": "code",
   "execution_count": null,
   "metadata": {},
   "outputs": [],
   "source": []
  },
  {
   "cell_type": "code",
   "execution_count": 6,
   "metadata": {},
   "outputs": [],
   "source": [
    ";git add ."
   ]
  },
  {
   "cell_type": "code",
   "execution_count": 7,
   "metadata": {},
   "outputs": [
    {
     "name": "stdout",
     "output_type": "stream",
     "text": [
      "[master c2f2842] add\n",
      " 2 files changed, 77 insertions(+), 35 deletions(-)\n"
     ]
    }
   ],
   "source": [
    ";git commit -m \"add\""
   ]
  },
  {
   "cell_type": "code",
   "execution_count": null,
   "metadata": {},
   "outputs": [],
   "source": []
  }
 ],
 "metadata": {
  "kernelspec": {
   "display_name": "Julia 1.1.1",
   "language": "julia",
   "name": "julia-1.1"
  },
  "language_info": {
   "file_extension": ".jl",
   "mimetype": "application/julia",
   "name": "julia",
   "version": "1.1.1"
  }
 },
 "nbformat": 4,
 "nbformat_minor": 2
}
