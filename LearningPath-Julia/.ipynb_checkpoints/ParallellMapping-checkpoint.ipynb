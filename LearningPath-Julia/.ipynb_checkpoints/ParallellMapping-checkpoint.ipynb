{
 "cells": [
  {
   "cell_type": "code",
   "execution_count": 14,
   "metadata": {},
   "outputs": [
    {
     "data": {
      "text/plain": [
       "16"
      ]
     },
     "execution_count": 14,
     "metadata": {},
     "output_type": "execute_result"
    }
   ],
   "source": [
    "Threads.nthreads()"
   ]
  },
  {
   "cell_type": "markdown",
   "metadata": {},
   "source": [
    "## Distributed package # works"
   ]
  },
  {
   "cell_type": "code",
   "execution_count": 22,
   "metadata": {},
   "outputs": [
    {
     "name": "stdout",
     "output_type": "stream",
     "text": [
      "  1.954359 seconds (527.84 k allocations: 26.720 MiB)\n"
     ]
    },
    {
     "data": {
      "text/plain": [
       "50004879"
      ]
     },
     "execution_count": 22,
     "metadata": {},
     "output_type": "execute_result"
    }
   ],
   "source": [
    "using Distributed\n",
    "n = 1e8\n",
    "@time @sync nheads1 = @distributed (+) for i = 1:n; rand(Bool); end"
   ]
  },
  {
   "cell_type": "code",
   "execution_count": 10,
   "metadata": {},
   "outputs": [
    {
     "name": "stdout",
     "output_type": "stream",
     "text": [
      " 22.553226 seconds (400.00 M allocations: 7.451 GiB, 3.59% gc time)\n",
      "49993103\n"
     ]
    }
   ],
   "source": [
    "nheads2 = 0;\n",
    "@time for i = 1:n; global nheads2+=rand(Bool); end\n",
    "println(nheads2)"
   ]
  },
  {
   "cell_type": "markdown",
   "metadata": {},
   "source": [
    "### Distribute workers within for loop (Experimental only!)"
   ]
  },
  {
   "cell_type": "code",
   "execution_count": 32,
   "metadata": {
    "scrolled": true
   },
   "outputs": [
    {
     "name": "stdout",
     "output_type": "stream",
     "text": [
      "  3.685583 seconds (2.60 M allocations: 43.649 MiB)\n",
      "516755\n"
     ]
    }
   ],
   "source": [
    "n = 1e7\n",
    "\n",
    "@everywhere s = 0\n",
    "@time Threads.@threads for i = 1:n\n",
    "    global s\n",
    "    s+=rand(Bool)\n",
    "end\n",
    "println(s)"
   ]
  },
  {
   "cell_type": "code",
   "execution_count": 33,
   "metadata": {},
   "outputs": [
    {
     "name": "stdout",
     "output_type": "stream",
     "text": [
      "  3.470345 seconds (40.00 M allocations: 762.916 MiB)\n",
      "4999000\n"
     ]
    }
   ],
   "source": [
    "sum = 0\n",
    "@time for i = 1:n\n",
    "    global sum\n",
    "    sum+=rand(Bool)\n",
    "end\n",
    "println(sum)"
   ]
  },
  {
   "cell_type": "code",
   "execution_count": 35,
   "metadata": {},
   "outputs": [
    {
     "name": "stdout",
     "output_type": "stream",
     "text": [
      "[1.0, 1.0, 2.0, 2.0, 3.0, 3.0, 4.0, 4.0, 5.0, 5.0, 6.0, 6.0, 7.0, 7.0, 8.0, 8.0, 9.0, 9.0, 10.0, 10.0, 11.0, 11.0, 12.0, 12.0, 13.0, 13.0, 14.0, 14.0, 15.0, 15.0, 16.0, 16.0]\n"
     ]
    }
   ],
   "source": [
    "## Show what threads that is involved\n",
    "n = 32\n",
    "a = zeros(n);\n",
    "Threads.@threads for i = 1:n\n",
    "    a[i] = Threads.threadid()\n",
    "end\n",
    "println(a)"
   ]
  },
  {
   "cell_type": "markdown",
   "metadata": {},
   "source": [
    "## Map out distributed jobs"
   ]
  },
  {
   "cell_type": "code",
   "execution_count": 1,
   "metadata": {},
   "outputs": [],
   "source": [
    "using Distributed\n",
    "addprocs(1)\n",
    "rmprocs(workers())\n",
    "n_proc = 16\n",
    "addprocs(n_proc); # add number of worker processes\n",
    "@everywhere basepath = \"/home/dreuter/Github/julia-paths\"\n",
    "@everywhere thispath = \"/LearningPath-Julia/\"\n",
    "@everywhere fullpath = string(basepath,thispath)"
   ]
  },
  {
   "cell_type": "code",
   "execution_count": 2,
   "metadata": {},
   "outputs": [],
   "source": [
    "@everywhere include(string(fullpath,\"Counter.jl\"))"
   ]
  },
  {
   "cell_type": "code",
   "execution_count": 8,
   "metadata": {},
   "outputs": [
    {
     "data": {
      "text/plain": [
       "94"
      ]
     },
     "execution_count": 8,
     "metadata": {},
     "output_type": "execute_result"
    }
   ],
   "source": [
    "Counter.count_heads(200)"
   ]
  },
  {
   "cell_type": "code",
   "execution_count": 9,
   "metadata": {},
   "outputs": [],
   "source": [
    "function parallel_map(n,n_par)\n",
    "    joblist = []\n",
    "    n_job = Int(round(n/n_par))\n",
    "    for i = 1:n_par\n",
    "        push!(joblist, @spawn(Counter.count_heads(n_job)))\n",
    "    end\n",
    "    return joblist\n",
    "end;"
   ]
  },
  {
   "cell_type": "code",
   "execution_count": 39,
   "metadata": {},
   "outputs": [],
   "source": [
    "n = 2e10;\n",
    "n_par = 16;"
   ]
  },
  {
   "cell_type": "markdown",
   "metadata": {},
   "source": [
    "## Compare with and without parallell jobs"
   ]
  },
  {
   "cell_type": "code",
   "execution_count": 40,
   "metadata": {},
   "outputs": [
    {
     "name": "stdout",
     "output_type": "stream",
     "text": [
      "  4.903298 seconds (1.53 k allocations: 53.281 KiB)\n",
      "1.0000050271e10\n"
     ]
    }
   ],
   "source": [
    "joblist = parallel_map(n,n_par);\n",
    "@time s = sum(map(fetch, joblist));\n",
    "println(round(s, digits=2))"
   ]
  },
  {
   "cell_type": "code",
   "execution_count": 38,
   "metadata": {},
   "outputs": [
    {
     "name": "stdout",
     "output_type": "stream",
     "text": [
      "  5.143058 seconds (5 allocations: 176 bytes)\n",
      "1.000009205e9\n"
     ]
    }
   ],
   "source": [
    "@time s = Counter.count_heads(n);\n",
    "println(round(s, digits=2))"
   ]
  },
  {
   "cell_type": "code",
   "execution_count": null,
   "metadata": {},
   "outputs": [],
   "source": []
  }
 ],
 "metadata": {
  "kernelspec": {
   "display_name": "Julia 1.1.1",
   "language": "julia",
   "name": "julia-1.1"
  },
  "language_info": {
   "file_extension": ".jl",
   "mimetype": "application/julia",
   "name": "julia",
   "version": "1.1.1"
  }
 },
 "nbformat": 4,
 "nbformat_minor": 2
}
