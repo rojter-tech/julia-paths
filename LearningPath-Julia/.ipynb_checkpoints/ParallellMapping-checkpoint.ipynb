{
 "cells": [
  {
   "cell_type": "code",
   "execution_count": 14,
   "metadata": {},
   "outputs": [
    {
     "data": {
      "text/plain": [
       "16"
      ]
     },
     "execution_count": 14,
     "metadata": {},
     "output_type": "execute_result"
    }
   ],
   "source": [
    "Threads.nthreads()"
   ]
  },
  {
   "cell_type": "markdown",
   "metadata": {},
   "source": [
    "## Distributed package # works"
   ]
  },
  {
   "cell_type": "code",
   "execution_count": 22,
   "metadata": {},
   "outputs": [
    {
     "name": "stdout",
     "output_type": "stream",
     "text": [
      "  1.954359 seconds (527.84 k allocations: 26.720 MiB)\n"
     ]
    },
    {
     "data": {
      "text/plain": [
       "50004879"
      ]
     },
     "execution_count": 22,
     "metadata": {},
     "output_type": "execute_result"
    }
   ],
   "source": [
    "using Distributed\n",
    "n = 1e8\n",
    "@time @sync nheads1 = @distributed (+) for i = 1:n; rand(Bool); end"
   ]
  },
  {
   "cell_type": "code",
   "execution_count": 10,
   "metadata": {},
   "outputs": [
    {
     "name": "stdout",
     "output_type": "stream",
     "text": [
      " 22.553226 seconds (400.00 M allocations: 7.451 GiB, 3.59% gc time)\n",
      "49993103\n"
     ]
    }
   ],
   "source": [
    "nheads2 = 0;\n",
    "@time for i = 1:n; global nheads2+=rand(Bool); end\n",
    "println(nheads2)"
   ]
  },
  {
   "cell_type": "markdown",
   "metadata": {},
   "source": [
    "### Distribute workers within for loop (Experimental only!)"
   ]
  },
  {
   "cell_type": "code",
   "execution_count": 32,
   "metadata": {
    "scrolled": true
   },
   "outputs": [
    {
     "name": "stdout",
     "output_type": "stream",
     "text": [
      "  3.685583 seconds (2.60 M allocations: 43.649 MiB)\n",
      "516755\n"
     ]
    }
   ],
   "source": [
    "n = 1e7\n",
    "\n",
    "@everywhere s = 0\n",
    "@time Threads.@threads for i = 1:n\n",
    "    global s\n",
    "    s+=rand(Bool)\n",
    "end\n",
    "println(s)"
   ]
  },
  {
   "cell_type": "code",
   "execution_count": 33,
   "metadata": {},
   "outputs": [
    {
     "name": "stdout",
     "output_type": "stream",
     "text": [
      "  3.470345 seconds (40.00 M allocations: 762.916 MiB)\n",
      "4999000\n"
     ]
    }
   ],
   "source": [
    "sum = 0\n",
    "@time for i = 1:n\n",
    "    global sum\n",
    "    sum+=rand(Bool)\n",
    "end\n",
    "println(sum)"
   ]
  },
  {
   "cell_type": "code",
   "execution_count": 35,
   "metadata": {},
   "outputs": [
    {
     "name": "stdout",
     "output_type": "stream",
     "text": [
      "[1.0, 1.0, 2.0, 2.0, 3.0, 3.0, 4.0, 4.0, 5.0, 5.0, 6.0, 6.0, 7.0, 7.0, 8.0, 8.0, 9.0, 9.0, 10.0, 10.0, 11.0, 11.0, 12.0, 12.0, 13.0, 13.0, 14.0, 14.0, 15.0, 15.0, 16.0, 16.0]\n"
     ]
    }
   ],
   "source": [
    "## Show what threads that is involved\n",
    "n = 32\n",
    "a = zeros(n);\n",
    "Threads.@threads for i = 1:n\n",
    "    a[i] = Threads.threadid()\n",
    "end\n",
    "println(a)"
   ]
  },
  {
   "cell_type": "markdown",
   "metadata": {},
   "source": [
    "## Map out distributed jobs"
   ]
  },
  {
   "cell_type": "code",
   "execution_count": 1,
   "metadata": {},
   "outputs": [],
   "source": [
    "using Distributed\n",
    "addprocs(1)\n",
    "rmprocs(workers())\n",
    "n_proc = 16\n",
    "addprocs(n_proc); # add number of worker processes\n",
    "@everywhere basepath = \"/home/dreuter/Github/julia-paths\"\n",
    "@everywhere thispath = \"/LearningPath-Julia/\"\n",
    "@everywhere fullpath = string(basepath,thispath)"
   ]
  },
  {
   "cell_type": "code",
   "execution_count": 2,
   "metadata": {},
   "outputs": [],
   "source": [
    "@everywhere include(string(fullpath,\"Counter.jl\"))"
   ]
  },
  {
   "cell_type": "code",
   "execution_count": 8,
   "metadata": {},
   "outputs": [
    {
     "data": {
      "text/plain": [
       "94"
      ]
     },
     "execution_count": 8,
     "metadata": {},
     "output_type": "execute_result"
    }
   ],
   "source": [
    "Counter.count_heads(200)"
   ]
  },
  {
   "cell_type": "code",
   "execution_count": 9,
   "metadata": {},
   "outputs": [],
   "source": [
    "function parallel_map(n,n_par)\n",
    "    joblist = []\n",
    "    n_job = Int(round(n/n_par))\n",
    "    for i = 1:n_par\n",
    "        push!(joblist, @spawn(Counter.count_heads(n_job)))\n",
    "    end\n",
    "    return joblist\n",
    "end;"
   ]
  },
  {
   "cell_type": "code",
   "execution_count": 39,
   "metadata": {},
   "outputs": [],
   "source": [
    "n = 2e10;\n",
    "n_par = 16;"
   ]
  },
  {
   "cell_type": "markdown",
   "metadata": {},
   "source": [
    "## Compare with and without parallell jobs"
   ]
  },
  {
   "cell_type": "code",
   "execution_count": 40,
   "metadata": {},
   "outputs": [
    {
     "name": "stdout",
     "output_type": "stream",
     "text": [
      "  4.903298 seconds (1.53 k allocations: 53.281 KiB)\n",
      "1.0000050271e10\n"
     ]
    }
   ],
   "source": [
    "joblist = parallel_map(n,n_par);\n",
    "@time s = sum(map(fetch, joblist));\n",
    "println(round(s, digits=2))"
   ]
  },
  {
   "cell_type": "code",
   "execution_count": 38,
   "metadata": {},
   "outputs": [
    {
     "name": "stdout",
     "output_type": "stream",
     "text": [
      "  5.143058 seconds (5 allocations: 176 bytes)\n",
      "1.000009205e9\n"
     ]
    }
   ],
   "source": [
    "@time s = Counter.count_heads(n);\n",
    "println(round(s, digits=2))"
   ]
  },
  {
   "cell_type": "markdown",
   "metadata": {},
   "source": [
    "## RemoteChannels"
   ]
  },
  {
   "cell_type": "code",
   "execution_count": 1,
   "metadata": {},
   "outputs": [
    {
     "data": {
      "text/plain": [
       "execute_tasks (generic function with 1 method)"
      ]
     },
     "execution_count": 1,
     "metadata": {},
     "output_type": "execute_result"
    }
   ],
   "source": [
    "using Distributed\n",
    "addprocs(1)\n",
    "rmprocs(workers())\n",
    "addprocs(16); # add number of worker processes\n",
    "\n",
    "@everywhere function count_heads(n)\n",
    "            c::Int = 0\n",
    "            for i = 1:n\n",
    "                c += rand(Bool)\n",
    "            end\n",
    "            return c\n",
    "        end\n",
    "\n",
    "@everywhere function do_flip_work(jobs, results, flips) # define work function everywhere\n",
    "            while true\n",
    "                job_id = take!(jobs)\n",
    "                nheads = count_heads(flips)\n",
    "                put!(results, (job_id, nheads, myid()))\n",
    "            end\n",
    "        end\n",
    "\n",
    "function make_jobs(n)\n",
    "    for i in 1:n\n",
    "        put!(jobs, i)\n",
    "    end\n",
    "end;\n",
    "\n",
    "function execute_tasks(n, flips)\n",
    "    @async make_jobs(n); # feed the jobs channel with \"n\" jobs\n",
    "    for p in workers() # start tasks on the workers to process requests in parallel\n",
    "        remote_do(do_flip_work, p, jobs, results, flips)\n",
    "    end\n",
    "end"
   ]
  },
  {
   "cell_type": "code",
   "execution_count": 7,
   "metadata": {},
   "outputs": [
    {
     "name": "stdout",
     "output_type": "stream",
     "text": [
      "Job 7 counts to 6.25006235e8 heads on worker 9\n",
      "Job 12 counts to 6.25014227e8 heads on worker 14\n",
      "Job 10 counts to 6.25002212e8 heads on worker 12\n",
      "Job 6 counts to 6.24972556e8 heads on worker 8\n",
      "Job 4 counts to 6.25016437e8 heads on worker 6\n",
      "Job 1 counts to 6.25010946e8 heads on worker 3\n",
      "Job 11 counts to 6.24965936e8 heads on worker 13\n",
      "Job 9 counts to 6.24965939e8 heads on worker 11\n",
      "Job 5 counts to 6.24988248e8 heads on worker 7\n",
      "Job 8 counts to 6.25005487e8 heads on worker 10\n",
      "Job 16 counts to 6.24987603e8 heads on worker 18\n",
      "Job 2 counts to 6.25011382e8 heads on worker 4\n",
      "Job 14 counts to 6.25009435e8 heads on worker 16\n",
      "Job 3 counts to 6.2500268e8 heads on worker 5\n",
      "Job 13 counts to 6.25008762e8 heads on worker 15\n",
      "Job 15 counts to 6.24966425e8 heads on worker 17\n",
      "  4.891964 seconds (3.90 k allocations: 167.969 KiB)\n",
      "The total number of heads is: 9.99993451e9\n"
     ]
    }
   ],
   "source": [
    "jobs = RemoteChannel(()->Channel{Int}(32));\n",
    "results = RemoteChannel(()->Channel{Tuple}(32));\n",
    "\n",
    "n_jobs = 16; # add number of jobs\n",
    "n_flips = 2e10\n",
    "execute_tasks(n_jobs, n_flips/n_jobs)\n",
    "\n",
    "# Display overall process and results\n",
    "s = 0;\n",
    "@time while n_jobs > 0 # print out results\n",
    "    global s\n",
    "    job_id, nheads, where = take!(results)\n",
    "    println(\"Job $job_id counts to $(round(nheads; digits=2)) heads on worker $where\")\n",
    "    s += nheads\n",
    "    global n_jobs -= 1\n",
    "end;\n",
    "println(\"The total number of heads is: $(round(s; digits=2))\");"
   ]
  },
  {
   "cell_type": "code",
   "execution_count": null,
   "metadata": {},
   "outputs": [],
   "source": []
  },
  {
   "cell_type": "code",
   "execution_count": null,
   "metadata": {},
   "outputs": [],
   "source": []
  },
  {
   "cell_type": "code",
   "execution_count": null,
   "metadata": {},
   "outputs": [],
   "source": []
  },
  {
   "cell_type": "code",
   "execution_count": null,
   "metadata": {},
   "outputs": [],
   "source": []
  }
 ],
 "metadata": {
  "kernelspec": {
   "display_name": "Julia 1.1.1",
   "language": "julia",
   "name": "julia-1.1"
  },
  "language_info": {
   "file_extension": ".jl",
   "mimetype": "application/julia",
   "name": "julia",
   "version": "1.1.1"
  }
 },
 "nbformat": 4,
 "nbformat_minor": 2
}
