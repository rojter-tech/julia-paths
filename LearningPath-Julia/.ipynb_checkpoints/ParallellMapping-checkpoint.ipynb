{
 "cells": [
  {
   "cell_type": "code",
   "execution_count": null,
   "metadata": {},
   "outputs": [],
   "source": [
    "## Distributed package # works\n",
    "using Distributed\n",
    "n = Int(1e8)\n",
    "\n",
    "@time @sync nheads1 = @distributed (+) for i = 1:n; rand(Bool); end\n",
    "\n",
    "nheads2 = 0;\n",
    "@time for i = 1:n; global nheads2+=rand(Bool); end\n",
    "println(nheads2)\n",
    "\n",
    "## Show what worker that is involved\n",
    "n = 32\n",
    "a = zeros(n);\n",
    "Threads.@threads for i = 1:n\n",
    "    a[i] = Threads.threadid()\n",
    "end\n",
    "println(a)\n",
    "\n",
    "# Find out number of threads\n",
    "Threads.nthreads()\n",
    "\n",
    "# Distribute workers within for loop (Experimental only!)\n",
    "\n",
    "n = Int(1e8)\n",
    "\n",
    "sum = 0\n",
    "@time Threads.@threads for i = 1:n\n",
    "    global sum\n",
    "    sum+=rand(Bool)\n",
    "end\n",
    "println(sum)\n",
    "\n",
    "sum = 0\n",
    "@time for i = 1:n\n",
    "    global sum\n",
    "    sum+=rand(Bool)\n",
    "end\n",
    "println(sum)"
   ]
  },
  {
   "cell_type": "code",
   "execution_count": 1,
   "metadata": {},
   "outputs": [],
   "source": [
    "# Trying to map out distribution\n",
    "using Distributed\n",
    "basepath = \"/home/dreuter/Github/julia-paths\"\n",
    "thispath = \"/LearningPath-Julia/\"\n",
    "fullpath = string(basepath,thispath)\n",
    "cd(fullpath)\n",
    "@everywhere include(string(fullpath,\"Counter.jl\"))"
   ]
  },
  {
   "cell_type": "code",
   "execution_count": 2,
   "metadata": {},
   "outputs": [
    {
     "data": {
      "text/plain": [
       "\"/home/dreuter/Github/julia-paths/LearningPath-Julia/\""
      ]
     },
     "execution_count": 2,
     "metadata": {},
     "output_type": "execute_result"
    }
   ],
   "source": [
    "fullpath"
   ]
  },
  {
   "cell_type": "code",
   "execution_count": 3,
   "metadata": {},
   "outputs": [
    {
     "data": {
      "text/plain": [
       "parallel_map (generic function with 1 method)"
      ]
     },
     "execution_count": 3,
     "metadata": {},
     "output_type": "execute_result"
    }
   ],
   "source": [
    "function parallel_map(n,n_par)\n",
    "    joblist = []\n",
    "    n_job = Int(round(n/n_par))\n",
    "    for i = 1:n_par\n",
    "        push!(joblist, @spawn Counter.count_heads(n_job))\n",
    "    end\n",
    "    return joblist\n",
    "end"
   ]
  },
  {
   "cell_type": "code",
   "execution_count": 4,
   "metadata": {},
   "outputs": [
    {
     "name": "stdout",
     "output_type": "stream",
     "text": [
      "  0.976738 seconds (1.49 M allocations: 74.345 MiB, 6.01% gc time)\n"
     ]
    },
    {
     "data": {
      "text/plain": [
       "16-element Array{Any,1}:\n",
       " Future(1, 1, 1, nothing) \n",
       " Future(1, 1, 2, nothing) \n",
       " Future(1, 1, 3, nothing) \n",
       " Future(1, 1, 4, nothing) \n",
       " Future(1, 1, 5, nothing) \n",
       " Future(1, 1, 6, nothing) \n",
       " Future(1, 1, 7, nothing) \n",
       " Future(1, 1, 8, nothing) \n",
       " Future(1, 1, 9, nothing) \n",
       " Future(1, 1, 10, nothing)\n",
       " Future(1, 1, 11, nothing)\n",
       " Future(1, 1, 12, nothing)\n",
       " Future(1, 1, 13, nothing)\n",
       " Future(1, 1, 14, nothing)\n",
       " Future(1, 1, 15, nothing)\n",
       " Future(1, 1, 16, nothing)"
      ]
     },
     "execution_count": 4,
     "metadata": {},
     "output_type": "execute_result"
    }
   ],
   "source": [
    "n = Int(1e12);\n",
    "@time joblist = parallel_map(n,16)"
   ]
  },
  {
   "cell_type": "markdown",
   "metadata": {},
   "source": [
    "## Compare with and without parallell jobs"
   ]
  },
  {
   "cell_type": "code",
   "execution_count": 5,
   "metadata": {},
   "outputs": [
    {
     "name": "stdout",
     "output_type": "stream",
     "text": [
      "  0.372606 seconds (197.02 k allocations: 9.913 MiB, 2.78% gc time)\n"
     ]
    },
    {
     "data": {
      "text/plain": [
       "4999969239"
      ]
     },
     "execution_count": 5,
     "metadata": {},
     "output_type": "execute_result"
    }
   ],
   "source": [
    "@time sum(map(fetch, joblist))"
   ]
  },
  {
   "cell_type": "code",
   "execution_count": 6,
   "metadata": {},
   "outputs": [
    {
     "name": "stdout",
     "output_type": "stream",
     "text": [
      " 24.923839 seconds (6 allocations: 256 bytes)\n"
     ]
    },
    {
     "data": {
      "text/plain": [
       "4999936214"
      ]
     },
     "execution_count": 6,
     "metadata": {},
     "output_type": "execute_result"
    }
   ],
   "source": [
    "@time Counter.count_heads(n)"
   ]
  },
  {
   "cell_type": "code",
   "execution_count": null,
   "metadata": {},
   "outputs": [],
   "source": []
  },
  {
   "cell_type": "code",
   "execution_count": null,
   "metadata": {},
   "outputs": [],
   "source": []
  }
 ],
 "metadata": {
  "kernelspec": {
   "display_name": "Julia 1.1.1",
   "language": "julia",
   "name": "julia-1.1"
  },
  "language_info": {
   "file_extension": ".jl",
   "mimetype": "application/julia",
   "name": "julia",
   "version": "1.1.1"
  }
 },
 "nbformat": 4,
 "nbformat_minor": 2
}
