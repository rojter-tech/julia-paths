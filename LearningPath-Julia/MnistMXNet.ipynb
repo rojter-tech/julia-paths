{
 "cells": [
  {
   "cell_type": "code",
   "execution_count": 1,
   "metadata": {},
   "outputs": [
    {
     "name": "stderr",
     "output_type": "stream",
     "text": [
      "┌ Info: Recompiling stale cache file /home/dreuter/.julia/compiled/v1.1/MXNet/Sc0jU.ji for MXNet [a7949054-b901-59c6-b8e3-7238c29bf7f0]\n",
      "└ @ Base loading.jl:1184\n"
     ]
    },
    {
     "data": {
      "text/plain": [
       "SymbolicNode fc3"
      ]
     },
     "execution_count": 1,
     "metadata": {},
     "output_type": "execute_result"
    }
   ],
   "source": [
    "using MXNet\n",
    "data = mx.Variable(:data)\n",
    "fc1  = mx.FullyConnected(data, name=:fc1, num_hidden=128)\n",
    "act1 = mx.Activation(fc1, name=:relu1, act_type=:relu)\n",
    "fc2  = mx.FullyConnected(act1, name=:fc2, num_hidden=64)\n",
    "act2 = mx.Activation(fc2, name=:relu2, act_type=:relu)\n",
    "fc3  = mx.FullyConnected(act2, name=:fc3, num_hidden=10)"
   ]
  },
  {
   "cell_type": "code",
   "execution_count": 2,
   "metadata": {},
   "outputs": [
    {
     "data": {
      "text/plain": [
       "(MXNet.mx.MXDataProvider(MXNet.mx.MX_DataIterHandle(Ptr{Nothing} @0x0000000003f91940), Tuple{Symbol,Tuple}[(:data, (784, 100))], Tuple{Symbol,Tuple}[(:softmax_label, (100,))], 100, true, true), MXNet.mx.MXDataProvider(MXNet.mx.MX_DataIterHandle(Ptr{Nothing} @0x00000000043d8b60), Tuple{Symbol,Tuple}[(:data, (784, 100))], Tuple{Symbol,Tuple}[(:softmax_label, (100,))], 100, true, true))"
      ]
     },
     "execution_count": 2,
     "metadata": {},
     "output_type": "execute_result"
    }
   ],
   "source": [
    "mlp  = mx.SoftmaxOutput(fc3, name=:softmax)\n",
    "mlp = @mx.chain mx.Variable(:data)             =>\n",
    "  mx.FullyConnected(name=:fc1, num_hidden=128) =>\n",
    "  mx.Activation(name=:relu1, act_type=:relu)   =>\n",
    "  mx.FullyConnected(name=:fc2, num_hidden=64)  =>\n",
    "  mx.Activation(name=:relu2, act_type=:relu)   =>\n",
    "  mx.FullyConnected(name=:fc3, num_hidden=10)  =>\n",
    "  mx.SoftmaxOutput(name=:softmax)\n",
    "batch_size = 100\n",
    "include(\"/home/dreuter/.julia/packages/MXNet/XoVCW/examples/mnist/mnist-data.jl\")\n",
    "train_provider, eval_provider = get_mnist_providers(batch_size)"
   ]
  },
  {
   "cell_type": "code",
   "execution_count": 3,
   "metadata": {},
   "outputs": [
    {
     "name": "stderr",
     "output_type": "stream",
     "text": [
      "┌ Info: Start training on Context[CPU0]\n",
      "└ @ MXNet.mx /home/dreuter/.julia/packages/MXNet/XoVCW/src/model.jl:367\n",
      "┌ Info: Initializing parameters...\n",
      "└ @ MXNet.mx /home/dreuter/.julia/packages/MXNet/XoVCW/src/model.jl:374\n",
      "┌ Info: Creating KVStore...\n",
      "└ @ MXNet.mx /home/dreuter/.julia/packages/MXNet/XoVCW/src/model.jl:380\n",
      "┌ Info: TempSpace: Total 0 MB allocated on CPU0\n",
      "└ @ MXNet.mx /home/dreuter/.julia/packages/MXNet/XoVCW/src/model.jl:416\n",
      "┌ Info: Start training...\n",
      "└ @ MXNet.mx /home/dreuter/.julia/packages/MXNet/XoVCW/src/model.jl:472\n",
      "┌ Info: == Epoch 001/020 ==========\n",
      "└ @ MXNet.mx /home/dreuter/.julia/packages/MXNet/XoVCW/src/model.jl:546\n",
      "┌ Info: ## Training summary\n",
      "└ @ MXNet.mx /home/dreuter/.julia/packages/MXNet/XoVCW/src/model.jl:548\n",
      "┌ Info:           accuracy = 0.7568\n",
      "└ @ MXNet.mx /home/dreuter/.julia/packages/MXNet/XoVCW/src/model.jl:550\n",
      "┌ Info:               time = 2.0402 seconds\n",
      "└ @ MXNet.mx /home/dreuter/.julia/packages/MXNet/XoVCW/src/model.jl:552\n",
      "┌ Info: ## Validation summary\n",
      "└ @ MXNet.mx /home/dreuter/.julia/packages/MXNet/XoVCW/src/model.jl:580\n",
      "┌ Info:           accuracy = 0.9493\n",
      "└ @ MXNet.mx /home/dreuter/.julia/packages/MXNet/XoVCW/src/model.jl:582\n",
      "┌ Info: == Epoch 002/020 ==========\n",
      "└ @ MXNet.mx /home/dreuter/.julia/packages/MXNet/XoVCW/src/model.jl:546\n",
      "┌ Info: ## Training summary\n",
      "└ @ MXNet.mx /home/dreuter/.julia/packages/MXNet/XoVCW/src/model.jl:548\n",
      "┌ Info:           accuracy = 0.9598\n",
      "└ @ MXNet.mx /home/dreuter/.julia/packages/MXNet/XoVCW/src/model.jl:550\n",
      "┌ Info:               time = 0.5629 seconds\n",
      "└ @ MXNet.mx /home/dreuter/.julia/packages/MXNet/XoVCW/src/model.jl:552\n",
      "┌ Info: ## Validation summary\n",
      "└ @ MXNet.mx /home/dreuter/.julia/packages/MXNet/XoVCW/src/model.jl:580\n",
      "┌ Info:           accuracy = 0.9637\n",
      "└ @ MXNet.mx /home/dreuter/.julia/packages/MXNet/XoVCW/src/model.jl:582\n",
      "┌ Info: == Epoch 003/020 ==========\n",
      "└ @ MXNet.mx /home/dreuter/.julia/packages/MXNet/XoVCW/src/model.jl:546\n",
      "┌ Info: ## Training summary\n",
      "└ @ MXNet.mx /home/dreuter/.julia/packages/MXNet/XoVCW/src/model.jl:548\n",
      "┌ Info:           accuracy = 0.9717\n",
      "└ @ MXNet.mx /home/dreuter/.julia/packages/MXNet/XoVCW/src/model.jl:550\n",
      "┌ Info:               time = 0.6045 seconds\n",
      "└ @ MXNet.mx /home/dreuter/.julia/packages/MXNet/XoVCW/src/model.jl:552\n",
      "┌ Info: ## Validation summary\n",
      "└ @ MXNet.mx /home/dreuter/.julia/packages/MXNet/XoVCW/src/model.jl:580\n",
      "┌ Info:           accuracy = 0.9574\n",
      "└ @ MXNet.mx /home/dreuter/.julia/packages/MXNet/XoVCW/src/model.jl:582\n",
      "┌ Info: == Epoch 004/020 ==========\n",
      "└ @ MXNet.mx /home/dreuter/.julia/packages/MXNet/XoVCW/src/model.jl:546\n",
      "┌ Info: ## Training summary\n",
      "└ @ MXNet.mx /home/dreuter/.julia/packages/MXNet/XoVCW/src/model.jl:548\n",
      "┌ Info:           accuracy = 0.9777\n",
      "└ @ MXNet.mx /home/dreuter/.julia/packages/MXNet/XoVCW/src/model.jl:550\n",
      "┌ Info:               time = 0.6065 seconds\n",
      "└ @ MXNet.mx /home/dreuter/.julia/packages/MXNet/XoVCW/src/model.jl:552\n",
      "┌ Info: ## Validation summary\n",
      "└ @ MXNet.mx /home/dreuter/.julia/packages/MXNet/XoVCW/src/model.jl:580\n",
      "┌ Info:           accuracy = 0.9698\n",
      "└ @ MXNet.mx /home/dreuter/.julia/packages/MXNet/XoVCW/src/model.jl:582\n",
      "┌ Info: == Epoch 005/020 ==========\n",
      "└ @ MXNet.mx /home/dreuter/.julia/packages/MXNet/XoVCW/src/model.jl:546\n",
      "┌ Info: ## Training summary\n",
      "└ @ MXNet.mx /home/dreuter/.julia/packages/MXNet/XoVCW/src/model.jl:548\n",
      "┌ Info:           accuracy = 0.9806\n",
      "└ @ MXNet.mx /home/dreuter/.julia/packages/MXNet/XoVCW/src/model.jl:550\n",
      "┌ Info:               time = 0.6673 seconds\n",
      "└ @ MXNet.mx /home/dreuter/.julia/packages/MXNet/XoVCW/src/model.jl:552\n",
      "┌ Info: ## Validation summary\n",
      "└ @ MXNet.mx /home/dreuter/.julia/packages/MXNet/XoVCW/src/model.jl:580\n",
      "┌ Info:           accuracy = 0.9688\n",
      "└ @ MXNet.mx /home/dreuter/.julia/packages/MXNet/XoVCW/src/model.jl:582\n",
      "┌ Info: == Epoch 006/020 ==========\n",
      "└ @ MXNet.mx /home/dreuter/.julia/packages/MXNet/XoVCW/src/model.jl:546\n",
      "┌ Info: ## Training summary\n",
      "└ @ MXNet.mx /home/dreuter/.julia/packages/MXNet/XoVCW/src/model.jl:548\n",
      "┌ Info:           accuracy = 0.9836\n",
      "└ @ MXNet.mx /home/dreuter/.julia/packages/MXNet/XoVCW/src/model.jl:550\n",
      "┌ Info:               time = 0.5920 seconds\n",
      "└ @ MXNet.mx /home/dreuter/.julia/packages/MXNet/XoVCW/src/model.jl:552\n",
      "┌ Info: ## Validation summary\n",
      "└ @ MXNet.mx /home/dreuter/.julia/packages/MXNet/XoVCW/src/model.jl:580\n",
      "┌ Info:           accuracy = 0.9672\n",
      "└ @ MXNet.mx /home/dreuter/.julia/packages/MXNet/XoVCW/src/model.jl:582\n",
      "┌ Info: == Epoch 007/020 ==========\n",
      "└ @ MXNet.mx /home/dreuter/.julia/packages/MXNet/XoVCW/src/model.jl:546\n",
      "┌ Info: ## Training summary\n",
      "└ @ MXNet.mx /home/dreuter/.julia/packages/MXNet/XoVCW/src/model.jl:548\n",
      "┌ Info:           accuracy = 0.9851\n",
      "└ @ MXNet.mx /home/dreuter/.julia/packages/MXNet/XoVCW/src/model.jl:550\n",
      "┌ Info:               time = 0.5931 seconds\n",
      "└ @ MXNet.mx /home/dreuter/.julia/packages/MXNet/XoVCW/src/model.jl:552\n",
      "┌ Info: ## Validation summary\n",
      "└ @ MXNet.mx /home/dreuter/.julia/packages/MXNet/XoVCW/src/model.jl:580\n",
      "┌ Info:           accuracy = 0.9641\n",
      "└ @ MXNet.mx /home/dreuter/.julia/packages/MXNet/XoVCW/src/model.jl:582\n",
      "┌ Info: == Epoch 008/020 ==========\n",
      "└ @ MXNet.mx /home/dreuter/.julia/packages/MXNet/XoVCW/src/model.jl:546\n",
      "┌ Info: ## Training summary\n",
      "└ @ MXNet.mx /home/dreuter/.julia/packages/MXNet/XoVCW/src/model.jl:548\n",
      "┌ Info:           accuracy = 0.9883\n",
      "└ @ MXNet.mx /home/dreuter/.julia/packages/MXNet/XoVCW/src/model.jl:550\n",
      "┌ Info:               time = 0.5682 seconds\n",
      "└ @ MXNet.mx /home/dreuter/.julia/packages/MXNet/XoVCW/src/model.jl:552\n",
      "┌ Info: ## Validation summary\n",
      "└ @ MXNet.mx /home/dreuter/.julia/packages/MXNet/XoVCW/src/model.jl:580\n",
      "┌ Info:           accuracy = 0.9749\n",
      "└ @ MXNet.mx /home/dreuter/.julia/packages/MXNet/XoVCW/src/model.jl:582\n",
      "┌ Info: == Epoch 009/020 ==========\n",
      "└ @ MXNet.mx /home/dreuter/.julia/packages/MXNet/XoVCW/src/model.jl:546\n",
      "┌ Info: ## Training summary\n",
      "└ @ MXNet.mx /home/dreuter/.julia/packages/MXNet/XoVCW/src/model.jl:548\n",
      "┌ Info:           accuracy = 0.9889\n",
      "└ @ MXNet.mx /home/dreuter/.julia/packages/MXNet/XoVCW/src/model.jl:550\n",
      "┌ Info:               time = 0.8403 seconds\n",
      "└ @ MXNet.mx /home/dreuter/.julia/packages/MXNet/XoVCW/src/model.jl:552\n",
      "┌ Info: ## Validation summary\n",
      "└ @ MXNet.mx /home/dreuter/.julia/packages/MXNet/XoVCW/src/model.jl:580\n",
      "┌ Info:           accuracy = 0.9711\n",
      "└ @ MXNet.mx /home/dreuter/.julia/packages/MXNet/XoVCW/src/model.jl:582\n",
      "┌ Info: == Epoch 010/020 ==========\n",
      "└ @ MXNet.mx /home/dreuter/.julia/packages/MXNet/XoVCW/src/model.jl:546\n",
      "┌ Info: ## Training summary\n",
      "└ @ MXNet.mx /home/dreuter/.julia/packages/MXNet/XoVCW/src/model.jl:548\n",
      "┌ Info:           accuracy = 0.9897\n",
      "└ @ MXNet.mx /home/dreuter/.julia/packages/MXNet/XoVCW/src/model.jl:550\n",
      "┌ Info:               time = 0.6613 seconds\n",
      "└ @ MXNet.mx /home/dreuter/.julia/packages/MXNet/XoVCW/src/model.jl:552\n",
      "┌ Info: ## Validation summary\n",
      "└ @ MXNet.mx /home/dreuter/.julia/packages/MXNet/XoVCW/src/model.jl:580\n",
      "┌ Info:           accuracy = 0.9727\n",
      "└ @ MXNet.mx /home/dreuter/.julia/packages/MXNet/XoVCW/src/model.jl:582\n",
      "┌ Info: == Epoch 011/020 ==========\n",
      "└ @ MXNet.mx /home/dreuter/.julia/packages/MXNet/XoVCW/src/model.jl:546\n",
      "┌ Info: ## Training summary\n",
      "└ @ MXNet.mx /home/dreuter/.julia/packages/MXNet/XoVCW/src/model.jl:548\n",
      "┌ Info:           accuracy = 0.9900\n",
      "└ @ MXNet.mx /home/dreuter/.julia/packages/MXNet/XoVCW/src/model.jl:550\n",
      "┌ Info:               time = 1.1862 seconds\n",
      "└ @ MXNet.mx /home/dreuter/.julia/packages/MXNet/XoVCW/src/model.jl:552\n",
      "┌ Info: ## Validation summary\n",
      "└ @ MXNet.mx /home/dreuter/.julia/packages/MXNet/XoVCW/src/model.jl:580\n",
      "┌ Info:           accuracy = 0.9751\n",
      "└ @ MXNet.mx /home/dreuter/.julia/packages/MXNet/XoVCW/src/model.jl:582\n",
      "┌ Info: == Epoch 012/020 ==========\n",
      "└ @ MXNet.mx /home/dreuter/.julia/packages/MXNet/XoVCW/src/model.jl:546\n",
      "┌ Info: ## Training summary\n",
      "└ @ MXNet.mx /home/dreuter/.julia/packages/MXNet/XoVCW/src/model.jl:548\n",
      "┌ Info:           accuracy = 0.9911\n",
      "└ @ MXNet.mx /home/dreuter/.julia/packages/MXNet/XoVCW/src/model.jl:550\n",
      "┌ Info:               time = 0.6173 seconds\n",
      "└ @ MXNet.mx /home/dreuter/.julia/packages/MXNet/XoVCW/src/model.jl:552\n",
      "┌ Info: ## Validation summary\n",
      "└ @ MXNet.mx /home/dreuter/.julia/packages/MXNet/XoVCW/src/model.jl:580\n",
      "┌ Info:           accuracy = 0.9776\n",
      "└ @ MXNet.mx /home/dreuter/.julia/packages/MXNet/XoVCW/src/model.jl:582\n",
      "┌ Info: == Epoch 013/020 ==========\n",
      "└ @ MXNet.mx /home/dreuter/.julia/packages/MXNet/XoVCW/src/model.jl:546\n",
      "┌ Info: ## Training summary\n",
      "└ @ MXNet.mx /home/dreuter/.julia/packages/MXNet/XoVCW/src/model.jl:548\n",
      "┌ Info:           accuracy = 0.9914\n",
      "└ @ MXNet.mx /home/dreuter/.julia/packages/MXNet/XoVCW/src/model.jl:550\n",
      "┌ Info:               time = 0.5543 seconds\n",
      "└ @ MXNet.mx /home/dreuter/.julia/packages/MXNet/XoVCW/src/model.jl:552\n",
      "┌ Info: ## Validation summary\n",
      "└ @ MXNet.mx /home/dreuter/.julia/packages/MXNet/XoVCW/src/model.jl:580\n",
      "┌ Info:           accuracy = 0.9725\n",
      "└ @ MXNet.mx /home/dreuter/.julia/packages/MXNet/XoVCW/src/model.jl:582\n",
      "┌ Info: == Epoch 014/020 ==========\n",
      "└ @ MXNet.mx /home/dreuter/.julia/packages/MXNet/XoVCW/src/model.jl:546\n",
      "┌ Info: ## Training summary\n",
      "└ @ MXNet.mx /home/dreuter/.julia/packages/MXNet/XoVCW/src/model.jl:548\n",
      "┌ Info:           accuracy = 0.9917\n",
      "└ @ MXNet.mx /home/dreuter/.julia/packages/MXNet/XoVCW/src/model.jl:550\n",
      "┌ Info:               time = 0.6697 seconds\n",
      "└ @ MXNet.mx /home/dreuter/.julia/packages/MXNet/XoVCW/src/model.jl:552\n",
      "┌ Info: ## Validation summary\n",
      "└ @ MXNet.mx /home/dreuter/.julia/packages/MXNet/XoVCW/src/model.jl:580\n",
      "┌ Info:           accuracy = 0.9729\n",
      "└ @ MXNet.mx /home/dreuter/.julia/packages/MXNet/XoVCW/src/model.jl:582\n",
      "┌ Info: == Epoch 015/020 ==========\n",
      "└ @ MXNet.mx /home/dreuter/.julia/packages/MXNet/XoVCW/src/model.jl:546\n",
      "┌ Info: ## Training summary\n",
      "└ @ MXNet.mx /home/dreuter/.julia/packages/MXNet/XoVCW/src/model.jl:548\n",
      "┌ Info:           accuracy = 0.9932\n",
      "└ @ MXNet.mx /home/dreuter/.julia/packages/MXNet/XoVCW/src/model.jl:550\n",
      "┌ Info:               time = 0.5730 seconds\n",
      "└ @ MXNet.mx /home/dreuter/.julia/packages/MXNet/XoVCW/src/model.jl:552\n",
      "┌ Info: ## Validation summary\n",
      "└ @ MXNet.mx /home/dreuter/.julia/packages/MXNet/XoVCW/src/model.jl:580\n",
      "┌ Info:           accuracy = 0.9756\n",
      "└ @ MXNet.mx /home/dreuter/.julia/packages/MXNet/XoVCW/src/model.jl:582\n",
      "┌ Info: == Epoch 016/020 ==========\n",
      "└ @ MXNet.mx /home/dreuter/.julia/packages/MXNet/XoVCW/src/model.jl:546\n",
      "┌ Info: ## Training summary\n",
      "└ @ MXNet.mx /home/dreuter/.julia/packages/MXNet/XoVCW/src/model.jl:548\n",
      "┌ Info:           accuracy = 0.9927\n",
      "└ @ MXNet.mx /home/dreuter/.julia/packages/MXNet/XoVCW/src/model.jl:550\n",
      "┌ Info:               time = 0.5456 seconds\n",
      "└ @ MXNet.mx /home/dreuter/.julia/packages/MXNet/XoVCW/src/model.jl:552\n",
      "┌ Info: ## Validation summary\n",
      "└ @ MXNet.mx /home/dreuter/.julia/packages/MXNet/XoVCW/src/model.jl:580\n",
      "┌ Info:           accuracy = 0.9714\n",
      "└ @ MXNet.mx /home/dreuter/.julia/packages/MXNet/XoVCW/src/model.jl:582\n",
      "┌ Info: == Epoch 017/020 ==========\n",
      "└ @ MXNet.mx /home/dreuter/.julia/packages/MXNet/XoVCW/src/model.jl:546\n",
      "┌ Info: ## Training summary\n",
      "└ @ MXNet.mx /home/dreuter/.julia/packages/MXNet/XoVCW/src/model.jl:548\n",
      "┌ Info:           accuracy = 0.9943\n",
      "└ @ MXNet.mx /home/dreuter/.julia/packages/MXNet/XoVCW/src/model.jl:550\n",
      "┌ Info:               time = 0.5497 seconds\n",
      "└ @ MXNet.mx /home/dreuter/.julia/packages/MXNet/XoVCW/src/model.jl:552\n",
      "┌ Info: ## Validation summary\n",
      "└ @ MXNet.mx /home/dreuter/.julia/packages/MXNet/XoVCW/src/model.jl:580\n",
      "┌ Info:           accuracy = 0.9739\n",
      "└ @ MXNet.mx /home/dreuter/.julia/packages/MXNet/XoVCW/src/model.jl:582\n",
      "┌ Info: == Epoch 018/020 ==========\n",
      "└ @ MXNet.mx /home/dreuter/.julia/packages/MXNet/XoVCW/src/model.jl:546\n",
      "┌ Info: ## Training summary\n",
      "└ @ MXNet.mx /home/dreuter/.julia/packages/MXNet/XoVCW/src/model.jl:548\n",
      "┌ Info:           accuracy = 0.9946\n",
      "└ @ MXNet.mx /home/dreuter/.julia/packages/MXNet/XoVCW/src/model.jl:550\n",
      "┌ Info:               time = 0.8718 seconds\n",
      "└ @ MXNet.mx /home/dreuter/.julia/packages/MXNet/XoVCW/src/model.jl:552\n",
      "┌ Info: ## Validation summary\n",
      "└ @ MXNet.mx /home/dreuter/.julia/packages/MXNet/XoVCW/src/model.jl:580\n",
      "┌ Info:           accuracy = 0.9741\n",
      "└ @ MXNet.mx /home/dreuter/.julia/packages/MXNet/XoVCW/src/model.jl:582\n",
      "┌ Info: == Epoch 019/020 ==========\n",
      "└ @ MXNet.mx /home/dreuter/.julia/packages/MXNet/XoVCW/src/model.jl:546\n",
      "┌ Info: ## Training summary\n",
      "└ @ MXNet.mx /home/dreuter/.julia/packages/MXNet/XoVCW/src/model.jl:548\n",
      "┌ Info:           accuracy = 0.9935\n",
      "└ @ MXNet.mx /home/dreuter/.julia/packages/MXNet/XoVCW/src/model.jl:550\n",
      "┌ Info:               time = 0.6008 seconds\n",
      "└ @ MXNet.mx /home/dreuter/.julia/packages/MXNet/XoVCW/src/model.jl:552\n",
      "┌ Info: ## Validation summary\n",
      "└ @ MXNet.mx /home/dreuter/.julia/packages/MXNet/XoVCW/src/model.jl:580\n",
      "┌ Info:           accuracy = 0.9748\n",
      "└ @ MXNet.mx /home/dreuter/.julia/packages/MXNet/XoVCW/src/model.jl:582\n",
      "┌ Info: == Epoch 020/020 ==========\n",
      "└ @ MXNet.mx /home/dreuter/.julia/packages/MXNet/XoVCW/src/model.jl:546\n",
      "┌ Info: ## Training summary\n",
      "└ @ MXNet.mx /home/dreuter/.julia/packages/MXNet/XoVCW/src/model.jl:548\n",
      "┌ Info:           accuracy = 0.9949\n",
      "└ @ MXNet.mx /home/dreuter/.julia/packages/MXNet/XoVCW/src/model.jl:550\n",
      "┌ Info:               time = 0.5811 seconds\n",
      "└ @ MXNet.mx /home/dreuter/.julia/packages/MXNet/XoVCW/src/model.jl:552\n",
      "┌ Info: ## Validation summary\n",
      "└ @ MXNet.mx /home/dreuter/.julia/packages/MXNet/XoVCW/src/model.jl:580\n",
      "┌ Info:           accuracy = 0.9768\n",
      "└ @ MXNet.mx /home/dreuter/.julia/packages/MXNet/XoVCW/src/model.jl:582\n",
      "┌ Info: Finish training on Context[CPU0]\n",
      "└ @ MXNet.mx /home/dreuter/.julia/packages/MXNet/XoVCW/src/model.jl:606\n"
     ]
    }
   ],
   "source": [
    "model = mx.FeedForward(mlp, context=mx.cpu())\n",
    "optimizer = mx.SGD(η=0.1, μ=0.9, λ=0.00001)\n",
    "mx.fit(model, optimizer, train_provider, n_epoch=20, eval_data=eval_provider)"
   ]
  },
  {
   "cell_type": "markdown",
   "metadata": {},
   "source": [
    "### Conv-net"
   ]
  },
  {
   "cell_type": "code",
   "execution_count": 4,
   "metadata": {},
   "outputs": [
    {
     "data": {
      "text/plain": [
       "SymbolicNode pooling1"
      ]
     },
     "execution_count": 4,
     "metadata": {},
     "output_type": "execute_result"
    }
   ],
   "source": [
    "# input\n",
    "data = mx.Variable(:data)\n",
    "\n",
    "# first conv\n",
    "conv1 = @mx.chain mx.Convolution(data, kernel=(5,5), num_filter=20)  =>\n",
    "                  mx.Activation(act_type=:tanh) =>\n",
    "                  mx.Pooling(pool_type=:max, kernel=(2,2), stride=(2,2))\n",
    "\n",
    "# second conv\n",
    "conv2 = @mx.chain mx.Convolution(conv1, kernel=(5,5), num_filter=50) =>\n",
    "                  mx.Activation(act_type=:tanh) =>\n",
    "                  mx.Pooling(pool_type=:max, kernel=(2,2), stride=(2,2))\n"
   ]
  },
  {
   "cell_type": "code",
   "execution_count": 5,
   "metadata": {},
   "outputs": [
    {
     "data": {
      "text/plain": [
       "SymbolicNode softmax"
      ]
     },
     "execution_count": 5,
     "metadata": {},
     "output_type": "execute_result"
    }
   ],
   "source": [
    "# first fully-connected\n",
    "fc1   = @mx.chain mx.Flatten(conv2) =>\n",
    "                  mx.FullyConnected(num_hidden=500) =>\n",
    "                  mx.Activation(act_type=:tanh)\n",
    "\n",
    "# second fully-connected\n",
    "fc2   = mx.FullyConnected(fc1, num_hidden=10)\n",
    "\n",
    "# softmax loss\n",
    "lenet = mx.Softmax(fc2, name=:softmax)\n"
   ]
  },
  {
   "cell_type": "code",
   "execution_count": 8,
   "metadata": {},
   "outputs": [
    {
     "ename": "ErrorException",
     "evalue": "could not open file /home/dreuter/.julia/packages/MXNet/examples/mnist/mnist-data.jl",
     "output_type": "error",
     "traceback": [
      "could not open file /home/dreuter/.julia/packages/MXNet/examples/mnist/mnist-data.jl",
      "",
      "Stacktrace:",
      " [1] include at ./boot.jl:326 [inlined]",
      " [2] include_relative(::Module, ::String) at ./loading.jl:1038",
      " [3] include(::Module, ::String) at ./sysimg.jl:29",
      " [4] include(::String) at ./client.jl:403",
      " [5] top-level scope at In[8]:2"
     ]
    }
   ],
   "source": [
    "batch_size = 100\n",
    "include(\"/home/dreuter/.julia/packages/MXNet/examples/mnist/mnist-data.jl\")\n",
    "train_provider, eval_provider = get_mnist_providers(batch_size; flat=false)"
   ]
  },
  {
   "cell_type": "code",
   "execution_count": 9,
   "metadata": {},
   "outputs": [
    {
     "name": "stderr",
     "output_type": "stream",
     "text": [
      "┌ Info: Start training on Context[GPU0]\n",
      "└ @ MXNet.mx /home/dreuter/.julia/packages/MXNet/XoVCW/src/model.jl:367\n",
      "┌ Info: Initializing parameters...\n",
      "└ @ MXNet.mx /home/dreuter/.julia/packages/MXNet/XoVCW/src/model.jl:374\n"
     ]
    },
    {
     "ename": "MXNet.mx.MXError",
     "evalue": "Error in operator convolution0: [21:02:58] src/operator/nn/convolution.cc:152: Check failed: dshp.ndim() == 4U (2 vs. 4) : Input data should be 4D in batch-num_filter-y-x\nStack trace:\n  [bt] (0) /home/dreuter/.julia/packages/MXNet/XoVCW/src/../deps/usr/lib/libmxnet.so(dmlc::LogMessageFatal::~LogMessageFatal()+0x43) [0x7fbcec0ae483]\n  [bt] (1) /home/dreuter/.julia/packages/MXNet/XoVCW/src/../deps/usr/lib/libmxnet.so(+0x2e8625a) [0x7fbcee1d425a]\n  [bt] (2) /home/dreuter/.julia/packages/MXNet/XoVCW/src/../deps/usr/lib/libmxnet.so(+0x30540d9) [0x7fbcee3a20d9]\n  [bt] (3) /home/dreuter/.julia/packages/MXNet/XoVCW/src/../deps/usr/lib/libmxnet.so(mxnet::exec::InferShape(nnvm::Graph&&, std::vector<mxnet::TShape, std::allocator<mxnet::TShape> >&&, std::__cxx11::basic_string<char, std::char_traits<char>, std::allocator<char> > const&)+0x1490) [0x7fbcee3a4110]\n  [bt] (4) /home/dreuter/.julia/packages/MXNet/XoVCW/src/../deps/usr/lib/libmxnet.so(MXSymbolInferShape+0x97e) [0x7fbceec7ef4e]\n  [bt] (5) [0x7fbdac0ff6e9]\n  [bt] (6) /opt/julia-1.1.1/bin/../lib/libjulia.so.1(jl_invoke+0x29) [0x7fbdc3422ac9]\n  [bt] (7) [0x7fbdac0fa951]\n  [bt] (8) [0x7fbdac0fd368]\n\n",
     "output_type": "error",
     "traceback": [
      "Error in operator convolution0: [21:02:58] src/operator/nn/convolution.cc:152: Check failed: dshp.ndim() == 4U (2 vs. 4) : Input data should be 4D in batch-num_filter-y-x\nStack trace:\n  [bt] (0) /home/dreuter/.julia/packages/MXNet/XoVCW/src/../deps/usr/lib/libmxnet.so(dmlc::LogMessageFatal::~LogMessageFatal()+0x43) [0x7fbcec0ae483]\n  [bt] (1) /home/dreuter/.julia/packages/MXNet/XoVCW/src/../deps/usr/lib/libmxnet.so(+0x2e8625a) [0x7fbcee1d425a]\n  [bt] (2) /home/dreuter/.julia/packages/MXNet/XoVCW/src/../deps/usr/lib/libmxnet.so(+0x30540d9) [0x7fbcee3a20d9]\n  [bt] (3) /home/dreuter/.julia/packages/MXNet/XoVCW/src/../deps/usr/lib/libmxnet.so(mxnet::exec::InferShape(nnvm::Graph&&, std::vector<mxnet::TShape, std::allocator<mxnet::TShape> >&&, std::__cxx11::basic_string<char, std::char_traits<char>, std::allocator<char> > const&)+0x1490) [0x7fbcee3a4110]\n  [bt] (4) /home/dreuter/.julia/packages/MXNet/XoVCW/src/../deps/usr/lib/libmxnet.so(MXSymbolInferShape+0x97e) [0x7fbceec7ef4e]\n  [bt] (5) [0x7fbdac0ff6e9]\n  [bt] (6) /opt/julia-1.1.1/bin/../lib/libjulia.so.1(jl_invoke+0x29) [0x7fbdc3422ac9]\n  [bt] (7) [0x7fbdac0fa951]\n  [bt] (8) [0x7fbdac0fd368]\n\n",
      "",
      "Stacktrace:",
      " [1] macro expansion at /home/dreuter/.julia/packages/MXNet/XoVCW/src/base.jl:95 [inlined]",
      " [2] _infer_shape at /home/dreuter/.julia/packages/MXNet/XoVCW/src/symbolic-node/autodiff.jl:60 [inlined]",
      " [3] #infer_shape#5779(::Base.Iterators.Pairs{Symbol,Tuple{Int64,Vararg{Int64,N} where N},Tuple{Symbol,Symbol},NamedTuple{(:data, :softmax_label),Tuple{Tuple{Int64,Int64},Tuple{Int64}}}}, ::Function, ::SymbolicNode) at /home/dreuter/.julia/packages/MXNet/XoVCW/src/symbolic-node/autodiff.jl:103",
      " [4] #infer_shape at ./none:0 [inlined]",
      " [5] #init_model#5869(::Bool, ::Base.Iterators.Pairs{Symbol,Tuple{Int64,Vararg{Int64,N} where N},Tuple{Symbol,Symbol},NamedTuple{(:data, :softmax_label),Tuple{Tuple{Int64,Int64},Tuple{Int64}}}}, ::Function, ::FeedForward, ::UniformInitializer) at /home/dreuter/.julia/packages/MXNet/XoVCW/src/model.jl:102",
      " [6] (::getfield(MXNet.mx, Symbol(\"#kw##init_model\")))(::NamedTuple{(:overwrite, :data, :softmax_label),Tuple{Bool,Tuple{Int64,Int64},Tuple{Int64}}}, ::typeof(MXNet.mx.init_model), ::FeedForward, ::UniformInitializer) at ./none:0",
      " [7] _init_model(::FeedForward, ::MXNet.mx.MXDataProvider, ::UniformInitializer, ::Bool) at /home/dreuter/.julia/packages/MXNet/XoVCW/src/model.jl:277",
      " [8] #fit#5892(::Base.Iterators.Pairs{Symbol,Any,Tuple{Symbol,Symbol},NamedTuple{(:n_epoch, :eval_data),Tuple{Int64,MXNet.mx.MXDataProvider}}}, ::Function, ::FeedForward, ::SGD, ::MXNet.mx.MXDataProvider) at /home/dreuter/.julia/packages/MXNet/XoVCW/src/model.jl:375",
      " [9] (::getfield(MXNet.mx, Symbol(\"#kw##fit\")))(::NamedTuple{(:n_epoch, :eval_data),Tuple{Int64,MXNet.mx.MXDataProvider}}, ::typeof(MXNet.mx.fit), ::FeedForward, ::SGD, ::MXNet.mx.MXDataProvider) at ./none:0",
      " [10] top-level scope at In[9]:6"
     ]
    }
   ],
   "source": [
    "# fit model\n",
    "model = mx.FeedForward(lenet, context=mx.gpu())\n",
    "\n",
    "# optimizer\n",
    "optimizer = mx.SGD(η=0.05, μ=0.9, λ=0.00001)\n",
    "\n",
    "# fit parameters\n",
    "mx.fit(model, optimizer, train_provider, n_epoch=20, eval_data=eval_provider)"
   ]
  },
  {
   "cell_type": "code",
   "execution_count": 15,
   "metadata": {},
   "outputs": [
    {
     "name": "stderr",
     "output_type": "stream",
     "text": [
      "┌ Info: TempSpace: Total 5 MB allocated on GPU0\n",
      "└ @ MXNet.mx /home/dreuter/.julia/packages/MXNet/XoVCW/src/model.jl:167\n"
     ]
    },
    {
     "data": {
      "text/plain": [
       "10×10000 Array{Float32,2}:\n",
       " 4.57196e-13  2.36411e-8   1.39104e-9   …  5.84189e-12  5.01485e-9 \n",
       " 2.64309e-11  1.47528e-9   1.0             1.4269e-15   2.84766e-11\n",
       " 5.08313e-12  1.0          3.51201e-10     3.07198e-14  8.19767e-10\n",
       " 1.39607e-8   1.37036e-10  2.5803e-13      6.01223e-9   3.63981e-10\n",
       " 9.56771e-12  4.40153e-15  1.49125e-7      6.18142e-17  4.36802e-10\n",
       " 1.59484e-12  2.0136e-15   1.10558e-12  …  0.999959     1.11103e-8 \n",
       " 9.39286e-20  1.10694e-9   1.56691e-9      6.73486e-8   1.0        \n",
       " 1.0          1.66438e-15  5.00241e-9      5.80483e-15  7.43109e-15\n",
       " 1.8015e-13   4.97472e-9   2.69126e-8      4.12388e-5   1.77438e-8 \n",
       " 1.77884e-8   5.01488e-14  1.41487e-12     5.23575e-14  7.74133e-16"
      ]
     },
     "execution_count": 15,
     "metadata": {},
     "output_type": "execute_result"
    }
   ],
   "source": [
    "probs = mx.predict(model, eval_provider)"
   ]
  },
  {
   "cell_type": "code",
   "execution_count": null,
   "metadata": {},
   "outputs": [],
   "source": []
  },
  {
   "cell_type": "code",
   "execution_count": null,
   "metadata": {},
   "outputs": [],
   "source": []
  }
 ],
 "metadata": {
  "kernelspec": {
   "display_name": "Julia 1.1.1",
   "language": "julia",
   "name": "julia-1.1"
  },
  "language_info": {
   "file_extension": ".jl",
   "mimetype": "application/julia",
   "name": "julia",
   "version": "1.1.1"
  }
 },
 "nbformat": 4,
 "nbformat_minor": 4
}
