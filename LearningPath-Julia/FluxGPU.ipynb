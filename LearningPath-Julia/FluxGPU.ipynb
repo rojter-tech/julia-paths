{
 "cells": [
  {
   "cell_type": "code",
   "execution_count": 1,
   "metadata": {},
   "outputs": [
    {
     "data": {
      "text/plain": [
       "\"GeForce GTX 1060\""
      ]
     },
     "execution_count": 1,
     "metadata": {},
     "output_type": "execute_result"
    }
   ],
   "source": [
    "using CUDAdrv; CUDAdrv.name(CuDevice(0))"
   ]
  },
  {
   "cell_type": "code",
   "execution_count": 2,
   "metadata": {},
   "outputs": [],
   "source": [
    "using CuArrays, FileIO, Colors, GPUArrays, BenchmarkTools, ImageShow\n",
    "using CuArrays: CuArray"
   ]
  },
  {
   "cell_type": "code",
   "execution_count": 3,
   "metadata": {},
   "outputs": [
    {
     "data": {
      "text/plain": [
       "run_bench (generic function with 1 method)"
      ]
     },
     "execution_count": 3,
     "metadata": {},
     "output_type": "execute_result"
    }
   ],
   "source": [
    "#The function calculating the Julia set\n",
    "function juliaset(z0, maxiter)\n",
    "    c = ComplexF32(-0.5, 0.75)\n",
    "    z = z0\n",
    "    for i in 1:maxiter\n",
    "        abs2(z) > 4f0 && return (i - 1) % UInt8\n",
    "        z = z * z + c\n",
    "    end\n",
    "    return maxiter % UInt8 # % is used to convert without overflow check\n",
    "end\n",
    "\n",
    "range = 100:50:2^12\n",
    "cutimes, jltimes = Float64[], Float64[]\n",
    "\n",
    "function run_bench(in, out)\n",
    "  # use dot syntax to apply `juliaset` to each elemt of q_converted \n",
    "  # and write the output to result\n",
    "  out .= juliaset.(in, 16)\n",
    "  # all calls to the GPU are scheduled asynchronous, \n",
    "  # so we need to synchronize\n",
    "  GPUArrays.synchronize(out)\n",
    "end"
   ]
  },
  {
   "cell_type": "code",
   "execution_count": null,
   "metadata": {},
   "outputs": [],
   "source": [
    "# store a reference to the last results for plotting\n",
    "last_jl, last_cu = nothing, nothing\n",
    "for N in range\n",
    "  w, h = N, N\n",
    "  q = [ComplexF32(r, i) for i=1:-(2.0/w):-1, r=-1.5:(3.0/h):1.5]\n",
    "  for (times, Typ) in ((cutimes, CuArray), (jltimes, Array))\n",
    "    # convert to Array or CuArray - moving the calculation to CPU/GPU\n",
    "    q_converted = Typ(q)\n",
    "    result = Typ(zeros(UInt8, size(q)))\n",
    "    for i in 1:10 # 5 samples per size\n",
    "      # benchmarking macro, all variables need to be prefixed with $\n",
    "      t = Base.@elapsed begin\n",
    "        run_bench(q_converted, result)\n",
    "      end\n",
    "      global last_jl, last_cu # we're in local scope\n",
    "      if result isa CuArray\n",
    "        last_cu = result\n",
    "      else\n",
    "        last_jl = result\n",
    "      end\n",
    "        push!(times, t)\n",
    "    end\n",
    "  end\n",
    "end"
   ]
  },
  {
   "cell_type": "code",
   "execution_count": null,
   "metadata": {},
   "outputs": [],
   "source": [
    "cu_jl = hcat(Array(last_cu), last_jl)\n",
    "cmap = colormap(\"Blues\", 16 + 1)\n",
    "color_lookup(val, cmap) = cmap[val + 1]\n",
    "color_lookup.(cu_jl, (cmap,))"
   ]
  },
  {
   "cell_type": "code",
   "execution_count": null,
   "metadata": {},
   "outputs": [],
   "source": []
  }
 ],
 "metadata": {
  "kernelspec": {
   "display_name": "Julia 1.1.1",
   "language": "julia",
   "name": "julia-1.1"
  },
  "language_info": {
   "file_extension": ".jl",
   "mimetype": "application/julia",
   "name": "julia",
   "version": "1.1.1"
  }
 },
 "nbformat": 4,
 "nbformat_minor": 4
}
