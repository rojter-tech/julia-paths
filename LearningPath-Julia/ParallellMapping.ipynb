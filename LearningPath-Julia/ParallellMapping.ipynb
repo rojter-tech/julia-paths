{
 "cells": [
  {
   "cell_type": "code",
   "execution_count": 1,
   "metadata": {},
   "outputs": [
    {
     "data": {
      "text/plain": [
       "16"
      ]
     },
     "execution_count": 1,
     "metadata": {},
     "output_type": "execute_result"
    }
   ],
   "source": [
    "n_proc = Threads.nthreads()"
   ]
  },
  {
   "cell_type": "markdown",
   "metadata": {},
   "source": [
    "# Distributed package"
   ]
  },
  {
   "cell_type": "code",
   "execution_count": 2,
   "metadata": {},
   "outputs": [],
   "source": [
    "using Distributed\n",
    "addprocs(n_proc);"
   ]
  },
  {
   "cell_type": "code",
   "execution_count": 16,
   "metadata": {},
   "outputs": [
    {
     "name": "stdout",
     "output_type": "stream",
     "text": [
      "  0.198437 seconds (64.09 k allocations: 3.121 MiB)\n"
     ]
    },
    {
     "data": {
      "text/plain": [
       "10002505"
      ]
     },
     "execution_count": 16,
     "metadata": {},
     "output_type": "execute_result"
    }
   ],
   "source": [
    "n = 2e7\n",
    "@time @sync nheads1 = @distributed (+) for i = 1:n; rand(Bool); end"
   ]
  },
  {
   "cell_type": "code",
   "execution_count": 17,
   "metadata": {},
   "outputs": [
    {
     "name": "stdout",
     "output_type": "stream",
     "text": [
      "  7.149158 seconds (80.00 M allocations: 1.490 GiB, 10.00% gc time)\n",
      "9996924\n"
     ]
    }
   ],
   "source": [
    "n = 2e7\n",
    "nheads2 = 0;\n",
    "@time for i = 1:n; global nheads2+=rand(Bool); end\n",
    "println(nheads2)"
   ]
  },
  {
   "cell_type": "markdown",
   "metadata": {},
   "source": [
    "### Distribute serially to workers within for loop (Experimental only!)"
   ]
  },
  {
   "cell_type": "code",
   "execution_count": 23,
   "metadata": {
    "scrolled": true
   },
   "outputs": [
    {
     "name": "stdout",
     "output_type": "stream",
     "text": [
      "  4.400324 seconds (4.15 M allocations: 71.202 MiB)\n",
      "925548\n"
     ]
    }
   ],
   "source": [
    "n = 2e7\n",
    "\n",
    "s = 0\n",
    "@time Threads.@threads for i = 1:n\n",
    "    global s\n",
    "    s+=rand(Bool)\n",
    "end\n",
    "println(s)"
   ]
  },
  {
   "cell_type": "code",
   "execution_count": 19,
   "metadata": {},
   "outputs": [
    {
     "name": "stdout",
     "output_type": "stream",
     "text": [
      "  6.150905 seconds (80.00 M allocations: 1.490 GiB, 10.42% gc time)\n",
      "sum\n"
     ]
    }
   ],
   "source": [
    "s = 0\n",
    "@time for i = 1:n\n",
    "    global s\n",
    "    s+=rand(Bool)\n",
    "end\n",
    "println(sum)"
   ]
  },
  {
   "cell_type": "code",
   "execution_count": 20,
   "metadata": {},
   "outputs": [
    {
     "name": "stdout",
     "output_type": "stream",
     "text": [
      "[1.0, 1.0, 2.0, 2.0, 3.0, 3.0, 4.0, 4.0, 5.0, 5.0, 6.0, 6.0, 7.0, 7.0, 8.0, 8.0, 9.0, 9.0, 10.0, 10.0, 11.0, 11.0, 12.0, 12.0, 13.0, 13.0, 14.0, 14.0, 15.0, 15.0, 16.0, 16.0]\n"
     ]
    }
   ],
   "source": [
    "## Show what threads that is involved\n",
    "n = 32\n",
    "a = zeros(n);\n",
    "Threads.@threads for i = 1:n\n",
    "    a[i] = Threads.threadid()\n",
    "end\n",
    "println(a)"
   ]
  },
  {
   "cell_type": "markdown",
   "metadata": {},
   "source": [
    "# Map out distributed jobs"
   ]
  },
  {
   "cell_type": "code",
   "execution_count": 24,
   "metadata": {},
   "outputs": [],
   "source": [
    "@everywhere basepath = \"/home/dreuter/Github/julia-paths\"\n",
    "@everywhere thispath = \"/LearningPath-Julia/\"\n",
    "@everywhere fullpath = string(basepath,thispath)\n",
    "@everywhere include(string(fullpath,\"Counter.jl\"))"
   ]
  },
  {
   "cell_type": "code",
   "execution_count": 25,
   "metadata": {},
   "outputs": [
    {
     "data": {
      "text/plain": [
       "106"
      ]
     },
     "execution_count": 25,
     "metadata": {},
     "output_type": "execute_result"
    }
   ],
   "source": [
    "Counter.count_heads(200)"
   ]
  },
  {
   "cell_type": "code",
   "execution_count": 26,
   "metadata": {},
   "outputs": [],
   "source": [
    "function parallel_map(n,n_par)\n",
    "    joblist = []\n",
    "    n_job = Int(round(n/n_par))\n",
    "    for i = 1:n_par\n",
    "        push!(joblist, @spawn(Counter.count_heads(n_job)))\n",
    "    end\n",
    "    return joblist\n",
    "end;"
   ]
  },
  {
   "cell_type": "code",
   "execution_count": 28,
   "metadata": {},
   "outputs": [],
   "source": [
    "n = 2e9;\n",
    "n_par = 16;"
   ]
  },
  {
   "cell_type": "markdown",
   "metadata": {},
   "source": [
    "#### Compare with and without parallell jobs"
   ]
  },
  {
   "cell_type": "code",
   "execution_count": 34,
   "metadata": {
    "scrolled": true
   },
   "outputs": [
    {
     "name": "stdout",
     "output_type": "stream",
     "text": [
      "  0.720369 seconds (1.43 k allocations: 50.469 KiB)\n",
      "1.00001903e9\n"
     ]
    }
   ],
   "source": [
    "joblist = parallel_map(n,n_par);\n",
    "@time s = sum(map(fetch, joblist));\n",
    "println(round(s, digits=2))"
   ]
  },
  {
   "cell_type": "code",
   "execution_count": 35,
   "metadata": {},
   "outputs": [
    {
     "name": "stdout",
     "output_type": "stream",
     "text": [
      "  5.155577 seconds (5 allocations: 176 bytes)\n",
      "9.99980801e8\n"
     ]
    }
   ],
   "source": [
    "n = 2e9;\n",
    "@time s = Counter.count_heads(n);\n",
    "println(round(s, digits=2))"
   ]
  },
  {
   "cell_type": "markdown",
   "metadata": {},
   "source": [
    "# RemoteChannels"
   ]
  },
  {
   "cell_type": "code",
   "execution_count": 36,
   "metadata": {},
   "outputs": [],
   "source": [
    "@everywhere function count_heads(n)\n",
    "                c::Int = 0\n",
    "                for i = 1:n\n",
    "                    c += rand(Bool)\n",
    "                end\n",
    "                return c\n",
    "            end\n",
    "\n",
    "@everywhere function do_flip_work(jobs, results, flips) # define work function everywhere\n",
    "            while true\n",
    "                job_id = take!(jobs)\n",
    "                nheads = count_heads(flips)\n",
    "                put!(results, (job_id, nheads, myid()))\n",
    "            end\n",
    "        end\n",
    "\n",
    "function make_jobs(n)\n",
    "    for i in 1:n\n",
    "        put!(jobs, i)\n",
    "    end\n",
    "end;\n",
    "\n",
    "function execute_tasks(n, flips)\n",
    "    @async make_jobs(n); # feed the jobs channel with \"n\" jobs\n",
    "    for p in workers() # start tasks on the workers to process requests in parallel\n",
    "        remote_do(do_flip_work, p, jobs, results, flips)\n",
    "    end\n",
    "end;"
   ]
  },
  {
   "cell_type": "code",
   "execution_count": 40,
   "metadata": {},
   "outputs": [
    {
     "name": "stdout",
     "output_type": "stream",
     "text": [
      "Job 2 counts to 6.2509911e7 heads on worker 3\n",
      "Job 3 counts to 6.2502737e7 heads on worker 5\n",
      "Job 10 counts to 6.2509143e7 heads on worker 11\n",
      "Job 6 counts to 6.250963e7 heads on worker 7\n",
      "Job 9 counts to 6.2505662e7 heads on worker 10\n",
      "Job 8 counts to 6.2502817e7 heads on worker 9\n",
      "Job 5 counts to 6.2500213e7 heads on worker 6\n",
      "Job 4 counts to 6.249784e7 heads on worker 4\n",
      "Job 11 counts to 6.2505338e7 heads on worker 12\n",
      "Job 7 counts to 6.2500835e7 heads on worker 8\n",
      "Job 1 counts to 6.2505527e7 heads on worker 2\n",
      "Job 15 counts to 6.2507275e7 heads on worker 16\n",
      "Job 12 counts to 6.2491261e7 heads on worker 14\n",
      "Job 13 counts to 6.2501046e7 heads on worker 15\n",
      "Job 14 counts to 6.2500086e7 heads on worker 17\n",
      "Job 16 counts to 6.2503876e7 heads on worker 13\n",
      "  0.551980 seconds (3.90 k allocations: 169.234 KiB)\n",
      "The total number of heads is: 1.000053197e9\n"
     ]
    }
   ],
   "source": [
    "results = RemoteChannel(()->Channel{Tuple}(32));\n",
    "jobs = RemoteChannel(()->Channel{Int}(32));\n",
    "\n",
    "n_jobs = 16; # add number of jobs\n",
    "n_flips = 2e9\n",
    "execute_tasks(n_jobs, n_flips/n_jobs)\n",
    "\n",
    "# Display overall process and results\n",
    "s = 0;\n",
    "@time while n_jobs > 0 # print out results\n",
    "    global s\n",
    "    job_id, nheads, where = take!(results)\n",
    "    println(\"Job $job_id counts to $(round(nheads; digits=2)) heads on worker $where\")\n",
    "    s += nheads\n",
    "    global n_jobs -= 1\n",
    "end;\n",
    "println(\"The total number of heads is: $(round(s; digits=2))\");"
   ]
  }
 ],
 "metadata": {
  "kernelspec": {
   "display_name": "Julia 1.1.1",
   "language": "julia",
   "name": "julia-1.1"
  },
  "language_info": {
   "file_extension": ".jl",
   "mimetype": "application/julia",
   "name": "julia",
   "version": "1.1.1"
  }
 },
 "nbformat": 4,
 "nbformat_minor": 2
}
