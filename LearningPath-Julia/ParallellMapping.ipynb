{
 "cells": [
  {
   "cell_type": "code",
   "execution_count": null,
   "metadata": {},
   "outputs": [],
   "source": [
    "## Distributed package # works\n",
    "using Distributed\n",
    "n = Int(1e8)\n",
    "\n",
    "@time @sync nheads1 = @distributed (+) for i = 1:n; rand(Bool); end\n",
    "\n",
    "nheads2 = 0;\n",
    "@time for i = 1:n; global nheads2+=rand(Bool); end\n",
    "println(nheads2)\n",
    "\n",
    "## Show what worker that is involved\n",
    "n = 32\n",
    "a = zeros(n);\n",
    "Threads.@threads for i = 1:n\n",
    "    a[i] = Threads.threadid()\n",
    "end\n",
    "println(a)\n",
    "\n",
    "# Find out number of threads\n",
    "Threads.nthreads()\n",
    "\n",
    "# Distribute workers within for loop (Experimental only!)\n",
    "\n",
    "n = Int(1e8)\n",
    "\n",
    "sum = 0\n",
    "@time Threads.@threads for i = 1:n\n",
    "    global sum\n",
    "    sum+=rand(Bool)\n",
    "end\n",
    "println(sum)\n",
    "\n",
    "sum = 0\n",
    "@time for i = 1:n\n",
    "    global sum\n",
    "    sum+=rand(Bool)\n",
    "end\n",
    "println(sum)"
   ]
  },
  {
   "cell_type": "code",
   "execution_count": 1,
   "metadata": {},
   "outputs": [
    {
     "ename": "LoadError",
     "evalue": "syntax: unexpected \"=\"",
     "output_type": "error",
     "traceback": [
      "syntax: unexpected \"=\"",
      ""
     ]
    }
   ],
   "source": [
    "#addprocs(1)\n",
    "#rmprocs(workers())\n",
    "#addprocs(7); # add number of worker processes\n",
    "# Trying to map out distribution\n",
    "using Distributed\n",
    "@everywherebasepath = \"/home/dreuter/Github/julia-paths\"\n",
    "@everywherethispath = \"/LearningPath-Julia/\"\n",
    "@everywherefullpath = string(basepath,thispath)\n",
    "@everywhere include(string(fullpath,\"Counter.jl\"))"
   ]
  },
  {
   "cell_type": "code",
   "execution_count": 2,
   "metadata": {},
   "outputs": [
    {
     "data": {
      "text/plain": [
       "parallel_map (generic function with 1 method)"
      ]
     },
     "execution_count": 2,
     "metadata": {},
     "output_type": "execute_result"
    }
   ],
   "source": [
    "function parallel_map(n,n_par)\n",
    "    joblist = []\n",
    "    n_job = Int(round(n/n_par))\n",
    "    for i = 1:n_par\n",
    "        push!(joblist, @spawn(Counter.count_heads(n_job)))\n",
    "    end\n",
    "    return joblist\n",
    "end"
   ]
  },
  {
   "cell_type": "code",
   "execution_count": 3,
   "metadata": {},
   "outputs": [
    {
     "name": "stdout",
     "output_type": "stream",
     "text": [
      "  1.009722 seconds (1.49 M allocations: 74.433 MiB, 6.90% gc time)\n"
     ]
    },
    {
     "data": {
      "text/plain": [
       "16-element Array{Any,1}:\n",
       " Future(1, 1, 1, nothing) \n",
       " Future(1, 1, 2, nothing) \n",
       " Future(1, 1, 3, nothing) \n",
       " Future(1, 1, 4, nothing) \n",
       " Future(1, 1, 5, nothing) \n",
       " Future(1, 1, 6, nothing) \n",
       " Future(1, 1, 7, nothing) \n",
       " Future(1, 1, 8, nothing) \n",
       " Future(1, 1, 9, nothing) \n",
       " Future(1, 1, 10, nothing)\n",
       " Future(1, 1, 11, nothing)\n",
       " Future(1, 1, 12, nothing)\n",
       " Future(1, 1, 13, nothing)\n",
       " Future(1, 1, 14, nothing)\n",
       " Future(1, 1, 15, nothing)\n",
       " Future(1, 1, 16, nothing)"
      ]
     },
     "execution_count": 3,
     "metadata": {},
     "output_type": "execute_result"
    }
   ],
   "source": [
    "n = Int(1e12);\n",
    "@time joblist = parallel_map(n,16)"
   ]
  },
  {
   "cell_type": "markdown",
   "metadata": {},
   "source": [
    "## Compare with and without parallell jobs"
   ]
  },
  {
   "cell_type": "code",
   "execution_count": 4,
   "metadata": {},
   "outputs": [
    {
     "ename": "MethodError",
     "evalue": "MethodError: no method matching +(::RemoteException, ::RemoteException)\nClosest candidates are:\n  +(::Any, ::Any, !Matched::Any, !Matched::Any...) at operators.jl:502",
     "output_type": "error",
     "traceback": [
      "MethodError: no method matching +(::RemoteException, ::RemoteException)\nClosest candidates are:\n  +(::Any, ::Any, !Matched::Any, !Matched::Any...) at operators.jl:502",
      "",
      "Stacktrace:",
      " [1] add_sum(::RemoteException, ::RemoteException) at ./reduce.jl:21",
      " [2] mapreduce_impl(::typeof(identity), ::typeof(Base.add_sum), ::Array{RemoteException,1}, ::Int64, ::Int64, ::Int64) at ./reduce.jl:163",
      " [3] mapreduce_impl at ./reduce.jl:178 [inlined]",
      " [4] _mapreduce at ./reduce.jl:320 [inlined]",
      " [5] _mapreduce_dim at ./reducedim.jl:308 [inlined]",
      " [6] #mapreduce#548 at ./reducedim.jl:304 [inlined]",
      " [7] mapreduce at ./reducedim.jl:304 [inlined]",
      " [8] _sum at ./reducedim.jl:653 [inlined]",
      " [9] _sum at ./reducedim.jl:652 [inlined]",
      " [10] #sum#550 at ./reducedim.jl:648 [inlined]",
      " [11] sum(::Array{RemoteException,1}) at ./reducedim.jl:648",
      " [12] top-level scope at util.jl:156",
      " [13] top-level scope at In[4]:1"
     ]
    }
   ],
   "source": [
    "@time sum(map(fetch, joblist))"
   ]
  },
  {
   "cell_type": "code",
   "execution_count": null,
   "metadata": {},
   "outputs": [],
   "source": [
    "@time Counter.count_heads(n)"
   ]
  },
  {
   "cell_type": "code",
   "execution_count": null,
   "metadata": {},
   "outputs": [],
   "source": []
  },
  {
   "cell_type": "code",
   "execution_count": null,
   "metadata": {},
   "outputs": [],
   "source": []
  }
 ],
 "metadata": {
  "kernelspec": {
   "display_name": "Julia 1.1.1",
   "language": "julia",
   "name": "julia-1.1"
  },
  "language_info": {
   "file_extension": ".jl",
   "mimetype": "application/julia",
   "name": "julia",
   "version": "1.1.1"
  }
 },
 "nbformat": 4,
 "nbformat_minor": 2
}
