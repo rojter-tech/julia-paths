{
 "cells": [
  {
   "cell_type": "code",
   "execution_count": 45,
   "metadata": {},
   "outputs": [
    {
     "data": {
      "text/plain": [
       "1"
      ]
     },
     "execution_count": 45,
     "metadata": {},
     "output_type": "execute_result"
    }
   ],
   "source": [
    "# Find out number of threads\n",
    "Threads.nthreads()"
   ]
  },
  {
   "cell_type": "code",
   "execution_count": null,
   "metadata": {},
   "outputs": [],
   "source": [
    "## Distributed package # works\n",
    "using Distributed\n",
    "n = Int(1e8)\n",
    "\n",
    "@time @sync nheads1 = @distributed (+) for i = 1:n; rand(Bool); end\n",
    "\n",
    "nheads2 = 0;\n",
    "@time for i = 1:n; global nheads2+=rand(Bool); end\n",
    "println(nheads2)\n",
    "\n",
    "## Show what worker that is involved\n",
    "n = 32\n",
    "a = zeros(n);\n",
    "Threads.@threads for i = 1:n\n",
    "    a[i] = Threads.threadid()\n",
    "end\n",
    "println(a)\n",
    "\n",
    "\n",
    "# Distribute workers within for loop (Experimental only!)\n",
    "\n",
    "n = Int(1e8)\n",
    "\n",
    "sum = 0\n",
    "@time Threads.@threads for i = 1:n\n",
    "    global sum\n",
    "    sum+=rand(Bool)\n",
    "end\n",
    "println(sum)\n",
    "\n",
    "sum = 0\n",
    "@time for i = 1:n\n",
    "    global sum\n",
    "    sum+=rand(Bool)\n",
    "end\n",
    "println(sum)"
   ]
  },
  {
   "cell_type": "markdown",
   "metadata": {},
   "source": [
    "## Trying to map out distribution"
   ]
  },
  {
   "cell_type": "code",
   "execution_count": null,
   "metadata": {},
   "outputs": [],
   "source": [
    "using Distributed\n",
    "addprocs(1)\n",
    "rmprocs(workers())\n",
    "\n",
    "n_proc = 16\n",
    "addprocs(n_proc); # add number of worker processes\n",
    "@everywhere basepath = \"/home/dreuter/Github/julia-paths\"\n",
    "@everywhere thispath = \"/LearningPath-Julia/\"\n",
    "@everywhere fullpath = string(basepath,thispath)\n",
    "@everywhere include(string(fullpath,\"Counter.jl\"))\n",
    "Counter.count_heads(10)"
   ]
  },
  {
   "cell_type": "code",
   "execution_count": 22,
   "metadata": {},
   "outputs": [
    {
     "data": {
      "text/plain": [
       "parallel_map (generic function with 1 method)"
      ]
     },
     "execution_count": 22,
     "metadata": {},
     "output_type": "execute_result"
    }
   ],
   "source": [
    "function parallel_map(n,n_par)\n",
    "    joblist = []\n",
    "    n_job = Int(round(n/n_par))\n",
    "    for i = 1:n_par\n",
    "        push!(joblist, @spawn(Counter.count_heads(n_job)))\n",
    "    end\n",
    "    return joblist\n",
    "end"
   ]
  },
  {
   "cell_type": "code",
   "execution_count": 40,
   "metadata": {},
   "outputs": [],
   "source": [
    "n_par = 8;\n",
    "n = 2e10;"
   ]
  },
  {
   "cell_type": "markdown",
   "metadata": {},
   "source": [
    "## Compare with and without parallell jobs"
   ]
  },
  {
   "cell_type": "code",
   "execution_count": 44,
   "metadata": {},
   "outputs": [
    {
     "name": "stdout",
     "output_type": "stream",
     "text": [
      "  7.691031 seconds (862 allocations: 29.844 KiB)\n"
     ]
    },
    {
     "data": {
      "text/plain": [
       "9999999263"
      ]
     },
     "execution_count": 44,
     "metadata": {},
     "output_type": "execute_result"
    }
   ],
   "source": [
    "joblist = parallel_map(n,n_par);\n",
    "@time sum(map(fetch, joblist))"
   ]
  },
  {
   "cell_type": "code",
   "execution_count": null,
   "metadata": {},
   "outputs": [],
   "source": [
    "@time Counter.count_heads(n)"
   ]
  },
  {
   "cell_type": "code",
   "execution_count": null,
   "metadata": {},
   "outputs": [],
   "source": []
  }
 ],
 "metadata": {
  "kernelspec": {
   "display_name": "Julia 1.1.1",
   "language": "julia",
   "name": "julia-1.1"
  },
  "language_info": {
   "file_extension": ".jl",
   "mimetype": "application/julia",
   "name": "julia",
   "version": "1.1.1"
  }
 },
 "nbformat": 4,
 "nbformat_minor": 2
}
