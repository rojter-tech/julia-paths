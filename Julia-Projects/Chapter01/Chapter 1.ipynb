{
 "cells": [
  {
   "cell_type": "code",
   "execution_count": 1,
   "metadata": {},
   "outputs": [],
   "source": [
    "using Pkg\n",
    "pkg\"activate .\""
   ]
  },
  {
   "cell_type": "code",
   "execution_count": 2,
   "metadata": {},
   "outputs": [
    {
     "name": "stdout",
     "output_type": "stream",
     "text": [
      "\u001b[32m\u001b[1m  Updating\u001b[22m\u001b[39m registry at `~/.julia/registries/General`\n",
      "\u001b[32m\u001b[1m  Updating\u001b[22m\u001b[39m git-repo `https://github.com/JuliaRegistries/General.git`\n",
      "\u001b[?25l\u001b[2K\u001b[?25h"
     ]
    }
   ],
   "source": [
    "# Run this cell in order to download all the package dependencies with the exact versions used in the book\n",
    "# This is necessary if (some of) the packages have been updated and have introduced breaking changes\n",
    "pkg\"instantiate\""
   ]
  },
  {
   "cell_type": "code",
   "execution_count": 2,
   "metadata": {},
   "outputs": [
    {
     "data": {
      "text/plain": [
       "4"
      ]
     },
     "execution_count": 2,
     "metadata": {},
     "output_type": "execute_result"
    }
   ],
   "source": [
    "2+2"
   ]
  },
  {
   "cell_type": "code",
   "execution_count": 3,
   "metadata": {},
   "outputs": [
    {
     "data": {
      "text/plain": [
       "8"
      ]
     },
     "execution_count": 3,
     "metadata": {},
     "output_type": "execute_result"
    }
   ],
   "source": [
    "2^3"
   ]
  },
  {
   "cell_type": "code",
   "execution_count": 4,
   "metadata": {},
   "outputs": [
    {
     "name": "stdout",
     "output_type": "stream",
     "text": [
      "Welcome to Julia\n"
     ]
    }
   ],
   "source": [
    "println(\"Welcome to Julia\")"
   ]
  },
  {
   "cell_type": "code",
   "execution_count": 5,
   "metadata": {},
   "outputs": [
    {
     "data": {
      "text/plain": [
       "\"Hello\""
      ]
     },
     "execution_count": 5,
     "metadata": {},
     "output_type": "execute_result"
    }
   ],
   "source": [
    "greeting = \"Hello\""
   ]
  },
  {
   "cell_type": "code",
   "execution_count": 6,
   "metadata": {},
   "outputs": [
    {
     "ename": "UndefVarError",
     "evalue": "UndefVarError: greting not defined",
     "output_type": "error",
     "traceback": [
      "UndefVarError: greting not defined",
      "",
      "Stacktrace:",
      " [1] top-level scope at In[6]:1"
     ]
    }
   ],
   "source": [
    "# Oops, typo!\n",
    "println(greting)"
   ]
  },
  {
   "cell_type": "code",
   "execution_count": 7,
   "metadata": {},
   "outputs": [
    {
     "name": "stdout",
     "output_type": "stream",
     "text": [
      "Hello\n"
     ]
    }
   ],
   "source": [
    "println(greeting)"
   ]
  },
  {
   "cell_type": "code",
   "execution_count": 8,
   "metadata": {},
   "outputs": [
    {
     "data": {
      "text/plain": [
       "8"
      ]
     },
     "execution_count": 8,
     "metadata": {},
     "output_type": "execute_result"
    }
   ],
   "source": [
    "2^3"
   ]
  },
  {
   "cell_type": "code",
   "execution_count": 9,
   "metadata": {},
   "outputs": [
    {
     "data": {
      "text/plain": [
       "8"
      ]
     },
     "execution_count": 9,
     "metadata": {},
     "output_type": "execute_result"
    }
   ],
   "source": [
    "ans"
   ]
  },
  {
   "cell_type": "code",
   "execution_count": 10,
   "metadata": {
    "scrolled": true
   },
   "outputs": [
    {
     "name": "stdout",
     "output_type": "stream",
     "text": [
      "search: \u001b[0m\u001b[1mp\u001b[22m\u001b[0m\u001b[1mr\u001b[22m\u001b[0m\u001b[1mi\u001b[22m\u001b[0m\u001b[1mn\u001b[22m\u001b[0m\u001b[1mt\u001b[22m\u001b[0m\u001b[1ml\u001b[22m\u001b[0m\u001b[1mn\u001b[22m \u001b[0m\u001b[1mp\u001b[22m\u001b[0m\u001b[1mr\u001b[22m\u001b[0m\u001b[1mi\u001b[22m\u001b[0m\u001b[1mn\u001b[22m\u001b[0m\u001b[1mt\u001b[22msty\u001b[0m\u001b[1ml\u001b[22med \u001b[0m\u001b[1mp\u001b[22m\u001b[0m\u001b[1mr\u001b[22m\u001b[0m\u001b[1mi\u001b[22m\u001b[0m\u001b[1mn\u001b[22m\u001b[0m\u001b[1mt\u001b[22m s\u001b[0m\u001b[1mp\u001b[22m\u001b[0m\u001b[1mr\u001b[22m\u001b[0m\u001b[1mi\u001b[22m\u001b[0m\u001b[1mn\u001b[22m\u001b[0m\u001b[1mt\u001b[22m is\u001b[0m\u001b[1mp\u001b[22m\u001b[0m\u001b[1mr\u001b[22m\u001b[0m\u001b[1mi\u001b[22m\u001b[0m\u001b[1mn\u001b[22m\u001b[0m\u001b[1mt\u001b[22m\n",
      "\n"
     ]
    },
    {
     "data": {
      "text/latex": [
       "\\begin{verbatim}\n",
       "println([io::IO], xs...)\n",
       "\\end{verbatim}\n",
       "Print (using \\href{@ref}{\\texttt{print}}) \\texttt{xs} followed by a newline. If \\texttt{io} is not supplied, prints to \\href{@ref}{\\texttt{stdout}}.\n",
       "\n",
       "\\section{Examples}\n",
       "\\begin{verbatim}\n",
       "julia> println(\"Hello, world\")\n",
       "Hello, world\n",
       "\n",
       "julia> io = IOBuffer();\n",
       "\n",
       "julia> println(io, \"Hello, world\")\n",
       "\n",
       "julia> String(take!(io))\n",
       "\"Hello, world\\n\"\n",
       "\\end{verbatim}\n"
      ],
      "text/markdown": [
       "```\n",
       "println([io::IO], xs...)\n",
       "```\n",
       "\n",
       "Print (using [`print`](@ref)) `xs` followed by a newline. If `io` is not supplied, prints to [`stdout`](@ref).\n",
       "\n",
       "# Examples\n",
       "\n",
       "```jldoctest\n",
       "julia> println(\"Hello, world\")\n",
       "Hello, world\n",
       "\n",
       "julia> io = IOBuffer();\n",
       "\n",
       "julia> println(io, \"Hello, world\")\n",
       "\n",
       "julia> String(take!(io))\n",
       "\"Hello, world\\n\"\n",
       "```\n"
      ],
      "text/plain": [
       "\u001b[36m  println([io::IO], xs...)\u001b[39m\n",
       "\n",
       "  Print (using \u001b[36mprint\u001b[39m) \u001b[36mxs\u001b[39m followed by a newline. If \u001b[36mio\u001b[39m is not supplied, prints\n",
       "  to \u001b[36mstdout\u001b[39m.\n",
       "\n",
       "\u001b[1m  Examples\u001b[22m\n",
       "\u001b[1m  ≡≡≡≡≡≡≡≡≡≡\u001b[22m\n",
       "\n",
       "\u001b[36m  julia> println(\"Hello, world\")\u001b[39m\n",
       "\u001b[36m  Hello, world\u001b[39m\n",
       "\u001b[36m  \u001b[39m\n",
       "\u001b[36m  julia> io = IOBuffer();\u001b[39m\n",
       "\u001b[36m  \u001b[39m\n",
       "\u001b[36m  julia> println(io, \"Hello, world\")\u001b[39m\n",
       "\u001b[36m  \u001b[39m\n",
       "\u001b[36m  julia> String(take!(io))\u001b[39m\n",
       "\u001b[36m  \"Hello, world\\n\"\u001b[39m"
      ]
     },
     "execution_count": 10,
     "metadata": {},
     "output_type": "execute_result"
    }
   ],
   "source": [
    "?println"
   ]
  },
  {
   "cell_type": "code",
   "execution_count": 11,
   "metadata": {},
   "outputs": [
    {
     "data": {
      "text/latex": [
       "\\begin{verbatim}\n",
       "@time\n",
       "\\end{verbatim}\n",
       "A macro to execute an expression, printing the time it took to execute, the number of allocations, and the total number of bytes its execution caused to be allocated, before returning the value of the expression.\n",
       "\n",
       "See also \\href{@ref}{\\texttt{@timev}}, \\href{@ref}{\\texttt{@timed}}, \\href{@ref}{\\texttt{@elapsed}}, and \\href{@ref}{\\texttt{@allocated}}.\n",
       "\n",
       "\\begin{verbatim}\n",
       "julia> @time rand(10^6);\n",
       "  0.001525 seconds (7 allocations: 7.630 MiB)\n",
       "\n",
       "julia> @time begin\n",
       "           sleep(0.3)\n",
       "           1+1\n",
       "       end\n",
       "  0.301395 seconds (8 allocations: 336 bytes)\n",
       "2\n",
       "\\end{verbatim}\n"
      ],
      "text/markdown": [
       "```\n",
       "@time\n",
       "```\n",
       "\n",
       "A macro to execute an expression, printing the time it took to execute, the number of allocations, and the total number of bytes its execution caused to be allocated, before returning the value of the expression.\n",
       "\n",
       "See also [`@timev`](@ref), [`@timed`](@ref), [`@elapsed`](@ref), and [`@allocated`](@ref).\n",
       "\n",
       "```julia-repl\n",
       "julia> @time rand(10^6);\n",
       "  0.001525 seconds (7 allocations: 7.630 MiB)\n",
       "\n",
       "julia> @time begin\n",
       "           sleep(0.3)\n",
       "           1+1\n",
       "       end\n",
       "  0.301395 seconds (8 allocations: 336 bytes)\n",
       "2\n",
       "```\n"
      ],
      "text/plain": [
       "\u001b[36m  @time\u001b[39m\n",
       "\n",
       "  A macro to execute an expression, printing the time it took to execute, the\n",
       "  number of allocations, and the total number of bytes its execution caused to\n",
       "  be allocated, before returning the value of the expression.\n",
       "\n",
       "  See also \u001b[36m@timev\u001b[39m, \u001b[36m@timed\u001b[39m, \u001b[36m@elapsed\u001b[39m, and \u001b[36m@allocated\u001b[39m.\n",
       "\n",
       "\u001b[36m  julia> @time rand(10^6);\u001b[39m\n",
       "\u001b[36m    0.001525 seconds (7 allocations: 7.630 MiB)\u001b[39m\n",
       "\u001b[36m  \u001b[39m\n",
       "\u001b[36m  julia> @time begin\u001b[39m\n",
       "\u001b[36m             sleep(0.3)\u001b[39m\n",
       "\u001b[36m             1+1\u001b[39m\n",
       "\u001b[36m         end\u001b[39m\n",
       "\u001b[36m    0.301395 seconds (8 allocations: 336 bytes)\u001b[39m\n",
       "\u001b[36m  2\u001b[39m"
      ]
     },
     "execution_count": 11,
     "metadata": {},
     "output_type": "execute_result"
    }
   ],
   "source": [
    "?@time"
   ]
  },
  {
   "cell_type": "code",
   "execution_count": 12,
   "metadata": {},
   "outputs": [
    {
     "name": "stdout",
     "output_type": "stream",
     "text": [
      "\tend\n",
      "# time: 2019-07-29 12:30:11 CEST\n",
      "# mode: julia\n",
      "\tavg = mean(map(fetch,results));\n",
      "# time: 2019-07-29 12:30:38 CEST\n",
      "# mode: julia\n",
      "\tusing Printf\n",
      "# time: 2019-07-29 12:30:38 CEST\n",
      "# mode: julia\n",
      "\t@printf \"Accuracy: %.2f%%\\n\" avg\n"
     ]
    }
   ],
   "source": [
    ";tail -n 10 \\~/.julia/logs/repl_history.jl"
   ]
  },
  {
   "cell_type": "code",
   "execution_count": 13,
   "metadata": {},
   "outputs": [
    {
     "data": {
      "text/plain": [
       "\"/home/dreuter/.julia/logs/repl_history.jl\""
      ]
     },
     "execution_count": 13,
     "metadata": {},
     "output_type": "execute_result"
    }
   ],
   "source": [
    "using REPL\n",
    "REPL.find_hist_file()"
   ]
  },
  {
   "cell_type": "code",
   "execution_count": 14,
   "metadata": {
    "scrolled": true
   },
   "outputs": [
    {
     "data": {
      "text/plain": [
       "`\u001b[4mtouch\u001b[24m \u001b[4mstartup.jl\u001b[24m`"
      ]
     },
     "execution_count": 14,
     "metadata": {},
     "output_type": "execute_result"
    }
   ],
   "source": [
    "# run commands through Julia\n",
    "`mkdir $(dirname(REPL.find_hist_file()))/../config`\n",
    "`cd $(dirname(REPL.find_hist_file()))/../config`\n",
    "`touch startup.jl`"
   ]
  },
  {
   "cell_type": "code",
   "execution_count": 15,
   "metadata": {},
   "outputs": [
    {
     "data": {
      "text/plain": [
       "28"
      ]
     },
     "execution_count": 15,
     "metadata": {},
     "output_type": "execute_result"
    }
   ],
   "source": [
    "write(\"startup.jl\", \"println(\\\"Welcome to Julia!\\\")\")"
   ]
  },
  {
   "cell_type": "code",
   "execution_count": 16,
   "metadata": {},
   "outputs": [
    {
     "name": "stdout",
     "output_type": "stream",
     "text": [
      "\u001b[32m\u001b[1m  Updating\u001b[22m\u001b[39m registry at `~/.julia/registries/General`\n",
      "\u001b[32m\u001b[1m  Updating\u001b[22m\u001b[39m git-repo `https://github.com/JuliaRegistries/General.git`\n",
      "\u001b[2K\u001b[?25h[1mFetching:\u001b[22m\u001b[39m [========================================>]  100.0 %.0 %\u001b[32m\u001b[1m Resolving\u001b[22m\u001b[39m package versions...\n",
      "\u001b[32m\u001b[1m Installed\u001b[22m\u001b[39m OhMyREPL ─ v0.5.1\n",
      "\u001b[32m\u001b[1m  Updating\u001b[22m\u001b[39m `~/.julia/environments/v1.1/Project.toml`\n",
      " \u001b[90m [5fb14364]\u001b[39m\u001b[92m + OhMyREPL v0.5.1\u001b[39m\n",
      "\u001b[32m\u001b[1m  Updating\u001b[22m\u001b[39m `~/.julia/environments/v1.1/Manifest.toml`\n",
      " \u001b[90m [5fb14364]\u001b[39m\u001b[92m + OhMyREPL v0.5.1\u001b[39m\n"
     ]
    }
   ],
   "source": [
    "using Pkg\n",
    "pkg\"add OhMyREPL\""
   ]
  },
  {
   "cell_type": "code",
   "execution_count": 18,
   "metadata": {},
   "outputs": [
    {
     "name": "stdout",
     "output_type": "stream",
     "text": [
      "\u001b[32m\u001b[1m   Cloning\u001b[22m\u001b[39m git-repo `https://github.com/JuliaLang/Example.jl.git`\n",
      "\u001b[2K\u001b[?25h[1mFetching:\u001b[22m\u001b[39m [========================================>]  100.0 %.0 % %.0 %             ]  66.8 %====================================>    ]  88.6 %\u001b[32m\u001b[1m  Updating\u001b[22m\u001b[39m git-repo `https://github.com/JuliaLang/Example.jl.git`\n",
      "\u001b[2K\u001b[?25h[1mFetching:\u001b[22m\u001b[39m [========================================>]  100.0 %.0 %\u001b[32m\u001b[1m Resolving\u001b[22m\u001b[39m package versions...\n",
      "\u001b[32m\u001b[1m  Updating\u001b[22m\u001b[39m `~/work/datasets/Julia-Projects/Chapter01/Project.toml`\n",
      " \u001b[90m [7876af07]\u001b[39m\u001b[92m + Example v0.5.3 #master (https://github.com/JuliaLang/Example.jl.git)\u001b[39m\n",
      "\u001b[32m\u001b[1m  Updating\u001b[22m\u001b[39m `~/work/datasets/Julia-Projects/Chapter01/Manifest.toml`\n",
      " \u001b[90m [7876af07]\u001b[39m\u001b[92m + Example v0.5.3 #master (https://github.com/JuliaLang/Example.jl.git)\u001b[39m\n"
     ]
    }
   ],
   "source": [
    "pkg\"add https://github.com/JuliaLang/Example.jl.git\""
   ]
  },
  {
   "cell_type": "code",
   "execution_count": 19,
   "metadata": {},
   "outputs": [
    {
     "name": "stdout",
     "output_type": "stream",
     "text": [
      "\u001b[32m\u001b[1m   Cloning\u001b[22m\u001b[39m git-repo `https://github.com/KristofferC/OhMyREPL.jl.git`\n",
      "\u001b[2K\u001b[?25h\u001b[32m\u001b[1m  Updating\u001b[22m\u001b[39m git-repo `https://github.com/KristofferC/OhMyREPL.jl.git`mFetching:\u001b[22m\u001b[39m [======>                                  ]  15.0 %\u001b[36m\u001b[1mFetching:\u001b[22m\u001b[39m [=======>                                 ]  16.1 %.2 %>                       ]  40.9 %]  44.2 % [=========================>               ]  61.9 % [============================>            ]  69.3 %]  86.9 %=======================================> ]  96.0 %\n",
      "\u001b[2K\u001b[?25h\u001b[32m\u001b[1m Resolving\u001b[22m\u001b[39m package versions...===============>]  100.0 %.0 % [===========>                             ]  25.7 %]  40.1 % [===========================>             ]  65.8 %83.4 %\n",
      "\u001b[32m\u001b[1m Installed\u001b[22m\u001b[39m TerminalRegressionTests ─ v0.1.2\n",
      "\u001b[32m\u001b[1m Installed\u001b[22m\u001b[39m VT100 ─────────────────── v0.3.2\n",
      "\u001b[32m\u001b[1m Installed\u001b[22m\u001b[39m Crayons ───────────────── v2.0.0\n",
      "\u001b[32m\u001b[1m  Updating\u001b[22m\u001b[39m `~/work/datasets/Julia-Projects/Chapter01/Project.toml`\n",
      " \u001b[90m [5fb14364]\u001b[39m\u001b[93m ↑ OhMyREPL v0.4.1 ⇒ v0.5.1 #master (https://github.com/KristofferC/OhMyREPL.jl.git)\u001b[39m\n",
      "\u001b[32m\u001b[1m  Updating\u001b[22m\u001b[39m `~/work/datasets/Julia-Projects/Chapter01/Manifest.toml`\n",
      " \u001b[90m [3da002f7]\u001b[39m\u001b[92m + ColorTypes v0.8.0\u001b[39m\n",
      " \u001b[90m [a8cc5b0e]\u001b[39m\u001b[95m ↓ Crayons v4.0.0 ⇒ v2.0.0\u001b[39m\n",
      " \u001b[90m [53c48c17]\u001b[39m\u001b[92m + FixedPointNumbers v0.5.3\u001b[39m\n",
      " \u001b[90m [5fb14364]\u001b[39m\u001b[93m ↑ OhMyREPL v0.4.1 ⇒ v0.5.1 #master (https://github.com/KristofferC/OhMyREPL.jl.git)\u001b[39m\n",
      " \u001b[90m [98bfdc55]\u001b[39m\u001b[92m + TerminalRegressionTests v0.1.2\u001b[39m\n",
      " \u001b[90m [7774df62]\u001b[39m\u001b[92m + VT100 v0.3.2\u001b[39m\n"
     ]
    }
   ],
   "source": [
    "pkg\"add OhMyREPL#master\""
   ]
  },
  {
   "cell_type": "code",
   "execution_count": 20,
   "metadata": {},
   "outputs": [
    {
     "name": "stdout",
     "output_type": "stream",
     "text": [
      "\u001b[32m\u001b[1m  Updating\u001b[22m\u001b[39m git-repo `https://github.com/JuliaLang/Example.jl.git`\n",
      "\u001b[?25l\u001b[2K\u001b[?25h\u001b[32m\u001b[1m Resolving\u001b[22m\u001b[39m package versions...\n",
      "\u001b[32m\u001b[1m  Updating\u001b[22m\u001b[39m `~/work/datasets/Julia-Projects/Chapter01/Project.toml`\n",
      "\u001b[90m [no changes]\u001b[39m\n",
      "\u001b[32m\u001b[1m  Updating\u001b[22m\u001b[39m `~/work/datasets/Julia-Projects/Chapter01/Manifest.toml`\n",
      "\u001b[90m [no changes]\u001b[39m\n"
     ]
    }
   ],
   "source": [
    "pkg\"add https://github.com/JuliaLang/Example.jl.git#master\""
   ]
  },
  {
   "cell_type": "code",
   "execution_count": 21,
   "metadata": {},
   "outputs": [
    {
     "name": "stdout",
     "output_type": "stream",
     "text": [
      "\u001b[32m\u001b[1m Resolving\u001b[22m\u001b[39m package versions...\n",
      "\u001b[32m\u001b[1m  Updating\u001b[22m\u001b[39m `~/work/datasets/Julia-Projects/Chapter01/Project.toml`\n",
      " \u001b[90m [5fb14364]\u001b[39m\u001b[37m   OhMyREPL v0.5.1\u001b[39m\n",
      "\u001b[32m\u001b[1m  Updating\u001b[22m\u001b[39m `~/work/datasets/Julia-Projects/Chapter01/Manifest.toml`\n",
      " \u001b[90m [3da002f7]\u001b[39m\u001b[91m - ColorTypes v0.8.0\u001b[39m\n",
      " \u001b[90m [a8cc5b0e]\u001b[39m\u001b[93m ↑ Crayons v2.0.0 ⇒ v4.0.0\u001b[39m\n",
      " \u001b[90m [53c48c17]\u001b[39m\u001b[91m - FixedPointNumbers v0.5.3\u001b[39m\n",
      " \u001b[90m [5fb14364]\u001b[39m\u001b[37m   OhMyREPL v0.5.1\u001b[39m\n",
      " \u001b[90m [98bfdc55]\u001b[39m\u001b[91m - TerminalRegressionTests v0.1.2\u001b[39m\n",
      " \u001b[90m [7774df62]\u001b[39m\u001b[91m - VT100 v0.3.2\u001b[39m\n"
     ]
    }
   ],
   "source": [
    "pkg\"free OhMyREPL\""
   ]
  },
  {
   "cell_type": "code",
   "execution_count": 22,
   "metadata": {},
   "outputs": [
    {
     "name": "stdout",
     "output_type": "stream",
     "text": [
      "\u001b[32m\u001b[1m Resolving\u001b[22m\u001b[39m package versions...\n",
      "\u001b[32m\u001b[1m  Updating\u001b[22m\u001b[39m `~/work/datasets/Julia-Projects/Chapter01/Project.toml`\n",
      "\u001b[90m [no changes]\u001b[39m\n",
      "\u001b[32m\u001b[1m  Updating\u001b[22m\u001b[39m `~/work/datasets/Julia-Projects/Chapter01/Manifest.toml`\n",
      "\u001b[90m [no changes]\u001b[39m\n"
     ]
    }
   ],
   "source": [
    "pkg\"add Revise\""
   ]
  },
  {
   "cell_type": "code",
   "execution_count": 23,
   "metadata": {},
   "outputs": [
    {
     "name": "stdout",
     "output_type": "stream",
     "text": [
      "\u001b[32m\u001b[1m    Status\u001b[22m\u001b[39m `~/work/datasets/Julia-Projects/Chapter01/Project.toml`\n",
      " \u001b[90m [7876af07]\u001b[39m\u001b[37m Example v0.5.3 #master (https://github.com/JuliaLang/Example.jl.git)\u001b[39m\n",
      " \u001b[90m [7073ff75]\u001b[39m\u001b[37m IJulia v1.14.1\u001b[39m\n",
      " \u001b[90m [5fb14364]\u001b[39m\u001b[37m OhMyREPL v0.5.1\u001b[39m\n",
      " \u001b[90m [295af30f]\u001b[39m\u001b[37m Revise v0.7.14\u001b[39m\n",
      " \u001b[90m [ade2ca70]\u001b[39m\u001b[37m Dates \u001b[39m\n",
      " \u001b[90m [44cfe95a]\u001b[39m\u001b[37m Pkg \u001b[39m\n",
      " \u001b[90m [9abbd945]\u001b[39m\u001b[37m Profile \u001b[39m\n",
      " \u001b[90m [3fa0cd96]\u001b[39m\u001b[37m REPL \u001b[39m\n"
     ]
    }
   ],
   "source": [
    "pkg\"status\""
   ]
  },
  {
   "cell_type": "code",
   "execution_count": 24,
   "metadata": {},
   "outputs": [
    {
     "name": "stdout",
     "output_type": "stream",
     "text": [
      "\u001b[32m\u001b[1m    Status\u001b[22m\u001b[39m `~/work/datasets/Julia-Projects/Chapter01/Project.toml`\n",
      " \u001b[90m [7876af07]\u001b[39m\u001b[37m Example v0.5.3 #master (https://github.com/JuliaLang/Example.jl.git)\u001b[39m\n",
      " \u001b[90m [7073ff75]\u001b[39m\u001b[37m IJulia v1.14.1\u001b[39m\n",
      " \u001b[90m [5fb14364]\u001b[39m\u001b[37m OhMyREPL v0.5.1\u001b[39m\n",
      " \u001b[90m [295af30f]\u001b[39m\u001b[37m Revise v0.7.14\u001b[39m\n",
      " \u001b[90m [ade2ca70]\u001b[39m\u001b[37m Dates \u001b[39m\n",
      " \u001b[90m [44cfe95a]\u001b[39m\u001b[37m Pkg \u001b[39m\n",
      " \u001b[90m [9abbd945]\u001b[39m\u001b[37m Profile \u001b[39m\n",
      " \u001b[90m [3fa0cd96]\u001b[39m\u001b[37m REPL \u001b[39m\n"
     ]
    }
   ],
   "source": [
    "pkg\"st\""
   ]
  },
  {
   "cell_type": "code",
   "execution_count": 25,
   "metadata": {},
   "outputs": [
    {
     "name": "stdout",
     "output_type": "stream",
     "text": [
      "\u001b[32m\u001b[1m  Updating\u001b[22m\u001b[39m registry at `/opt/julia/registries/General`\n",
      "\u001b[32m\u001b[1m  Updating\u001b[22m\u001b[39m git-repo `https://github.com/JuliaRegistries/General.git`\n",
      "\u001b[?25l\u001b[2K\u001b[?25h\u001b[32m\u001b[1m  Updating\u001b[22m\u001b[39m git-repo `https://github.com/JuliaLang/Example.jl.git`\n",
      "\u001b[?25l\u001b[2K\u001b[?25h\u001b[32m\u001b[1m Resolving\u001b[22m\u001b[39m package versions...\n",
      "\u001b[32m\u001b[1m Installed\u001b[22m\u001b[39m LoweredCodeUtils ─ v0.3.5\n",
      "\u001b[32m\u001b[1m Installed\u001b[22m\u001b[39m CodeTracking ───── v0.5.7\n",
      "\u001b[32m\u001b[1m Installed\u001b[22m\u001b[39m JuliaInterpreter ─ v0.6.0\n",
      "\u001b[32m\u001b[1m Installed\u001b[22m\u001b[39m Revise ─────────── v2.1.6\n",
      "\u001b[32m\u001b[1m  Updating\u001b[22m\u001b[39m `~/work/datasets/Julia-Projects/Chapter01/Project.toml`\n",
      " \u001b[90m [7073ff75]\u001b[39m\u001b[93m ↑ IJulia v1.14.1 ⇒ v1.18.1\u001b[39m\n",
      " \u001b[90m [295af30f]\u001b[39m\u001b[93m ↑ Revise v0.7.14 ⇒ v2.1.6\u001b[39m\n",
      "\u001b[32m\u001b[1m  Updating\u001b[22m\u001b[39m `~/work/datasets/Julia-Projects/Chapter01/Manifest.toml`\n",
      " \u001b[90m [da1fd8a2]\u001b[39m\u001b[92m + CodeTracking v0.5.7\u001b[39m\n",
      " \u001b[90m [7073ff75]\u001b[39m\u001b[93m ↑ IJulia v1.14.1 ⇒ v1.18.1\u001b[39m\n",
      " \u001b[90m [aa1ae85d]\u001b[39m\u001b[92m + JuliaInterpreter v0.6.0\u001b[39m\n",
      " \u001b[90m [6f1432cf]\u001b[39m\u001b[92m + LoweredCodeUtils v0.3.5\u001b[39m\n",
      " \u001b[90m [295af30f]\u001b[39m\u001b[93m ↑ Revise v0.7.14 ⇒ v2.1.6\u001b[39m\n"
     ]
    }
   ],
   "source": [
    "pkg\"update\""
   ]
  },
  {
   "cell_type": "code",
   "execution_count": 26,
   "metadata": {},
   "outputs": [
    {
     "name": "stdout",
     "output_type": "stream",
     "text": [
      "\u001b[32m\u001b[1m  Updating\u001b[22m\u001b[39m registry at `/opt/julia/registries/General`\n",
      "\u001b[32m\u001b[1m  Updating\u001b[22m\u001b[39m git-repo `https://github.com/JuliaRegistries/General.git`\n",
      "\u001b[?25l\u001b[2K\u001b[?25h\u001b[32m\u001b[1m Resolving\u001b[22m\u001b[39m package versions...\n",
      "\u001b[32m\u001b[1m  Updating\u001b[22m\u001b[39m `~/work/datasets/Julia-Projects/Chapter01/Project.toml`\n",
      "\u001b[90m [no changes]\u001b[39m\n",
      "\u001b[32m\u001b[1m  Updating\u001b[22m\u001b[39m `~/work/datasets/Julia-Projects/Chapter01/Manifest.toml`\n",
      "\u001b[90m [no changes]\u001b[39m\n"
     ]
    }
   ],
   "source": [
    "pkg\"update OhMyREPL Revise\""
   ]
  },
  {
   "cell_type": "code",
   "execution_count": 27,
   "metadata": {},
   "outputs": [
    {
     "name": "stdout",
     "output_type": "stream",
     "text": [
      "\u001b[36m\u001b[1m───── Preview mode ─────\u001b[22m\u001b[39m\n",
      "\u001b[32m\u001b[1m Resolving\u001b[22m\u001b[39m package versions...\n"
     ]
    },
    {
     "name": "stderr",
     "output_type": "stream",
     "text": [
      "┌ Info: skipping updating registries in preview mode\n",
      "└ @ Pkg.Types /buildworker/worker/package_linux64/build/usr/share/julia/stdlib/v1.1/Pkg/src/Types.jl:1211\n"
     ]
    },
    {
     "name": "stdout",
     "output_type": "stream",
     "text": [
      "\u001b[32m\u001b[1m  Updating\u001b[22m\u001b[39m `~/work/datasets/Julia-Projects/Chapter01/Project.toml`\n",
      "\u001b[90m [no changes]\u001b[39m\n",
      "\u001b[32m\u001b[1m  Updating\u001b[22m\u001b[39m `~/work/datasets/Julia-Projects/Chapter01/Manifest.toml`\n",
      "\u001b[90m [no changes]\u001b[39m\n",
      "\u001b[32m\u001b[1m  Building\u001b[22m\u001b[39m skipping building in preview mode\n",
      "\u001b[36m\u001b[1m───── Preview mode ─────\u001b[22m\u001b[39m\n"
     ]
    }
   ],
   "source": [
    "pkg\"preview update OhMyREPL\""
   ]
  },
  {
   "cell_type": "code",
   "execution_count": 31,
   "metadata": {},
   "outputs": [
    {
     "name": "stdout",
     "output_type": "stream",
     "text": [
      "\u001b[36m\u001b[1m───── Preview mode ─────\u001b[22m\u001b[39m\n",
      "\u001b[32m\u001b[1m Resolving\u001b[22m\u001b[39m package versions...\n",
      "\u001b[32m\u001b[1m  Updating\u001b[22m\u001b[39m `~/work/datasets/Julia-Projects/Chapter01/Project.toml`\n",
      " \u001b[90m [cd3eb016]\u001b[39m\u001b[92m + HTTP v0.8.4\u001b[39m\n",
      "\u001b[32m\u001b[1m  Updating\u001b[22m\u001b[39m `~/work/datasets/Julia-Projects/Chapter01/Manifest.toml`\n",
      " \u001b[90m [cd3eb016]\u001b[39m\u001b[92m + HTTP v0.8.4\u001b[39m\n",
      " \u001b[90m [83e8ac13]\u001b[39m\u001b[92m + IniFile v0.5.0\u001b[39m\n",
      "\u001b[32m\u001b[1m  Building\u001b[22m\u001b[39m skipping building in preview mode\n",
      "\u001b[36m\u001b[1m───── Preview mode ─────\u001b[22m\u001b[39m\n"
     ]
    }
   ],
   "source": [
    "pkg\"preview add HTTP\""
   ]
  },
  {
   "cell_type": "code",
   "execution_count": 32,
   "metadata": {},
   "outputs": [
    {
     "name": "stdout",
     "output_type": "stream",
     "text": [
      "\u001b[32m\u001b[1m Resolving\u001b[22m\u001b[39m package versions...\n",
      "\u001b[32m\u001b[1m  Updating\u001b[22m\u001b[39m `~/work/datasets/Julia-Projects/Chapter01/Project.toml`\n",
      " \u001b[90m [5fb14364]\u001b[39m\u001b[93m ~ OhMyREPL v0.5.1 ⇒ v0.5.1 ⚲\u001b[39m\n",
      "\u001b[32m\u001b[1m  Updating\u001b[22m\u001b[39m `~/work/datasets/Julia-Projects/Chapter01/Manifest.toml`\n",
      " \u001b[90m [5fb14364]\u001b[39m\u001b[93m ~ OhMyREPL v0.5.1 ⇒ v0.5.1 ⚲\u001b[39m\n"
     ]
    }
   ],
   "source": [
    "pkg\"pin OhMyREPL\""
   ]
  },
  {
   "cell_type": "code",
   "execution_count": 33,
   "metadata": {},
   "outputs": [
    {
     "name": "stdout",
     "output_type": "stream",
     "text": [
      "\u001b[32m\u001b[1m  Updating\u001b[22m\u001b[39m `~/work/datasets/Julia-Projects/Chapter01/Project.toml`\n",
      " \u001b[90m [5fb14364]\u001b[39m\u001b[93m ~ OhMyREPL v0.5.1 ⚲ ⇒ v0.5.1\u001b[39m\n",
      "\u001b[32m\u001b[1m  Updating\u001b[22m\u001b[39m `~/work/datasets/Julia-Projects/Chapter01/Manifest.toml`\n",
      " \u001b[90m [5fb14364]\u001b[39m\u001b[93m ~ OhMyREPL v0.5.1 ⚲ ⇒ v0.5.1\u001b[39m\n"
     ]
    }
   ],
   "source": [
    "pkg\"free OhMyREPL\""
   ]
  },
  {
   "cell_type": "code",
   "execution_count": 34,
   "metadata": {},
   "outputs": [
    {
     "name": "stdout",
     "output_type": "stream",
     "text": [
      "\u001b[32m\u001b[1m    Status\u001b[22m\u001b[39m `~/work/datasets/Julia-Projects/Chapter01/Project.toml`\n",
      " \u001b[90m [7876af07]\u001b[39m\u001b[37m Example v0.5.3 #master (https://github.com/JuliaLang/Example.jl.git)\u001b[39m\n",
      " \u001b[90m [7073ff75]\u001b[39m\u001b[37m IJulia v1.18.1\u001b[39m\n",
      " \u001b[90m [5fb14364]\u001b[39m\u001b[37m OhMyREPL v0.5.1\u001b[39m\n",
      " \u001b[90m [295af30f]\u001b[39m\u001b[37m Revise v2.1.6\u001b[39m\n",
      " \u001b[90m [ade2ca70]\u001b[39m\u001b[37m Dates \u001b[39m\n",
      " \u001b[90m [44cfe95a]\u001b[39m\u001b[37m Pkg \u001b[39m\n",
      " \u001b[90m [9abbd945]\u001b[39m\u001b[37m Profile \u001b[39m\n",
      " \u001b[90m [3fa0cd96]\u001b[39m\u001b[37m REPL \u001b[39m\n"
     ]
    }
   ],
   "source": [
    "pkg\"st\""
   ]
  },
  {
   "cell_type": "code",
   "execution_count": 35,
   "metadata": {},
   "outputs": [
    {
     "name": "stdout",
     "output_type": "stream",
     "text": [
      "\u001b[32m\u001b[1m  Updating\u001b[22m\u001b[39m `~/work/datasets/Julia-Projects/Chapter01/Project.toml`\n",
      " \u001b[90m [7876af07]\u001b[39m\u001b[91m - Example v0.5.3 #master (https://github.com/JuliaLang/Example.jl.git)\u001b[39m\n",
      "\u001b[32m\u001b[1m  Updating\u001b[22m\u001b[39m `~/work/datasets/Julia-Projects/Chapter01/Manifest.toml`\n",
      " \u001b[90m [7876af07]\u001b[39m\u001b[91m - Example v0.5.3 #master (https://github.com/JuliaLang/Example.jl.git)\u001b[39m\n"
     ]
    }
   ],
   "source": [
    "pkg\"remove Example\""
   ]
  },
  {
   "cell_type": "code",
   "execution_count": 36,
   "metadata": {
    "scrolled": true
   },
   "outputs": [
    {
     "name": "stdout",
     "output_type": "stream",
     "text": [
      "\u001b[32m\u001b[1m    Active\u001b[22m\u001b[39m manifests:\n",
      "        `~/work/datasets/Julia-Projects/Chapter01/Manifest.toml`\n",
      "        `/opt/julia/environments/v1.1/Manifest.toml`\n",
      "\u001b[32m\u001b[1m   Deleted\u001b[22m\u001b[39m `/opt/julia/packages/BinaryProvider/4F5Hq` (168.261 KiB)\n",
      "\u001b[32m\u001b[1m   Deleted\u001b[22m\u001b[39m `/opt/julia/packages/CSTParser/i8cPl` (196.203 KiB)\n",
      "\u001b[32m\u001b[1m   Deleted\u001b[22m\u001b[39m `/opt/julia/packages/Calculus/2qBLt` (51.808 KiB)\n",
      "\u001b[32m\u001b[1m   Deleted\u001b[22m\u001b[39m `/opt/julia/packages/Compat/HVYNa` (154.677 KiB)\n",
      "\u001b[32m\u001b[1m   Deleted\u001b[22m\u001b[39m `/opt/julia/packages/Conda/uQitS` (19.424 KiB)\n",
      "\u001b[32m\u001b[1m   Deleted\u001b[22m\u001b[39m `/opt/julia/packages/Crayons/U4Pig` (48.112 KiB)\n",
      "\u001b[32m\u001b[1m   Deleted\u001b[22m\u001b[39m `/opt/julia/packages/Crayons/Vjwye` (48.168 KiB)\n",
      "\u001b[32m\u001b[1m   Deleted\u001b[22m\u001b[39m `/opt/julia/packages/Example/aqsx3` (5.138 KiB)\n",
      "\u001b[32m\u001b[1m   Deleted\u001b[22m\u001b[39m `/opt/julia/packages/FFMPEG/7auNk` (88.254 MiB)\n",
      "\u001b[32m\u001b[1m   Deleted\u001b[22m\u001b[39m `/opt/julia/packages/FillArrays/MoGDs` (56.094 KiB)\n",
      "\u001b[32m\u001b[1m   Deleted\u001b[22m\u001b[39m `/opt/julia/packages/FixedPointNumbers/870tH` (43.307 KiB)\n",
      "\u001b[32m\u001b[1m   Deleted\u001b[22m\u001b[39m `/opt/julia/packages/GeometryTypes/ETYtg` (641.098 KiB)\n",
      "\u001b[32m\u001b[1m   Deleted\u001b[22m\u001b[39m `/opt/julia/packages/IJulia/DL02A` (239.408 KiB)\n",
      "\u001b[32m\u001b[1m   Deleted\u001b[22m\u001b[39m `/opt/julia/packages/MbedTLS/r1Ufc` (5.734 MiB)\n",
      "\u001b[32m\u001b[1m   Deleted\u001b[22m\u001b[39m `/opt/julia/packages/OhMyREPL/oI1lW` (473.760 KiB)\n",
      "\u001b[32m\u001b[1m   Deleted\u001b[22m\u001b[39m `/opt/julia/packages/Optim/jEemo` (649.721 KiB)\n",
      "\u001b[32m\u001b[1m   Deleted\u001b[22m\u001b[39m `/opt/julia/packages/OrderedCollections/Pr9Pa` (54.163 KiB)\n",
      "\u001b[32m\u001b[1m   Deleted\u001b[22m\u001b[39m `/opt/julia/packages/Parameters/NholY` (59.576 KiB)\n",
      "\u001b[32m\u001b[1m   Deleted\u001b[22m\u001b[39m `/opt/julia/packages/Plots/jWNMG` (602.563 KiB)\n",
      "\u001b[32m\u001b[1m   Deleted\u001b[22m\u001b[39m `/opt/julia/packages/Revise/gStbk` (223.675 KiB)\n",
      "\u001b[32m\u001b[1m   Deleted\u001b[22m\u001b[39m `/opt/julia/packages/SoftGlobalScope/ujmiK` (23.404 KiB)\n",
      "\u001b[32m\u001b[1m   Deleted\u001b[22m\u001b[39m `/opt/julia/packages/TerminalRegressionTests/414PT` (12.717 KiB)\n",
      "\u001b[32m\u001b[1m   Deleted\u001b[22m\u001b[39m `/opt/julia/packages/Tokenize/i9TZ5` (141.180 KiB)\n",
      "\u001b[32m\u001b[1m   Deleted\u001b[22m\u001b[39m `/opt/julia/packages/VT100/dVkXq` (22.674 KiB)\n",
      "\u001b[32m\u001b[1m   Deleted\u001b[22m\u001b[39m 24 package installations (97.830 MiB)\n"
     ]
    }
   ],
   "source": [
    "pkg\"gc\""
   ]
  },
  {
   "cell_type": "code",
   "execution_count": null,
   "metadata": {},
   "outputs": [],
   "source": []
  }
 ],
 "metadata": {
  "kernelspec": {
   "display_name": "Julia 1.1.1",
   "language": "julia",
   "name": "julia-1.1"
  },
  "language_info": {
   "file_extension": ".jl",
   "mimetype": "application/julia",
   "name": "julia",
   "version": "1.1.1"
  }
 },
 "nbformat": 4,
 "nbformat_minor": 2
}
