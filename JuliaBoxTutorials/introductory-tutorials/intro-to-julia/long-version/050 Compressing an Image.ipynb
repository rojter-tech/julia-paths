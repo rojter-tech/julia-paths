{
 "cells": [
  {
   "cell_type": "code",
   "execution_count": null,
   "metadata": {},
   "outputs": [],
   "source": [
    "# Helpful packages for working with images and factorizations\n",
    "# using Pkg; Pkg.add(\"Images\")\n",
    "# using Pkg; Pkg.add(\"ImageMagick\") # And this allows us to load JPEG-encoded images\n",
    "using Images, LinearAlgebra, Interact"
   ]
  },
  {
   "cell_type": "markdown",
   "metadata": {},
   "source": [
    "### Using a SVD to compress an image\n",
    "\n",
    "In this exercise, we'll use a singular value decomposition (SVD) to compress an image -- so that we can store an image without keeping around \"unnecessary\" information.\n",
    "\n",
    "To start, let's define a singular value decomposition. In a SVD, we take a matrix $A$ and factorize it so that\n",
    "\n",
    "$$A = USV^T$$\n",
    "\n",
    "where matrices $U$ and $V$ are unitary and hold our singular vectors. Matrix $S$ is diagonal and stores our singular values in decreasing order from top/left to bottom/right.\n",
    "\n",
    "In Julia, our images are stored as arrays, so we can think of `yellowbanana` as a matrix"
   ]
  },
  {
   "cell_type": "code",
   "execution_count": null,
   "metadata": {},
   "outputs": [],
   "source": [
    "file = download(\"https://uploads6.wikiart.org/images/salvador-dali/the-persistence-of-memory-1931.jpg!Large.jpg\")"
   ]
  },
  {
   "cell_type": "code",
   "execution_count": null,
   "metadata": {},
   "outputs": [],
   "source": [
    "img = load(file)"
   ]
  },
  {
   "cell_type": "code",
   "execution_count": null,
   "metadata": {},
   "outputs": [],
   "source": [
    "size(img)"
   ]
  },
  {
   "cell_type": "code",
   "execution_count": null,
   "metadata": {},
   "outputs": [],
   "source": [
    "img[24,24] # Each element in the array is a color"
   ]
  },
  {
   "cell_type": "code",
   "execution_count": null,
   "metadata": {},
   "outputs": [],
   "source": [
    "dump(img[24,24])"
   ]
  },
  {
   "cell_type": "markdown",
   "metadata": {},
   "source": [
    "We can extract each \"channel\" of red, green, and blue and view each independently:"
   ]
  },
  {
   "cell_type": "code",
   "execution_count": null,
   "metadata": {},
   "outputs": [],
   "source": [
    "channels = Float64.(channelview(img))\n",
    "Gray.(channels[1, :, :])"
   ]
  },
  {
   "cell_type": "markdown",
   "metadata": {},
   "source": [
    "That means we can take the SVD of this image. So, we can store this picture of a banana as sets of singular vectors and singular values.\n",
    "\n",
    "**The reason this is important** is that we'll find that we do **not** need to keep track of *all* the singular vectors and *all* the singular values to store an image that still looks like a banana! This means we can choose to keep only the important information, throw away the rest, and thereby \"compress\" the image."
   ]
  },
  {
   "cell_type": "markdown",
   "metadata": {},
   "source": [
    "If we don't throw away any data, we get back what we started with:"
   ]
  },
  {
   "cell_type": "code",
   "execution_count": null,
   "metadata": {},
   "outputs": [],
   "source": [
    "U, S, V = svd(channels[1,:,:])\n",
    "Gray.(U * Diagonal(S) * V')"
   ]
  },
  {
   "cell_type": "markdown",
   "metadata": {},
   "source": [
    "But of course we're not doing any compression here — the sizes of U, S, and V are bigger than our original matrix! This is like the opposite of compression.  The key is that the values are stored in decreasing order so we can start throwing things away."
   ]
  },
  {
   "cell_type": "code",
   "execution_count": null,
   "metadata": {},
   "outputs": [],
   "source": [
    "sum(length.((U, S, V)))"
   ]
  },
  {
   "cell_type": "code",
   "execution_count": null,
   "metadata": {},
   "outputs": [],
   "source": [
    "length(img)"
   ]
  },
  {
   "cell_type": "code",
   "execution_count": null,
   "metadata": {},
   "outputs": [],
   "source": [
    "Gray.(U[:, 1:25] * Diagonal(S[1:25]) * V[:, 1:25]')"
   ]
  },
  {
   "cell_type": "code",
   "execution_count": null,
   "metadata": {},
   "outputs": [],
   "source": [
    "sum(length.((U[:, 1:25], S[1:25], V[:, 1:25])))/length(img)"
   ]
  },
  {
   "cell_type": "markdown",
   "metadata": {},
   "source": [
    "Of course this is just one channel of the image. Let's put it all back together and see how we can compress the different channels to find an acceptable compression level."
   ]
  },
  {
   "cell_type": "code",
   "execution_count": null,
   "metadata": {},
   "outputs": [],
   "source": [
    "function rank_approx(M, k)\n",
    "    U, S, V = svd(M)\n",
    "    \n",
    "    M = U[:, 1:k] * Diagonal(S[1:k]) * V[:, 1:k]'\n",
    "    \n",
    "    M = min.(max.(M, 0.0), 1.)\n",
    "end\n",
    "\n",
    "n = 100\n",
    "@manipulate for k1 in 1:n, k2 in 1:n, k3 in 1:n\n",
    "    colorview(  RGB, \n",
    "                rank_approx(channels[1,:,:], k1),\n",
    "                rank_approx(channels[2,:,:], k2),\n",
    "                rank_approx(channels[3,:,:], k3)\n",
    "    )\n",
    "end"
   ]
  },
  {
   "cell_type": "markdown",
   "metadata": {},
   "source": [
    "**So how can we use a SVD to determine what information in an image is really important?**\n",
    "\n",
    "The singular values tell us!\n",
    "\n",
    "If we have matrices $U$, $S$, and $V$ from our image, we can rebuild that image with the matrix product $USV^T$. \n",
    "\n",
    "Taking this matrix product is the same as adding together the outer products of each corresponding pair of vectors from $U$ and $V$, scaled by a singular value ($\\sigma$) from $S$. In other words, for a (100 x 100) pixel image,\n",
    "\n",
    "$$A_{image} = USV^T = \\sum_{i = 1}^{100} \\sigma_i \\mathbf{u_i}\\mathbf{v_i'} $$\n",
    "\n",
    "Every outer product $u_i * v_i'$ creates a (100 x 100) matrix. Here we're summing together one hundred (100 x 100) matrices in order to create the original matrix $A_{image}$. The matrices at the beginning of the series -- those that are scaled by **large** singular values -- will be **much** more important in recreating the original matrix $A_{image}$.\n",
    "\n",
    "This means we can approximate $A_{image}$ as\n",
    "\n",
    "$$A_{image} \\approx \\sum_{i = 1}^{n} \\sigma_i \\mathbf{u_i}\\mathbf{v_i'}$$\n",
    "\n",
    "where $n < 100$.\n",
    "\n",
    "\n",
    "#### Exercise\n",
    "\n",
    "Write a function called `compress_image`. Its input arguments should be an image and the factor by which you want to compress the image. A compressed grayscale image should display when `compress_image` is called.\n",
    "\n",
    "For example,\n",
    "\n",
    "```julia\n",
    "compress_image(\"images/104_100.jpg\", 33)\n",
    "```\n",
    "\n",
    "will return a compressed image of a grayscale banana built using 3 singular values. (This image has 100 singular values, so use `fld(100, 33)` to determine how many singular values to keep. `fld` performs \"floor\" division.)\n",
    "\n",
    "*Hints*: \n",
    "\n",
    "* Perform the SVD on the `channelview` of a grayscale image.\n",
    "* In an empty input cell, execute `?svd` to find a function that wil perform an SVD for you."
   ]
  },
  {
   "cell_type": "code",
   "execution_count": null,
   "metadata": {},
   "outputs": [],
   "source": []
  },
  {
   "cell_type": "code",
   "execution_count": null,
   "metadata": {},
   "outputs": [],
   "source": []
  },
  {
   "cell_type": "code",
   "execution_count": null,
   "metadata": {},
   "outputs": [],
   "source": []
  },
  {
   "cell_type": "code",
   "execution_count": null,
   "metadata": {},
   "outputs": [],
   "source": []
  }
 ],
 "metadata": {
  "@webio": {
   "lastCommId": "5e144a5bd04b4d949caff7c11e73884b",
   "lastKernelId": "738a9bd6-5689-49ee-81cc-4258f19f4033"
  },
  "kernelspec": {
   "display_name": "Julia 1.0.0",
   "language": "julia",
   "name": "julia-1.0"
  },
  "language_info": {
   "file_extension": ".jl",
   "mimetype": "application/julia",
   "name": "julia",
   "version": "1.0.0"
  }
 },
 "nbformat": 4,
 "nbformat_minor": 2
}
