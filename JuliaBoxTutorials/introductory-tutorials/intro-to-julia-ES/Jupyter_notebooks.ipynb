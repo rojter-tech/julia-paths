{
 "cells": [
  {
   "cell_type": "markdown",
   "metadata": {},
   "source": [
    "## Comenzando con Jupyter Notebooks\n",
    "\n",
    "Un documento de **Jupyter** está compuesto por celdas. Las celdas se delimitan por cajas con bordes grises o verdes, dependiendo si se están editando o no.\n",
    "\n",
    "Las celdas se clasifican en dos tipos: celdas de código y de texto tipo *markdown*.\n",
    "\n",
    "### Editando celdas tipo *Markdown*\n",
    "Para ver el texto plano de esta celda, solamente debes hacer doble click sobre el texto. Automáticamente podrás editar el texto y caerás en cuenta lo sencillo es darle formato.  \n",
    "\n",
    "Aquí encontrarás un [tutorial](https://www.markdowntutorial.com) y [manual de referencias rápido](https://en.support.wordpress.com/markdown-quick-reference/) con la información básica que vas a necesitar para darle un formato pulcro a tus archivos.\n",
    "\n",
    "### Corriendo una celda de código\n",
    "Para ejecutar una celda de código, seleccióna la celda y (1) presiona `Shift` + `Enter` o (2) haz click en el botón de correr que se encuentra en la barra de herramientas superior:"
   ]
  },
  {
   "cell_type": "code",
   "execution_count": null,
   "metadata": {},
   "outputs": [],
   "source": [
    "1 + 1\n",
    "2 + 2"
   ]
  },
  {
   "cell_type": "markdown",
   "metadata": {},
   "source": [
    "Si eres buen observador podrás notar que solamente la última línea de cada celda se imprime a pantalla al ejecutarse. Se puede suprimir esta impresión a pantalla con un semicolon."
   ]
  },
  {
   "cell_type": "code",
   "execution_count": null,
   "metadata": {},
   "outputs": [],
   "source": [
    "1 + 1\n",
    "2 + 2;"
   ]
  },
  {
   "cell_type": "markdown",
   "metadata": {},
   "source": [
    "### ¿Cómo buscar información sobre las funciones?\n",
    "\n",
    "¡Igualito que en la REPL!\n"
   ]
  },
  {
   "cell_type": "code",
   "execution_count": null,
   "metadata": {},
   "outputs": [],
   "source": [
    "?println"
   ]
  },
  {
   "cell_type": "markdown",
   "metadata": {},
   "source": [
    "### ¿Cómo usar comandos del shell?\n",
    "\n",
    "¡Lo mismo!\n"
   ]
  },
  {
   "cell_type": "code",
   "execution_count": null,
   "metadata": {},
   "outputs": [],
   "source": [
    ";ls"
   ]
  },
  {
   "cell_type": "code",
   "execution_count": null,
   "metadata": {},
   "outputs": [],
   "source": [
    ";pwd"
   ]
  },
  {
   "cell_type": "markdown",
   "metadata": {
    "collapsed": true
   },
   "source": [
    "Como ya podrás imaginarte, todos los comandos que hemos usados en la REPL se podrán usar acá....\n",
    "\n",
    "Para una referencia completa sobre lo que se puede hacer en esta interfaz, como siempre, ver la [documentación oficial](https://jupyter-notebook.readthedocs.io/en/stable/examples/Notebook/Notebook%20Basics.html#)"
   ]
  },
  {
   "cell_type": "code",
   "execution_count": null,
   "metadata": {},
   "outputs": [],
   "source": []
  }
 ],
 "metadata": {
  "@webio": {
   "lastCommId": "0760b169146743db9e2bbd6a87a78b81",
   "lastKernelId": "a82a971d-3d34-4ef0-ae3a-d79f644eaa73"
  },
  "kernelspec": {
   "display_name": "Julia 1.0.2",
   "language": "julia",
   "name": "julia-1.0"
  },
  "language_info": {
   "file_extension": ".jl",
   "mimetype": "application/julia",
   "name": "julia",
   "version": "1.0.2"
  }
 },
 "nbformat": 4,
 "nbformat_minor": 2
}
