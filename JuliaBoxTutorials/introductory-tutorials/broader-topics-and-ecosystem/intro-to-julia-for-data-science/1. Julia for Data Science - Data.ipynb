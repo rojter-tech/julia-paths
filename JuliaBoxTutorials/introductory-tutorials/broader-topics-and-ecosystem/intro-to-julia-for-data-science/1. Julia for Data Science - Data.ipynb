{
 "cells": [
  {
   "cell_type": "markdown",
   "metadata": {},
   "source": [
    "# Julia for Data Science\n",
    "Prepared by [@nassarhuda](https://github.com/nassarhuda)! 😃\n",
    "\n",
    "In this tutorial, we will discuss why *Julia* is the tool you want to use for your data science applications.\n",
    "\n",
    "We will cover the following:\n",
    "* **Data**\n",
    "* Data processing\n",
    "* Visualization\n",
    "\n",
    "### Data: Build a strong relationship with your data.\n",
    "Every data science task has one main ingredient, the _data_! Most likely, you want to use your data to learn something new. But before the _new_ part, what about the data you already have? Let's make sure you can **read** it, **store** it, and **understand** it before you start using it.\n",
    "\n",
    "Julia makes this step really easy with data structures and packages to process the data, as well as, existing functions that are readily usable on your data. \n",
    "\n",
    "The goal of this first part is get you acquainted with some Julia's tools to manage your data."
   ]
  },
  {
   "cell_type": "markdown",
   "metadata": {},
   "source": [
    "First, let's download a csv file from github that we can work with.\n",
    "\n",
    "Note: `download` depends on external tools such as curl, wget or fetch. So you must have one of these."
   ]
  },
  {
   "cell_type": "code",
   "execution_count": 27,
   "metadata": {},
   "outputs": [],
   "source": [
    "using DataFrames, CSV, DelimitedFiles"
   ]
  },
  {
   "cell_type": "code",
   "execution_count": 2,
   "metadata": {},
   "outputs": [
    {
     "data": {
      "text/plain": [
       "\"programming_languages.csv\""
      ]
     },
     "execution_count": 2,
     "metadata": {},
     "output_type": "execute_result"
    }
   ],
   "source": [
    "file_url =\"https://raw.githubusercontent.com/nassarhuda/easy_data/master/programming_languages.csv\"\n",
    "file_name = \"programming_languages.csv\""
   ]
  },
  {
   "cell_type": "code",
   "execution_count": 3,
   "metadata": {},
   "outputs": [
    {
     "name": "stderr",
     "output_type": "stream",
     "text": [
      "\n"
     ]
    },
    {
     "data": {
      "text/plain": [
       "\"programming_languages.csv\""
      ]
     },
     "execution_count": 3,
     "metadata": {},
     "output_type": "execute_result"
    }
   ],
   "source": [
    "P = download(file_url,file_name)"
   ]
  },
  {
   "cell_type": "markdown",
   "metadata": {},
   "source": [
    "We can use shell commands like `ls` in Julia by preceding them with a semicolon."
   ]
  },
  {
   "cell_type": "code",
   "execution_count": 4,
   "metadata": {},
   "outputs": [
    {
     "name": "stdout",
     "output_type": "stream",
     "text": [
      "1. Julia for Data Science - Data.ipynb\n",
      "2. Julia for Data Science - Algorithms.ipynb\n",
      "3. Julia for Data Science - Plotting.ipynb\n",
      "LICENSE.md\n",
      "programming_languages.csv\n",
      "programminglanguages.csv\n",
      "README.md\n",
      "short-version\n"
     ]
    }
   ],
   "source": [
    ";ls"
   ]
  },
  {
   "cell_type": "code",
   "execution_count": 6,
   "metadata": {},
   "outputs": [
    {
     "data": {
      "text/plain": [
       "\"/mnt/rOjterQsync/Programmering/Jupyter/datasets/Julia/JuliaBoxTutorials/introductory-tutorials/broader-topics-and-ecosystem/intro-to-julia-for-data-science\""
      ]
     },
     "execution_count": 6,
     "metadata": {},
     "output_type": "execute_result"
    }
   ],
   "source": [
    "pwd()"
   ]
  },
  {
   "cell_type": "markdown",
   "metadata": {},
   "source": [
    "And there's the *.csv file we downloaded!\n",
    "\n",
    "By default, `readcsv` will fill an array with the data stored in the input .csv file. If we set the keyword argument `header` to `true`, we'll get a second output array."
   ]
  },
  {
   "cell_type": "code",
   "execution_count": 41,
   "metadata": {},
   "outputs": [
    {
     "data": {
      "text/plain": [
       "73×2 Array{Any,2}:\n",
       " 1951  \"Regional Assembly Language\"\n",
       " 1952  \"Autocode\"                  \n",
       " 1954  \"IPL\"                       \n",
       " 1955  \"FLOW-MATIC\"                \n",
       " 1957  \"FORTRAN\"                   \n",
       " 1957  \"COMTRAN\"                   \n",
       " 1958  \"LISP\"                      \n",
       " 1958  \"ALGOL 58\"                  \n",
       " 1959  \"FACT\"                      \n",
       " 1959  \"COBOL\"                     \n",
       " 1959  \"RPG\"                       \n",
       " 1962  \"APL\"                       \n",
       " 1962  \"Simula\"                    \n",
       "    ⋮                              \n",
       " 2003  \"Scala\"                     \n",
       " 2005  \"F#\"                        \n",
       " 2006  \"PowerShell\"                \n",
       " 2007  \"Clojure\"                   \n",
       " 2009  \"Go\"                        \n",
       " 2010  \"Rust\"                      \n",
       " 2011  \"Dart\"                      \n",
       " 2011  \"Kotlin\"                    \n",
       " 2011  \"Red\"                       \n",
       " 2011  \"Elixir\"                    \n",
       " 2012  \"Julia\"                     \n",
       " 2014  \"Swift\"                     "
      ]
     },
     "execution_count": 41,
     "metadata": {},
     "output_type": "execute_result"
    }
   ],
   "source": [
    "csv_path = string(pwd(),\"/\",file_name)\n",
    "# header=true\n",
    "P = readdlm(csv_path,',')\n",
    "H = P[1,:]\n",
    "P = P[2:end,:]"
   ]
  },
  {
   "cell_type": "code",
   "execution_count": 42,
   "metadata": {},
   "outputs": [
    {
     "data": {
      "text/plain": [
       "73×2 Array{Any,2}:\n",
       " 1951  \"Regional Assembly Language\"\n",
       " 1952  \"Autocode\"                  \n",
       " 1954  \"IPL\"                       \n",
       " 1955  \"FLOW-MATIC\"                \n",
       " 1957  \"FORTRAN\"                   \n",
       " 1957  \"COMTRAN\"                   \n",
       " 1958  \"LISP\"                      \n",
       " 1958  \"ALGOL 58\"                  \n",
       " 1959  \"FACT\"                      \n",
       " 1959  \"COBOL\"                     \n",
       " 1959  \"RPG\"                       \n",
       " 1962  \"APL\"                       \n",
       " 1962  \"Simula\"                    \n",
       "    ⋮                              \n",
       " 2003  \"Scala\"                     \n",
       " 2005  \"F#\"                        \n",
       " 2006  \"PowerShell\"                \n",
       " 2007  \"Clojure\"                   \n",
       " 2009  \"Go\"                        \n",
       " 2010  \"Rust\"                      \n",
       " 2011  \"Dart\"                      \n",
       " 2011  \"Kotlin\"                    \n",
       " 2011  \"Red\"                       \n",
       " 2011  \"Elixir\"                    \n",
       " 2012  \"Julia\"                     \n",
       " 2014  \"Swift\"                     "
      ]
     },
     "execution_count": 42,
     "metadata": {},
     "output_type": "execute_result"
    }
   ],
   "source": [
    "P"
   ]
  },
  {
   "cell_type": "code",
   "execution_count": 43,
   "metadata": {},
   "outputs": [
    {
     "data": {
      "text/plain": [
       "2-element Array{Any,1}:\n",
       " \"year\"    \n",
       " \"language\""
      ]
     },
     "execution_count": 43,
     "metadata": {},
     "output_type": "execute_result"
    }
   ],
   "source": [
    "H"
   ]
  },
  {
   "cell_type": "markdown",
   "metadata": {},
   "source": [
    "Here we write our first small function. <br>\n",
    "Now you can answer questions such as, \"when was language X created?\""
   ]
  },
  {
   "cell_type": "code",
   "execution_count": 44,
   "metadata": {},
   "outputs": [
    {
     "data": {
      "text/plain": [
       "Array{Any,2}"
      ]
     },
     "execution_count": 44,
     "metadata": {},
     "output_type": "execute_result"
    }
   ],
   "source": [
    "typeof(P)"
   ]
  },
  {
   "cell_type": "code",
   "execution_count": 45,
   "metadata": {},
   "outputs": [
    {
     "data": {
      "text/plain": [
       "language_created_year (generic function with 1 method)"
      ]
     },
     "execution_count": 45,
     "metadata": {},
     "output_type": "execute_result"
    }
   ],
   "source": [
    "function language_created_year(P,language::String)\n",
    "    loc = findfirst(P[:,2].==language)\n",
    "    return P[loc,1]\n",
    "end"
   ]
  },
  {
   "cell_type": "code",
   "execution_count": 46,
   "metadata": {},
   "outputs": [
    {
     "data": {
      "text/plain": [
       "2012"
      ]
     },
     "execution_count": 46,
     "metadata": {},
     "output_type": "execute_result"
    }
   ],
   "source": [
    "language_created_year(P,\"Julia\")"
   ]
  },
  {
   "cell_type": "code",
   "execution_count": 47,
   "metadata": {},
   "outputs": [
    {
     "ename": "ArgumentError",
     "evalue": "ArgumentError: `nothing` should not be printed; use `show`, `repr`, or custom output instead.",
     "output_type": "error",
     "traceback": [
      "ArgumentError: `nothing` should not be printed; use `show`, `repr`, or custom output instead.",
      "",
      "Stacktrace:",
      " [1] print(::Base.GenericIOBuffer{Array{UInt8,1}}, ::Nothing) at ./show.jl:566",
      " [2] print_to_string(::String, ::Vararg{Any,N} where N) at ./strings/io.jl:123",
      " [3] string at ./strings/io.jl:156 [inlined]",
      " [4] to_index(::Nothing) at ./indices.jl:270",
      " [5] to_index(::Array{Any,2}, ::Nothing) at ./indices.jl:247",
      " [6] to_indices at ./indices.jl:298 [inlined]",
      " [7] to_indices at ./indices.jl:294 [inlined]",
      " [8] getindex(::Array{Any,2}, ::Nothing, ::Int64) at ./abstractarray.jl:927",
      " [9] language_created_year(::Array{Any,2}, ::String) at ./In[45]:3",
      " [10] top-level scope at In[47]:1"
     ]
    }
   ],
   "source": [
    "language_created_year(P,\"julia\")"
   ]
  },
  {
   "cell_type": "markdown",
   "metadata": {},
   "source": [
    "As expected, this will not return what you want, but thankfully, string manipulation is really easy in Julia!"
   ]
  },
  {
   "cell_type": "code",
   "execution_count": 48,
   "metadata": {},
   "outputs": [
    {
     "data": {
      "text/plain": [
       "2012"
      ]
     },
     "execution_count": 48,
     "metadata": {},
     "output_type": "execute_result"
    }
   ],
   "source": [
    "function language_created_year_v2(P,language::String)\n",
    "    loc = findfirst(lowercase.(P[:,2]).==lowercase.(language))\n",
    "    return P[loc,1]\n",
    "end\n",
    "language_created_year_v2(P,\"julia\")"
   ]
  },
  {
   "cell_type": "code",
   "execution_count": 55,
   "metadata": {},
   "outputs": [
    {
     "name": "stdout",
     "output_type": "stream",
     "text": [
      "year,language\n",
      "1951,Regional Assembly Language\n",
      "1952,Autocode\n",
      "1954,IPL\n",
      "1955,FLOW-MATIC\n",
      "1957,FORTRAN\n",
      "1957,COMTRAN\n",
      "1958,LISP\n",
      "1958,ALGOL 58\n",
      "1959,FACT\n"
     ]
    }
   ],
   "source": [
    ";head -10 $file_name"
   ]
  },
  {
   "cell_type": "markdown",
   "metadata": {},
   "source": [
    "**Reading and writing to files is really easy in Julia.** <br>\n",
    "\n",
    "You can use different delimiters with the function `readdlm` (`readcsv` is just an instance of `readdlm`). <br>\n",
    "\n",
    "To write to files, we can use `writecsv` or `writedlm`. <br>\n",
    "\n",
    "Let's write this same data to a file with a different delimiter."
   ]
  },
  {
   "cell_type": "code",
   "execution_count": 56,
   "metadata": {},
   "outputs": [],
   "source": [
    "writedlm(\"programming_languages_data.txt\", P, '-')"
   ]
  },
  {
   "cell_type": "markdown",
   "metadata": {},
   "source": [
    "We can now check that this worked using a shell command to glance at the file,"
   ]
  },
  {
   "cell_type": "code",
   "execution_count": 57,
   "metadata": {},
   "outputs": [
    {
     "name": "stdout",
     "output_type": "stream",
     "text": [
      "1951-Regional Assembly Language\n",
      "1952-Autocode\n",
      "1954-IPL\n",
      "1955-\"FLOW-MATIC\"\n",
      "1957-FORTRAN\n",
      "1957-COMTRAN\n",
      "1958-LISP\n",
      "1958-ALGOL 58\n",
      "1959-FACT\n",
      "1959-COBOL\n"
     ]
    }
   ],
   "source": [
    ";head -10 programming_languages_data.txt"
   ]
  },
  {
   "cell_type": "markdown",
   "metadata": {},
   "source": [
    "and also check that we can use `readdlm` to read our new text file correctly."
   ]
  },
  {
   "cell_type": "code",
   "execution_count": 62,
   "metadata": {},
   "outputs": [],
   "source": [
    "P_new_delim = readdlm(\"programming_languages_data.txt\", '-');\n",
    "@assert (P == P_new_delim)"
   ]
  },
  {
   "cell_type": "markdown",
   "metadata": {},
   "source": [
    "### Dictionaries\n",
    "Let's try to store the above data in a dictionary format!\n",
    "\n",
    "First, let's initialize an empty dictionary"
   ]
  },
  {
   "cell_type": "code",
   "execution_count": 63,
   "metadata": {},
   "outputs": [
    {
     "data": {
      "text/plain": [
       "Dict{Integer,Array{String,1}} with 0 entries"
      ]
     },
     "execution_count": 63,
     "metadata": {},
     "output_type": "execute_result"
    }
   ],
   "source": [
    "dict = Dict{Integer,Vector{String}}()"
   ]
  },
  {
   "cell_type": "markdown",
   "metadata": {},
   "source": [
    "Here we told Julia that we want `dict` to only accept integers as keys and vectors of strings as values.\n",
    "\n",
    "However, we could have initialized an empty dictionary without providing this information (depending on our application)."
   ]
  },
  {
   "cell_type": "code",
   "execution_count": 64,
   "metadata": {},
   "outputs": [
    {
     "data": {
      "text/plain": [
       "Dict{Any,Any} with 0 entries"
      ]
     },
     "execution_count": 64,
     "metadata": {},
     "output_type": "execute_result"
    }
   ],
   "source": [
    "dict2 = Dict()"
   ]
  },
  {
   "cell_type": "markdown",
   "metadata": {},
   "source": [
    "This dictionary takes keys and values of any type!\n",
    "\n",
    "Now, let's populate the dictionary with years as keys and vectors that hold all the programming languages created in each year as their values."
   ]
  },
  {
   "cell_type": "code",
   "execution_count": 65,
   "metadata": {},
   "outputs": [],
   "source": [
    "for i = 1:size(P,1)\n",
    "    year,lang = P[i,:]\n",
    "    \n",
    "    if year in keys(dict)\n",
    "        dict[year] = push!(dict[year],lang)\n",
    "    else\n",
    "        dict[year] = [lang]\n",
    "    end\n",
    "\n",
    "end"
   ]
  },
  {
   "cell_type": "markdown",
   "metadata": {},
   "source": [
    "Now you can pick whichever year you want and find what programming languages were invented in that year"
   ]
  },
  {
   "cell_type": "code",
   "execution_count": 66,
   "metadata": {},
   "outputs": [
    {
     "data": {
      "text/plain": [
       "2-element Array{String,1}:\n",
       " \"Groovy\"\n",
       " \"Scala\" "
      ]
     },
     "execution_count": 66,
     "metadata": {},
     "output_type": "execute_result"
    }
   ],
   "source": [
    "dict[2003]"
   ]
  },
  {
   "cell_type": "markdown",
   "metadata": {},
   "source": [
    "### DataFrames! \n",
    "*Shout out to R fans!*\n",
    "One other way to play around with data in Julia is to use a DataFrame.\n",
    "\n",
    "This requires loading the `DataFrames` package"
   ]
  },
  {
   "cell_type": "code",
   "execution_count": null,
   "metadata": {},
   "outputs": [],
   "source": [
    "using DataFrames\n",
    "df = DataFrame(year = P[:,1], language = P[:,2])"
   ]
  },
  {
   "cell_type": "markdown",
   "metadata": {},
   "source": [
    "You can access columns by header name, or column index.\n",
    "\n",
    "In this case, `df[1]` is equivalent to `df[:year]`.\n",
    "\n",
    "Note that if we want to access columns by header name, we precede the header name with a colon! In Julia, this means that the header names are treated as *symbols*."
   ]
  },
  {
   "cell_type": "code",
   "execution_count": null,
   "metadata": {},
   "outputs": [],
   "source": [
    "df[:year]"
   ]
  },
  {
   "cell_type": "markdown",
   "metadata": {},
   "source": [
    "**`DataFrames` provides some handy features when dealing with data**\n",
    "\n",
    "First, it uses the \"missing\" type."
   ]
  },
  {
   "cell_type": "code",
   "execution_count": null,
   "metadata": {},
   "outputs": [],
   "source": [
    "a = missing\n",
    "typeof(a)"
   ]
  },
  {
   "cell_type": "markdown",
   "metadata": {},
   "source": [
    "Let's see what happens when we try to add a \"missing\" type to a number."
   ]
  },
  {
   "cell_type": "code",
   "execution_count": null,
   "metadata": {},
   "outputs": [],
   "source": [
    "a + 1"
   ]
  },
  {
   "cell_type": "markdown",
   "metadata": {},
   "source": [
    "`DataFrames` provides the `describe` can give you quick statistics about each column in your dataframe "
   ]
  },
  {
   "cell_type": "code",
   "execution_count": null,
   "metadata": {},
   "outputs": [],
   "source": [
    "describe(df)"
   ]
  },
  {
   "cell_type": "markdown",
   "metadata": {},
   "source": [
    "### RDatasets\n",
    "\n",
    "We can use RDatasets to play around with pre-existing datasets"
   ]
  },
  {
   "cell_type": "code",
   "execution_count": null,
   "metadata": {},
   "outputs": [],
   "source": [
    "using RDatasets\n",
    "iris = dataset(\"datasets\", \"iris\")"
   ]
  },
  {
   "cell_type": "markdown",
   "metadata": {},
   "source": [
    "Note that data loaded with `dataset` is stored as a DataFrame. 😃"
   ]
  },
  {
   "cell_type": "code",
   "execution_count": null,
   "metadata": {},
   "outputs": [],
   "source": [
    "typeof(iris) "
   ]
  },
  {
   "cell_type": "markdown",
   "metadata": {},
   "source": [
    "The summary we get from `describe` on `iris` gives us a lot more information than the summary on `df`!"
   ]
  },
  {
   "cell_type": "code",
   "execution_count": null,
   "metadata": {},
   "outputs": [],
   "source": [
    "describe(iris)"
   ]
  },
  {
   "cell_type": "markdown",
   "metadata": {},
   "source": [
    "### `DataArrays`\n",
    "\n",
    "You can create `DataArray`s as follows"
   ]
  },
  {
   "cell_type": "code",
   "execution_count": null,
   "metadata": {},
   "outputs": [],
   "source": [
    "using DataArrays"
   ]
  },
  {
   "cell_type": "code",
   "execution_count": null,
   "metadata": {},
   "outputs": [],
   "source": [
    "foods = @data([\"apple\", \"cucumber\", \"tomato\", \"banana\"])\n",
    "calories = @data([missing,47,22,105])\n",
    "typeof(calories)"
   ]
  },
  {
   "cell_type": "code",
   "execution_count": null,
   "metadata": {},
   "outputs": [],
   "source": [
    "mean(calories)"
   ]
  },
  {
   "cell_type": "markdown",
   "metadata": {},
   "source": [
    "Missing values ruin everything! 😑\n",
    "\n",
    "Luckily we can ignore them with `skipmissing`!"
   ]
  },
  {
   "cell_type": "code",
   "execution_count": null,
   "metadata": {},
   "outputs": [],
   "source": [
    "mean(skipmissing(calories))"
   ]
  },
  {
   "cell_type": "markdown",
   "metadata": {},
   "source": [
    "Oh WAIT! Detour. How did I get the emoji there?\n",
    "\n",
    "Try this out:\n",
    "\n",
    "\\:expressionless: + <TAB>"
   ]
  },
  {
   "cell_type": "code",
   "execution_count": null,
   "metadata": {},
   "outputs": [],
   "source": [
    "😑 = 0 # expressionless\n",
    "😀 = 1\n",
    "😞 = -1"
   ]
  },
  {
   "cell_type": "markdown",
   "metadata": {},
   "source": [
    "*Back to missing values*\n",
    "\n",
    "In fact, `describe' will drop these values too"
   ]
  },
  {
   "cell_type": "code",
   "execution_count": null,
   "metadata": {},
   "outputs": [],
   "source": [
    "describe(calories)"
   ]
  },
  {
   "cell_type": "markdown",
   "metadata": {},
   "source": [
    "Note that `typeof(calories)` is `DataArrays.DataArray{String,1}`\n",
    "\n",
    "We can easily convert it to a regular julia vector. Let's try this using `convert`:"
   ]
  },
  {
   "cell_type": "code",
   "execution_count": null,
   "metadata": {},
   "outputs": [],
   "source": [
    "newcalories = convert(Vector,calories)"
   ]
  },
  {
   "cell_type": "markdown",
   "metadata": {},
   "source": [
    "This doesn't work because we didn' indicate how to handle the NA values!"
   ]
  },
  {
   "cell_type": "code",
   "execution_count": null,
   "metadata": {},
   "outputs": [],
   "source": [
    "newcalories = convert(Vector,calories,0) # i.e. replace every missing with the value 0"
   ]
  },
  {
   "cell_type": "code",
   "execution_count": null,
   "metadata": {},
   "outputs": [],
   "source": [
    "prices = @data([0.85,1.6,0.8,0.6,])"
   ]
  },
  {
   "cell_type": "code",
   "execution_count": null,
   "metadata": {},
   "outputs": [],
   "source": [
    "dataframe_calories = DataFrame(item=foods,calories=calories)"
   ]
  },
  {
   "cell_type": "code",
   "execution_count": null,
   "metadata": {},
   "outputs": [],
   "source": [
    "dataframe_prices = DataFrame(item=foods,price=prices)"
   ]
  },
  {
   "cell_type": "markdown",
   "metadata": {},
   "source": [
    "We can also `join` two dataframes together"
   ]
  },
  {
   "cell_type": "code",
   "execution_count": null,
   "metadata": {},
   "outputs": [],
   "source": [
    "DF = join(dataframe_calories,dataframe_prices,on=:item)"
   ]
  },
  {
   "cell_type": "markdown",
   "metadata": {},
   "source": [
    "### FileIO"
   ]
  },
  {
   "cell_type": "code",
   "execution_count": null,
   "metadata": {},
   "outputs": [],
   "source": [
    "using FileIO\n",
    "julialogo = download(\"https://avatars0.githubusercontent.com/u/743164?s=200&v=4\",\"julialogo.png\")"
   ]
  },
  {
   "cell_type": "markdown",
   "metadata": {},
   "source": [
    "Again, let's check that this download worked!"
   ]
  },
  {
   "cell_type": "code",
   "execution_count": null,
   "metadata": {},
   "outputs": [],
   "source": [
    ";ls"
   ]
  },
  {
   "cell_type": "markdown",
   "metadata": {},
   "source": [
    "Next, let's load the Julia logo, stored as a .png file"
   ]
  },
  {
   "cell_type": "code",
   "execution_count": null,
   "metadata": {},
   "outputs": [],
   "source": [
    "X1 = load(\"julialogo.png\")"
   ]
  },
  {
   "cell_type": "markdown",
   "metadata": {},
   "source": [
    "We see below that Julia stores this logo as an array of colors."
   ]
  },
  {
   "cell_type": "code",
   "execution_count": null,
   "metadata": {},
   "outputs": [],
   "source": [
    "@show typeof(X1);\n",
    "@show size(X1);"
   ]
  },
  {
   "cell_type": "markdown",
   "metadata": {},
   "source": [
    "### File types\n",
    "In Julia, many file types are supported so you do not have to transfer a file you from another language to a text file before you read it.\n",
    "\n",
    "*Some packages that achieve this:*\n",
    "MAT CSV NPZ JLD FASTAIO\n",
    "\n",
    "\n",
    "Let's try using MAT to write a file that stores a matrix."
   ]
  },
  {
   "cell_type": "code",
   "execution_count": null,
   "metadata": {},
   "outputs": [],
   "source": [
    "using MAT"
   ]
  },
  {
   "cell_type": "code",
   "execution_count": null,
   "metadata": {},
   "outputs": [],
   "source": [
    "A = rand(5,5)\n",
    "matfile = matopen(\"densematrix.mat\", \"w\") \n",
    "write(matfile, \"A\", A)\n",
    "close(matfile)"
   ]
  },
  {
   "cell_type": "markdown",
   "metadata": {},
   "source": [
    "Now try opening densematrix.mat with MATLAB!"
   ]
  },
  {
   "cell_type": "code",
   "execution_count": null,
   "metadata": {},
   "outputs": [],
   "source": [
    "newfile = matopen(\"densematrix.mat\")\n",
    "read(newfile,\"A\")"
   ]
  },
  {
   "cell_type": "code",
   "execution_count": null,
   "metadata": {},
   "outputs": [],
   "source": [
    "names(newfile)"
   ]
  },
  {
   "cell_type": "code",
   "execution_count": null,
   "metadata": {},
   "outputs": [],
   "source": [
    "close(newfile)"
   ]
  },
  {
   "cell_type": "code",
   "execution_count": null,
   "metadata": {},
   "outputs": [],
   "source": []
  }
 ],
 "metadata": {
  "kernelspec": {
   "display_name": "Julia 1.1.1",
   "language": "julia",
   "name": "julia-1.1"
  },
  "language_info": {
   "file_extension": ".jl",
   "mimetype": "application/julia",
   "name": "julia",
   "version": "1.1.1"
  }
 },
 "nbformat": 4,
 "nbformat_minor": 2
}
