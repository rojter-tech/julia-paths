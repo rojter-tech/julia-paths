{
 "cells": [
  {
   "cell_type": "code",
   "execution_count": null,
   "metadata": {},
   "outputs": [],
   "source": [
    "# Setting up a custom stylesheet in IJulia\n",
    "file = open(\"style.css\") # A .css file in the same folder as this notebook file\n",
    "styl = read(file,String) # Read the file\n",
    "HTML(\"$styl\") # Output as HTML"
   ]
  },
  {
   "cell_type": "markdown",
   "metadata": {},
   "source": [
    "<h1> Simple plots with the Plots package </h1>"
   ]
  },
  {
   "cell_type": "markdown",
   "metadata": {},
   "source": [
    "<h2>In this lecture</h2>\n",
    "\n",
    "- [Outcome](#Outcome)\n",
    "- [Load the Plots package into a current notebook](#Load-the-Plots-package-into-a-current-notebook)\n",
    "- [Activate the GR backend for use with Plots](#Activate-the-GR-backend-for-use-with-Plots)\n",
    "- [Plot a curve from coordinate data](#Plot-a-curve-from-coordinate-data)\n",
    "- [Tweak the current plot](#Tweak-the-current-plot)\n",
    "- [Save the current plot](#Save-the-current-plot)\n"
   ]
  },
  {
   "cell_type": "markdown",
   "metadata": {},
   "source": [
    "[Back to the top](#In-this-lecture)"
   ]
  },
  {
   "cell_type": "markdown",
   "metadata": {},
   "source": [
    "<h2>Outcome</h2>\n",
    "\n",
    "After this lecture, you will be able to\n",
    "- Explain how the Plots package relates to other plotting projects in Julia\n",
    "- Load the Plots package into a current notebook and the GR backend for use with Plots\n",
    "- Plot coordinate data as lines in the default style supplied by Plots\n",
    "- Modify the current plot style: replace lines with markers, add title and labels, remove legend and grid lines\n",
    "- Save the current plot in .png and .pdf format\n",
    "\n",
    "[Back to the top](#In-this-lecture)"
   ]
  },
  {
   "cell_type": "markdown",
   "metadata": {},
   "source": [
    "To start, we load the data that we saved last time (the *converted* data, of course), and we create the x- and y-coordinates of the points we want to plot. Those are of course just columns 1 and 2 of the data.\n",
    "\n",
    "We use array slicing to extract the data we need---note the use of  the ``:`` operator"
   ]
  },
  {
   "cell_type": "code",
   "execution_count": null,
   "metadata": {},
   "outputs": [],
   "source": [
    "using DelimitedFiles\n",
    "EVDdata = DelimitedFiles.readdlm(\"wikipediaEVDdatesconverted.csv\", ',')  # don't forget the delimiter!\n",
    "epidays = EVDdata[:, 1]  # Here \":\" means all the entries in all rows of the specified columns\n",
    "allcases = EVDdata[:, 2] # ditto---here, the specified columns is just column 2"
   ]
  },
  {
   "cell_type": "markdown",
   "metadata": {},
   "source": [
    "<h2>Load the Plots package into a current notebook</h2>\n",
    "\n",
    "Julia has quite a few projects on visualising scientific and technical data, and  several of them are concerned mainly with making plots. \n",
    "\n",
    "We choose to offer you the Plots package, together with the GR backend.\n",
    "\n",
    "We load Plots with a simple command. This also works from your own home installation, though  you may have to add the Plots package by issuing ``Pkg.add(\"Plots\")``.\n",
    "\n",
    "WARNING: sadly, one pays substantial compilation cost for Plots. This is being worked on, but for now, the first time you load Plots in a notebook, as well the first plot you make, you'll wait as much as a minute or two."
   ]
  },
  {
   "cell_type": "code",
   "execution_count": null,
   "metadata": {},
   "outputs": [],
   "source": [
    "using Plots   # this loads the Plots package into your current workspace. It may take a few seconds."
   ]
  },
  {
   "cell_type": "markdown",
   "metadata": {},
   "source": [
    "\n",
    "[Back to the top](#In-this-lecture)"
   ]
  },
  {
   "cell_type": "markdown",
   "metadata": {},
   "source": [
    "<h2>Activate the GR backend for use with Plots</h2>"
   ]
  },
  {
   "cell_type": "markdown",
   "metadata": {},
   "source": [
    "As I said above, having loaded Plots we need to specify which backend to use. The idea of Plots is that we specify a plot with *identical code*, irrrespective of backend. To change backends is then just to run the command for the new backend.\n",
    "\n",
    "However, not all backends do the same things, of course, so some things work better in some back-ends and other things in others. For more information, do consult the Plots homepage at https://juliaplots.github.io . The GR examples are at http://docs.juliaplots.org/latest/examples/gr/ .\n",
    "\n",
    "Here's how to specify GR as the backend for  Plots to use:"
   ]
  },
  {
   "cell_type": "code",
   "execution_count": null,
   "metadata": {},
   "outputs": [],
   "source": [
    "gr()"
   ]
  },
  {
   "cell_type": "markdown",
   "metadata": {},
   "source": [
    "Note that it is enough to use ``gr()``. That is, no arguments are needed. Plots has reasonable default values it uses, but the user can override them. For example, you can  specify a picture size of your own liking."
   ]
  },
  {
   "cell_type": "markdown",
   "metadata": {},
   "source": [
    "[Back to the top](#In-this-lecture)"
   ]
  },
  {
   "cell_type": "markdown",
   "metadata": {},
   "source": [
    "<h2>Plot a curve from coordinate data</h2>\n",
    "\n",
    "For Plots to work as advertised, it must be extremely straightforward to plot the data. And it is:"
   ]
  },
  {
   "cell_type": "code",
   "execution_count": null,
   "metadata": {},
   "outputs": [],
   "source": [
    "plot(epidays, allcases)"
   ]
  },
  {
   "cell_type": "markdown",
   "metadata": {},
   "source": [
    "Hm, not too bad! Good choice of scale for the two axes. A light blue for the curve is not that readable for some people, but it looks pretty. The default is to show a legend but neither title nor axis labels.\n",
    "\n",
    "Plots lives up to its billing---simple to use, good pictures produced."
   ]
  },
  {
   "cell_type": "markdown",
   "metadata": {},
   "source": [
    "[Back to the top](#In-this-lecture)"
   ]
  },
  {
   "cell_type": "markdown",
   "metadata": {},
   "source": [
    "<h2>Tweak the current plot</h2>"
   ]
  },
  {
   "cell_type": "markdown",
   "metadata": {},
   "source": [
    "We choose different attributes by specifying the values of keywords. Plots provides many ways to do this, but I'll show only a few. For more information, see the Plots homepage https://juliaplots.github.io/ .\n",
    "\n",
    "I think the plot would be better if it used symbols for the data points. Let's also omit the line. That means the line type is set to ``scatter``. The keyword for the symbol that is plotted is ``marker``, and I  choose ``diamond`` as its value. Note the use of the colon in the syntax below!"
   ]
  },
  {
   "cell_type": "code",
   "execution_count": null,
   "metadata": {},
   "outputs": [],
   "source": [
    "plot(epidays, allcases, linetype = :scatter, marker = :diamond)"
   ]
  },
  {
   "cell_type": "markdown",
   "metadata": {},
   "source": [
    "We should also add a title and axis labels, and while we're at it we'll turn off the legend. For illustration, I also change the line type and line style so that a gray dotted line is plotted between the diamonds, the the grid off and  I increase the size of the diamonds.\n",
    "\n",
    "For the long command that results, it is a good idea to use white space to break it into logical parts. Note that although visually it looks like several lines, it is just one function call and so in the sense of computer programming it is just one unit of code."
   ]
  },
  {
   "cell_type": "code",
   "execution_count": null,
   "metadata": {},
   "outputs": [],
   "source": [
    "plot(epidays, allcases,   # here are the data to be plotted, below are the attributes\n",
    "title       = \"West African EVD epidemic, total cases\", \n",
    "xlabel    = \"Days since 22 March 2014\",\n",
    "ylabel    = \"Total cases to date (three countries)\",\n",
    "marker  = (:diamond, 8),  # note the use of  parentheses to group the marker attributes into a composite of attributes \n",
    "                          # and because we plot both the path and the points, we use plot rather than scatter\n",
    "line         = (:path, \"gray\"),   # line attributes likewise put together as one unit by the use of parantheses\n",
    "legend   = false,\n",
    "grid        = false)    \n",
    "\n",
    "# A nice thing: this layout permits us add comments to individual parts of  the function call. \n",
    "# Also, notice that it helps readibility to line up vertically all the assignment \"=\" signs"
   ]
  },
  {
   "cell_type": "markdown",
   "metadata": {},
   "source": [
    "[Back to the top](#In-this-lecture)"
   ]
  },
  {
   "cell_type": "markdown",
   "metadata": {},
   "source": [
    "<h2>Save the current plot</h2>\n",
    "\n",
    "Of course, one needs to be able to save plots from the screen in a format to be used elsewhere. For documents and presentations, pdf is a good format, while for websites .png is often preferred. \n",
    "\n",
    "The function to use is savefig(). Plots will follow the extension you provide for the filename. If you omit the filename, the defaults kick in and Plots will use png as the format and add .png as the file extension.\n",
    "\n",
    "All three cases are illustrated below. After you've saved the figures, check in your folder that they are there and work as advertised!"
   ]
  },
  {
   "cell_type": "code",
   "execution_count": null,
   "metadata": {},
   "outputs": [],
   "source": [
    "savefig(\"WAfricanEVD_noformatspecified\")             # no extension, so plot saves it as .png  \n",
    "savefig(\"WAfricanEVD.pdf\")      # Saved as a pdf\n",
    "savefig(\"WAfricanEVD.png\")     # Saved png format"
   ]
  },
  {
   "cell_type": "markdown",
   "metadata": {},
   "source": [
    "[Back to the top](#In-this-lecture)"
   ]
  }
 ],
 "metadata": {
  "hide_input": false,
  "kernelspec": {
   "display_name": "Julia 1.0.0",
   "language": "julia",
   "name": "julia-1.0"
  },
  "language_info": {
   "file_extension": ".jl",
   "mimetype": "application/julia",
   "name": "julia",
   "version": "1.0.0"
  },
  "varInspector": {
   "cols": {
    "lenName": 16,
    "lenType": 16,
    "lenVar": 40
   },
   "kernels_config": {
    "python": {
     "delete_cmd_postfix": "",
     "delete_cmd_prefix": "del ",
     "library": "var_list.py",
     "varRefreshCmd": "print(var_dic_list())"
    },
    "r": {
     "delete_cmd_postfix": ") ",
     "delete_cmd_prefix": "rm(",
     "library": "var_list.r",
     "varRefreshCmd": "cat(var_dic_list()) "
    }
   },
   "types_to_exclude": [
    "module",
    "function",
    "builtin_function_or_method",
    "instance",
    "_Feature"
   ],
   "window_display": false
  }
 },
 "nbformat": 4,
 "nbformat_minor": 1
}
