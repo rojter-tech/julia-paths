{
 "cells": [
  {
   "cell_type": "code",
   "execution_count": null,
   "metadata": {},
   "outputs": [],
   "source": [
    "# Setting up a custom stylesheet in IJulia\n",
    "file = open(\"style.css\") # A .css file in the same folder as this notebook file\n",
    "styl = read(file,String) # Read the file\n",
    "HTML(\"$styl\") # Output as HTML"
   ]
  },
  {
   "cell_type": "markdown",
   "metadata": {},
   "source": [
    "<h1> \"for\" loops and date-time formats: converting string values into usable time data </h1>"
   ]
  },
  {
   "cell_type": "markdown",
   "metadata": {},
   "source": [
    "<h2>In this lecture</h2>\n",
    "\n",
    "- [Outcome](#Outcome)\n",
    "- [Converting a date string to DateTime format](#Converting-a-date-string-to-DateTime-format)\n",
    "- [``for`` loops](#\"for\"-loops)\n",
    "- [Converting column 1 DateTime type](#Converting-column-1-DateTime-type)\n",
    "- [Creating data giving time in days since 22 March 2014](#Creating-data-giving-time-in-days-since-22-March-2014)\n",
    "- [Exporting the converted data](#Exporting-the-converted-data)"
   ]
  },
  {
   "cell_type": "markdown",
   "metadata": {},
   "source": [
    "[Back to the top](#In-this-lecture)"
   ]
  },
  {
   "cell_type": "markdown",
   "metadata": {},
   "source": [
    "<h2>Outcome</h2>\n",
    "\n",
    "After this lecture, you will be able to\n",
    "- Convert a string with date data to Julia's DateTime format\n",
    "- Use ``Dates.datetime2rata()`` to calculate the number of days between two DateTime dates\n",
    "- Use a ``for`` loop to convert the dates of the epidemic data to days since 22 March 2014\n",
    "- Use ``writedlm()`` to save the converted data as .csv file\n",
    "\n",
    "[Back to the top](#In-this-lecture)"
   ]
  },
  {
   "cell_type": "markdown",
   "metadata": {},
   "source": [
    "We start by reading in the data:"
   ]
  },
  {
   "cell_type": "code",
   "execution_count": null,
   "metadata": {},
   "outputs": [],
   "source": [
    "using DelimitedFiles\n",
    "wikiEVDraw = DelimitedFiles.readdlm(\"wikipediaEVDraw.csv\", ',')  # "
   ]
  },
  {
   "cell_type": "markdown",
   "metadata": {},
   "source": [
    "[Back to the top](#In-this-lecture)"
   ]
  },
  {
   "cell_type": "markdown",
   "metadata": {},
   "source": [
    "<h2>Converting a date string to DateTime format</h2>\n",
    "\n",
    "Remarkably enough, data on dates and times are among the fiddliest things a data scientist has to deal with. There are a huge number of different ways in which such data are reported, and moreover there are conflicting standards of how to deal irregularities (month lengths aren't all the same, some years are leap years, time zones shift ...).\n",
    "\n",
    "In consequence, every computer language that deals with date-time data has a rich array of  functions to deal with it. In Julia, they are in a package called Dates. Of this package, we will use the functions ``DateTime()`` and ``Dates.datetime2rata()``.\n",
    "\n",
    "Why does one of them use the dot syntax and the other does not? The answer is that when you start up Julia, only a few of the functions in the package Dates are visible. These functions include ``DateTime()`` but not ``datetime2rata()``. However, we are able to access the other functions via the dot notation. We will talk more about packages in the next lecture.\n",
    "\n",
    "The ``DateTime()`` function uses a format string convert string data such as we see in column one into Julia DateTime data.\n",
    "\n",
    "A format string is something one sees in many computation contexts. Here, it tells Julia in what form to expect the data. Looking at the date strings in the data, they have a number for the day, then space, then an abbreviation for the month, then a space, then a number for the year. The appropriate format string is therefore ``\"d u y\"``. These formats have limitations: ``d`` accepts one- and two-digit days (which should always work) and ``y`` accepts two- and four-digit years (which should mostly work), but ``u`` accepts only three-letter abbreviations. Unfortunately, data where the month names otherwise abbreviated are fairly common and they will need a different format string.\n",
    "\n",
    "Here is an example of how the conversion works\n"
   ]
  },
  {
   "cell_type": "code",
   "execution_count": null,
   "metadata": {},
   "outputs": [],
   "source": [
    "using Dates\n",
    "Dates.DateTime(wikiEVDraw[1,1], \"d u y\")"
   ]
  },
  {
   "cell_type": "markdown",
   "metadata": {},
   "source": [
    "[Back to the top](#In-this-lecture)"
   ]
  },
  {
   "cell_type": "markdown",
   "metadata": {},
   "source": [
    "<h2>\"for\" loops</h2>\n",
    "\n",
    "Now we need to do this conversion for every element in column 1 of the matrix. The way to do this is with a ``for`` loop.\n",
    "\n",
    "``for`` loops are extremely important in computing, and in Julia even more so. This is because many items that are vectorised in languages like Matlab and Python are explicitly computed in ``for`` loops in Julia. It may surprise many of you who know about speeding up computations using vectorisation, but it is frequently the case that a loop in Julia runs *faster* than the equivalent vectorised code.\n",
    "\n",
    "``for`` loops have a simple structure: the outside is the ``for ... end`` part and the inside is a code block executed repeatedly. Exactly how many times is determined by the the ``for ... end`` part.\n",
    "\n",
    "In the two examples below, we use ``println()`` to show the value of the variable over which the ``for`` loop runs. Notice that these values do not have to be a sequence of integers.\n"
   ]
  },
  {
   "cell_type": "code",
   "execution_count": null,
   "metadata": {},
   "outputs": [],
   "source": [
    "for num = 3:7    # here, the colon is used to specify a range; we will see this again\n",
    "    println(\"num is now $num\")       # remember that the special character `$` is used for string interpolation\n",
    "end\n",
    "\n",
    "testvalues = [23, \"my name is not a name\", 'ℵ']      # an array with some rather odd elements\n",
    "for x in testvalues    # a for loop can iterate over an array\n",
    "        println(\"The value of x is now $x\")\n",
    "    end"
   ]
  },
  {
   "cell_type": "markdown",
   "metadata": {},
   "source": [
    "It is important to get the first line of a ``for`` loop exactly right. It has the structure \n",
    "\n",
    "\"variable = iterable\"\n",
    "\n",
    "Here, \"iterable\" is anything that is arranged in a sequence. Not all types are, but they certainly include ranges (created with the colon operator ``:``) and any single dimension of an array. The ``=`` is an assignment operator, and it assigns to \"variable\" the values in \"iterable\", one after the other. That is, during each pass through the loop, \"variable\" has the value of exactly one of the items in \"iterable\". "
   ]
  },
  {
   "cell_type": "markdown",
   "metadata": {},
   "source": [
    "[Back to the top](#In-this-lecture)"
   ]
  },
  {
   "cell_type": "markdown",
   "metadata": {
    "collapsed": true
   },
   "source": [
    "<h2>Converting column 1 DateTime type</h2>\n",
    "\n",
    "Now we use a ``for`` loop twice. Firstly we create a one-dimensional array containing just column one---it uses array slicing, for conversion to values with DateTime type.\n"
   ]
  },
  {
   "cell_type": "code",
   "execution_count": null,
   "metadata": {},
   "outputs": [],
   "source": [
    "col1 = wikiEVDraw[:, 1]  # the colon means all the data in the column, the 1 means the first column"
   ]
  },
  {
   "cell_type": "markdown",
   "metadata": {},
   "source": [
    "We use a ``for`` loop to overwrite the data in the variable ``col1`` with converted data using ``DateTime()`` as follows:"
   ]
  },
  {
   "cell_type": "code",
   "execution_count": null,
   "metadata": {},
   "outputs": [],
   "source": [
    "for i = 1:length(col1)\n",
    "    col1[i] = Dates.DateTime(col1[i], \"d u y\")  # note that this replaces the previous value in col1[i]\n",
    "end"
   ]
  },
  {
   "cell_type": "code",
   "execution_count": null,
   "metadata": {},
   "outputs": [],
   "source": [
    "col1  # let's view it!"
   ]
  },
  {
   "cell_type": "markdown",
   "metadata": {},
   "source": [
    "<h2>Creating data giving time in days since 22 March 2014</h2>\n",
    "\n",
    "\n",
    "Finally, we create the variable \"epidays\". This calls to mind the concept of *epidemic day*, which is simply a way to indicate how long an epidemic has been running. We will assume that the epidemic started on 22 March 2014, with a total of 49 cases, because that is the  first date for which we have data.\n",
    "\n",
    "\n",
    "Note that this is in keeping with the spirit of modelling: we are trying to do the best we can with the data we have. Even when we know that the epidemic has been traced back to a single case in early December 2013, that information is not in the table of data before us. We should not forget about it, but neither should we attempt to include it in the data.\n",
    "\n",
    "The function we use is ``Dates.datetime2rata()``. The \"Rata Die days\" format is a specialised date format we will not discuss here (see https://en.wikipedia.org/wiki/Rata_Die for information). The important thing is that this function, applied to a given date, gives the number of days since 1 January of the year 0001. As follows:\n"
   ]
  },
  {
   "cell_type": "code",
   "execution_count": null,
   "metadata": {},
   "outputs": [],
   "source": [
    "Dates.datetime2rata(col1[1])"
   ]
  },
  {
   "cell_type": "markdown",
   "metadata": {},
   "source": [
    "<h2>Exporting the converted data</h2>\n",
    "\n",
    "\n",
    "We create a function to express the number of days since epidemic day zero, which is the value of ``col1[54]`` which is of course 22 March 2014.\n",
    "\n",
    "Then we iterate that function with a for loop over all the elements in col1 to create epidays. Note that the variable epidays is created before the start of the loop. This is, in general, good practice: if you know what array you want to fill, then initialise that array before you start filling it."
   ]
  },
  {
   "cell_type": "code",
   "execution_count": null,
   "metadata": {},
   "outputs": [],
   "source": [
    "dayssincemar22(x) = Dates.datetime2rata(x) - Dates.datetime2rata(col1[54])\n",
    "epidays = Array{Int64}(undef,54)\n",
    "for i = 1:length(col1)\n",
    "    epidays[i] = dayssincemar22(col1[i])\n",
    "end\n"
   ]
  },
  {
   "cell_type": "markdown",
   "metadata": {},
   "source": [
    "Finally, we overwite column 1 of our data array with ``epidays``, and save it using ``writedlm()``. It is a good idea to use a new filename, so that all the work that went into extracting the data from wikipedia is not lost. You never know when you might want the original dates again!"
   ]
  },
  {
   "cell_type": "code",
   "execution_count": null,
   "metadata": {},
   "outputs": [],
   "source": [
    "wikiEVDraw[:, 1] = epidays\n",
    "DelimitedFiles.writedlm(\"wikipediaEVDdatesconverted.csv\", wikiEVDraw, ',')  \n",
    "#         note the delimiter ... the Julia default is a tab; to get .csv, we must specify the comma"
   ]
  },
  {
   "cell_type": "markdown",
   "metadata": {},
   "source": [
    "[Back to the top](#In-this-lecture)"
   ]
  }
 ],
 "metadata": {
  "hide_input": false,
  "kernelspec": {
   "display_name": "Julia 1.0.0",
   "language": "julia",
   "name": "julia-1.0"
  },
  "language_info": {
   "file_extension": ".jl",
   "mimetype": "application/julia",
   "name": "julia",
   "version": "1.0.0"
  },
  "varInspector": {
   "cols": {
    "lenName": 16,
    "lenType": 16,
    "lenVar": 40
   },
   "kernels_config": {
    "python": {
     "delete_cmd_postfix": "",
     "delete_cmd_prefix": "del ",
     "library": "var_list.py",
     "varRefreshCmd": "print(var_dic_list())"
    },
    "r": {
     "delete_cmd_postfix": ") ",
     "delete_cmd_prefix": "rm(",
     "library": "var_list.r",
     "varRefreshCmd": "cat(var_dic_list()) "
    }
   },
   "types_to_exclude": [
    "module",
    "function",
    "builtin_function_or_method",
    "instance",
    "_Feature"
   ],
   "window_display": false
  }
 },
 "nbformat": 4,
 "nbformat_minor": 1
}
